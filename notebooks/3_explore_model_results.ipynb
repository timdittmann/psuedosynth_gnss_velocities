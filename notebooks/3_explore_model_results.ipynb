{
 "cells": [
  {
   "cell_type": "markdown",
   "id": "0a8b9042-54af-41e4-92b4-bff621f0b9af",
   "metadata": {},
   "source": [
    "Explore Results of Model"
   ]
  },
  {
   "cell_type": "markdown",
   "id": "f01c6dcc-0929-49bd-ab5a-547ccc9c6c90",
   "metadata": {},
   "source": [
    "# Number of events\n",
    "# Number of waveforms\n",
    "# Total Number of Samples\n",
    "# F1 Scores"
   ]
  },
  {
   "cell_type": "code",
   "execution_count": 12,
   "id": "22bd3269-74a9-4947-b518-1be6c9f32301",
   "metadata": {},
   "outputs": [],
   "source": [
    "#!/usr/bin/env python3\n",
    "\n",
    "from itertools import product\n",
    "from collections import deque\n",
    "\n",
    "import os\n",
    "import pandas as pd\n",
    "import glob\n",
    "import numpy as np\n",
    "\n",
    "import datetime\n",
    "from scipy import signal\n",
    "import pywt\n",
    "\n",
    "import pyarrow as pa\n",
    "import pyarrow.parquet as pq\n",
    "import json\n",
    "\n",
    "import joblib\n",
    "\n",
    "from sklearn.ensemble import RandomForestClassifier\n",
    "from sklearn.metrics import precision_recall_fscore_support, f1_score\n",
    "from sklearn.metrics import precision_recall_curve\n",
    "from sklearn.metrics import accuracy_score\n",
    "from sklearn.metrics import confusion_matrix\n",
    "\n",
    "import matplotlib.pyplot as plt\n",
    "\n",
    "import os\n",
    "import sys\n",
    "sys.path.insert(0, os.path.abspath('../bin/models'))\n",
    "\n",
    "from nested_xval_utils import *\n",
    "\n",
    "#NGA SYNTHETIC DATA\n",
    "##############\n",
    "#pq_list=[os.path.join(os.path.dirname(os.getcwd()), 'data/feature_sets/',f) for f in os.listdir(os.path.join(os.path.dirname(os.getcwd()), 'data/feature_sets/'))]\n",
    "pq_list=os.listdir('../data/feature_sets/')\n",
    "pq_list=[os.path.join('../data/feature_sets/',f) for f in os.listdir('../data/feature_sets/')]\n",
    "#pd_list=[pd.read_parquet(pq) for pq in pq_list if \".pq\" in pq]\n",
    "meta_list=[read_meta(pq_fs) for pq_fs in pq_list if \".pq\" in pq_fs]\n",
    "meta_df=pd.DataFrame.from_records(meta_list)\n",
    "meta_df_nga=meta_df\n",
    "\n",
    "######################\n",
    "ambient_list= list(meta_df[meta_df.magnitude.isnull()].eq_name.unique())\n",
    "event_list=meta_df[~meta_df.magnitude.isnull()].sort_values(['magnitude'], ascending=False).groupby(\"eq_name\").count().sort_values(['station'], ascending=False).index.tolist()\n",
    "full_list=ambient_list+event_list\n",
    "\n",
    "#convert to rsn\n",
    "full_list_nga=meta_df[meta_df.eq_name.isin(full_list)].record_number.unique()\n",
    "event_list_nga=meta_df[meta_df.eq_name.isin(event_list)].record_number.unique()\n",
    "\n",
    "\n",
    "## JGR GNSS DATA\n",
    "###############  Generate list of samples by event\n",
    "#pq_list=[os.path.join(os.path.dirname(os.getcwd()), 'data/feature_set/',f) \\\n",
    "#         for f in  os.listdir(os.path.join(os.path.dirname(os.getcwd()), 'data/feature_set/'))]\n",
    "\n",
    "pq_list=[os.path.join('../../snivel/data/feature_set/',f) for f in os.listdir('../../snivel/data/feature_set/')]\n",
    "meta_list=[read_meta(pq_fs) for pq_fs in pq_list if \".pq\" in pq_fs]\n",
    "meta_df=pd.DataFrame.from_records(meta_list)\n",
    "\n",
    "jgr_test=meta_df[(meta_df.radius_from_event<70) | (meta_df.radius_from_event==np.nan)]\n",
    "jgr_test=meta_df[(meta_df.radius_from_event<70) | (meta_df['radius_from_event'].isna())]"
   ]
  },
  {
   "cell_type": "code",
   "execution_count": 6,
   "id": "4c6ccec6-c292-4232-8c77-f4770194649a",
   "metadata": {},
   "outputs": [],
   "source": [
    "fs={'feature':['psd_t'], 'stacking':['horizontal'], 'dims':[['H0','H1','UP']], 'augment':[True]}\n",
    "feature_sets=[dict(zip(fs, v)) for v in product(*fs.values())]\n",
    "\n",
    "d = {'n_folds':[5],'max_depth': [100], 'n_estimators': [120], 'class_wt':[None, 'balanced'],'wl_thresh':[0]}\n",
    "hyperp=[dict(zip(d, v)) for v in product(*d.values())]\n",
    "\n",
    "params=[i | feature_sets[0] for i in hyperp]"
   ]
  },
  {
   "cell_type": "code",
   "execution_count": 9,
   "id": "47f73245-8f2f-473d-991c-427f5e58cbef",
   "metadata": {},
   "outputs": [],
   "source": [
    "X_train_nga, y_train_nga, name_list_nga, times_nga, snr_metric=list_to_featurearrays(full_list_nga, params[0], test=True)"
   ]
  },
  {
   "cell_type": "code",
   "execution_count": 14,
   "id": "75e40fc6-f8f4-4e9a-9f5c-706c62900917",
   "metadata": {},
   "outputs": [
    {
     "name": "stdout",
     "output_type": "stream",
     "text": [
      "422309\n",
      "2007\n",
      "217\n"
     ]
    }
   ],
   "source": [
    "# number of samples\n",
    "print(len(X_train_nga))\n",
    "\n",
    "# number of waveforms\n",
    "print(len(meta_df_nga.record_number.unique()))\n",
    "\n",
    "# number of events\n",
    "print(len(meta_df_nga.eq_name.unique()))"
   ]
  },
  {
   "cell_type": "code",
   "execution_count": 13,
   "id": "116ff77b-8b89-402c-9a97-786b4bf5641e",
   "metadata": {},
   "outputs": [
    {
     "data": {
      "text/html": [
       "<div>\n",
       "<style scoped>\n",
       "    .dataframe tbody tr th:only-of-type {\n",
       "        vertical-align: middle;\n",
       "    }\n",
       "\n",
       "    .dataframe tbody tr th {\n",
       "        vertical-align: top;\n",
       "    }\n",
       "\n",
       "    .dataframe thead th {\n",
       "        text-align: right;\n",
       "    }\n",
       "</style>\n",
       "<table border=\"1\" class=\"dataframe\">\n",
       "  <thead>\n",
       "    <tr style=\"text-align: right;\">\n",
       "      <th></th>\n",
       "      <th>station</th>\n",
       "      <th>year</th>\n",
       "      <th>eq_name</th>\n",
       "      <th>record_number</th>\n",
       "      <th>magnitude</th>\n",
       "      <th>mechanism</th>\n",
       "      <th>Rjb</th>\n",
       "      <th>Rrup</th>\n",
       "      <th>Vs30</th>\n",
       "      <th>noise_lev</th>\n",
       "    </tr>\n",
       "  </thead>\n",
       "  <tbody>\n",
       "    <tr>\n",
       "      <th>0</th>\n",
       "      <td>\"Del Valle Dam (Toe)\"</td>\n",
       "      <td>1980</td>\n",
       "      <td>\"Livermore-01\"</td>\n",
       "      <td>212</td>\n",
       "      <td>5.80</td>\n",
       "      <td>strike slip</td>\n",
       "      <td>23.92</td>\n",
       "      <td>24.95</td>\n",
       "      <td>403.37</td>\n",
       "      <td>5</td>\n",
       "    </tr>\n",
       "    <tr>\n",
       "      <th>1</th>\n",
       "      <td>\"Parkfield - Vineyard Cany 3W\"</td>\n",
       "      <td>2004</td>\n",
       "      <td>\"Parkfield-02_ CA\"</td>\n",
       "      <td>4134</td>\n",
       "      <td>6.00</td>\n",
       "      <td>strike slip</td>\n",
       "      <td>4.43</td>\n",
       "      <td>5.21</td>\n",
       "      <td>308.87</td>\n",
       "      <td>50</td>\n",
       "    </tr>\n",
       "    <tr>\n",
       "      <th>2</th>\n",
       "      <td>\"Cerro Prieto\"</td>\n",
       "      <td>1987</td>\n",
       "      <td>\"Baja California\"</td>\n",
       "      <td>585</td>\n",
       "      <td>5.50</td>\n",
       "      <td>strike slip</td>\n",
       "      <td>3.43</td>\n",
       "      <td>4.46</td>\n",
       "      <td>471.53</td>\n",
       "      <td>5</td>\n",
       "    </tr>\n",
       "    <tr>\n",
       "      <th>3</th>\n",
       "      <td>\"Parkfield - Vineyard Cany 1W\"</td>\n",
       "      <td>2004</td>\n",
       "      <td>\"Parkfield-02_ CA\"</td>\n",
       "      <td>4131</td>\n",
       "      <td>6.00</td>\n",
       "      <td>strike slip</td>\n",
       "      <td>1.00</td>\n",
       "      <td>2.75</td>\n",
       "      <td>284.21</td>\n",
       "      <td>35</td>\n",
       "    </tr>\n",
       "    <tr>\n",
       "      <th>4</th>\n",
       "      <td>\"Anza Fire Station\"</td>\n",
       "      <td>1986</td>\n",
       "      <td>\"N. Palm Springs\"</td>\n",
       "      <td>513</td>\n",
       "      <td>6.06</td>\n",
       "      <td>Reverse Oblique</td>\n",
       "      <td>42.17</td>\n",
       "      <td>42.36</td>\n",
       "      <td>360.45</td>\n",
       "      <td>80</td>\n",
       "    </tr>\n",
       "  </tbody>\n",
       "</table>\n",
       "</div>"
      ],
      "text/plain": [
       "                           station  year              eq_name record_number  \\\n",
       "0            \"Del Valle Dam (Toe)\"  1980       \"Livermore-01\"           212   \n",
       "1   \"Parkfield - Vineyard Cany 3W\"  2004   \"Parkfield-02_ CA\"          4134   \n",
       "2                   \"Cerro Prieto\"  1987    \"Baja California\"           585   \n",
       "3   \"Parkfield - Vineyard Cany 1W\"  2004   \"Parkfield-02_ CA\"          4131   \n",
       "4              \"Anza Fire Station\"  1986    \"N. Palm Springs\"           513   \n",
       "\n",
       "   magnitude         mechanism    Rjb   Rrup    Vs30 noise_lev  \n",
       "0       5.80       strike slip  23.92  24.95  403.37         5  \n",
       "1       6.00       strike slip   4.43   5.21  308.87        50  \n",
       "2       5.50       strike slip   3.43   4.46  471.53         5  \n",
       "3       6.00       strike slip   1.00   2.75  284.21        35  \n",
       "4       6.06   Reverse Oblique  42.17  42.36  360.45        80  "
      ]
     },
     "execution_count": 13,
     "metadata": {},
     "output_type": "execute_result"
    }
   ],
   "source": [
    "meta_df_nga.head()"
   ]
  },
  {
   "cell_type": "code",
   "execution_count": 15,
   "id": "8591192c-7c0b-443e-adcf-3ca8cb9ab813",
   "metadata": {},
   "outputs": [],
   "source": [
    "import pandas as pd\n",
    "import glob\n",
    "import os\n",
    "import numpy as np\n",
    "  \n",
    "# merging the files\n",
    "#joined_files = os.path.join(\"results\", \"station*.csv\")\n",
    "joined_files = \"../data/results/nested*.csv\"\n",
    "  \n",
    "# A list of all joined files is returned\n",
    "joined_list = glob.glob(joined_files)\n",
    "  \n",
    "# Finally, the files are joined\n",
    "df = pd.concat(map(pd.read_csv, joined_list), ignore_index=True)\n"
   ]
  },
  {
   "cell_type": "code",
   "execution_count": 17,
   "id": "b65066b5-1eb1-49bf-8a87-ee50a2b7aea0",
   "metadata": {},
   "outputs": [
    {
     "name": "stdout",
     "output_type": "stream",
     "text": [
      "0.8221643854109175\n",
      "0.7900616556999166\n",
      "0.7860200079681087\n"
     ]
    }
   ],
   "source": [
    "# F1 Scores as a function of feature extraction\n",
    "features=['psd_t','psd','time']\n",
    "for feature in features:\n",
    "    print(df[(df.feature==feature) & (df.augment==True)].f1.mean())"
   ]
  },
  {
   "cell_type": "markdown",
   "id": "bcd60d13-7948-4a79-b566-a0bcbf2c64a2",
   "metadata": {},
   "source": [
    "# Station level detectability as a function of augmentation"
   ]
  },
  {
   "cell_type": "code",
   "execution_count": 18,
   "id": "4ca3a679-6e0f-4641-b8fd-971f9dd5c43e",
   "metadata": {},
   "outputs": [],
   "source": [
    "import pandas as pd\n",
    "import glob\n",
    "import os\n",
    "import numpy as np\n",
    "  \n",
    "# merging the files\n",
    "#joined_files = os.path.join(\"results\", \"station*.csv\")\n",
    "joined_files = \"../data/results/station_results*.csv\"\n",
    "  \n",
    "# A list of all joined files is returned\n",
    "joined_list = glob.glob(joined_files)\n",
    "  \n",
    "# Finally, the files are joined\n",
    "df_sta = pd.concat(map(pd.read_csv, joined_list), ignore_index=True)"
   ]
  },
  {
   "cell_type": "code",
   "execution_count": 23,
   "id": "eb45b980-cf6f-4bf3-bcc1-2d1760f45189",
   "metadata": {},
   "outputs": [
    {
     "name": "stdout",
     "output_type": "stream",
     "text": [
      "0.8970268310369833\n",
      "0.8467005076142132\n"
     ]
    }
   ],
   "source": [
    "for bool_ in [True, False]:\n",
    "    tmp=df_sta[(df_sta.augment==bool_) &(df_sta.features=='psd_t')]\n",
    "    print(len(tmp[tmp.marker=='o'])/len(tmp))"
   ]
  },
  {
   "cell_type": "code",
   "execution_count": 6,
   "id": "f0177c69-6582-4e08-9c94-c8265e71fd19",
   "metadata": {},
   "outputs": [
    {
     "data": {
      "text/plain": [
       "(0.6, 1.0)"
      ]
     },
     "execution_count": 6,
     "metadata": {},
     "output_type": "execute_result"
    },
    {
     "data": {
      "image/png": "[encoded data removed]",
      "text/plain": [
       "<Figure size 640x480 with 1 Axes>"
      ]
     },
     "metadata": {},
     "output_type": "display_data"
    }
   ],
   "source": [
    "x = np.arange(3)\n",
    "import matplotlib.pyplot as plt\n",
    "fig,ax=plt.subplots()\n",
    "for aug, offs in zip([True,False],[-.2,.2]):\n",
    "    ax.bar(x+offs,df[(df.feature=='all') & (df.augment==aug)][['precision','recall','f1']].mean())\n",
    "ax.set_ylim([.6,1])"
   ]
  },
  {
   "cell_type": "code",
   "execution_count": 27,
   "id": "ecaa73ed-959c-4f61-8df7-3d33da862c5c",
   "metadata": {},
   "outputs": [
    {
     "data": {
      "text/plain": [
       "array([0, 1])"
      ]
     },
     "execution_count": 27,
     "metadata": {},
     "output_type": "execute_result"
    }
   ],
   "source": [
    "x"
   ]
  },
  {
   "cell_type": "code",
   "execution_count": 30,
   "id": "001ed726-dbd5-4f00-8d01-32f8f83c2a5e",
   "metadata": {},
   "outputs": [
    {
     "data": {
      "text/plain": [
       "precision    0.800852\n",
       "recall       0.695360\n",
       "f1           0.734820\n",
       "dtype: float64"
      ]
     },
     "execution_count": 30,
     "metadata": {},
     "output_type": "execute_result"
    }
   ],
   "source": [
    "df[(df.feature=='all') & (df.augment==aug)][['precision','recall','f1']].mean()"
   ]
  },
  {
   "cell_type": "code",
   "execution_count": 24,
   "id": "e3ae6d52-96e1-4235-a3c6-98bd877fe952",
   "metadata": {},
   "outputs": [],
   "source": [
    "index=45\n",
    "#index=13179\n",
    "ts=pd.read_parquet('../../psuedosyn_gnssvel/data/synth_ts/45_50.pq')"
   ]
  },
  {
   "cell_type": "code",
   "execution_count": 26,
   "id": "9b1cf41f-11af-46f8-90ea-927d12d6f22c",
   "metadata": {},
   "outputs": [],
   "source": [
    "tmp=ts['H0_ts'].iloc[:150]"
   ]
  },
  {
   "cell_type": "code",
   "execution_count": 27,
   "id": "b5c37092-86c7-46ac-91f4-f15eb02cd070",
   "metadata": {},
   "outputs": [],
   "source": [
    "f, p=signal.periodogram(x=tmp.values, fs=5, nfft=5*30)"
   ]
  },
  {
   "cell_type": "code",
   "execution_count": 31,
   "id": "ff17bcae-e053-407c-9ee9-d472eff6e67a",
   "metadata": {},
   "outputs": [
    {
     "name": "stderr",
     "output_type": "stream",
     "text": [
      "/tmp/ipykernel_3556/3286532660.py:1: RuntimeWarning: divide by zero encountered in divide\n",
      "  (1/f)[1:30]\n"
     ]
    },
    {
     "data": {
      "text/plain": [
       "array([30.        , 15.        , 10.        ,  7.5       ,  6.        ,\n",
       "        5.        ,  4.28571429,  3.75      ,  3.33333333,  3.        ,\n",
       "        2.72727273,  2.5       ,  2.30769231,  2.14285714,  2.        ,\n",
       "        1.875     ,  1.76470588,  1.66666667,  1.57894737,  1.5       ,\n",
       "        1.42857143,  1.36363636,  1.30434783,  1.25      ,  1.2       ,\n",
       "        1.15384615,  1.11111111,  1.07142857,  1.03448276])"
      ]
     },
     "execution_count": 31,
     "metadata": {},
     "output_type": "execute_result"
    }
   ],
   "source": [
    "(1/f)[1:30]"
   ]
  },
  {
   "cell_type": "code",
   "execution_count": null,
   "id": "d313078b-cdf8-4196-9e73-d0cb09c30136",
   "metadata": {},
   "outputs": [],
   "source": []
  }
 ],
 "metadata": {
  "kernelspec": {
   "display_name": "Python 3 (ipykernel)",
   "language": "python",
   "name": "python3"
  },
  "language_info": {
   "codemirror_mode": {
    "name": "ipython",
    "version": 3
   },
   "file_extension": ".py",
   "mimetype": "text/x-python",
   "name": "python",
   "nbconvert_exporter": "python",
   "pygments_lexer": "ipython3",
   "version": "3.10.9"
  }
 },
 "nbformat": 4,
 "nbformat_minor": 5
}
