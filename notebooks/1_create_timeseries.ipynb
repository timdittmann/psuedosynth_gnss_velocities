{
 "cells": [
  {
   "cell_type": "markdown",
   "id": "9ff4214f-e154-47e6-9447-091028deae0e",
   "metadata": {},
   "source": []
  },
  {
   "cell_type": "markdown",
   "id": "f2d03f29-87e2-4510-96ff-077b7d8518ba",
   "metadata": {},
   "source": [
    "Notebook to explain workflow\n",
    "\n",
    "PPSD takes in velocities from an ambient event free data set.\n"
   ]
  },
  {
   "cell_type": "code",
   "execution_count": null,
   "id": "2985ec0f-f8d7-4f95-aac0-d6c44517db9f",
   "metadata": {},
   "outputs": [],
   "source": [
    "%run ../bin/noise/ambient2sac.py"
   ]
  },
  {
   "cell_type": "markdown",
   "id": "7d91f982-8e1c-4e8e-a20b-0f3d333a5cdf",
   "metadata": {},
   "source": [
    "Something about the next script"
   ]
  },
  {
   "cell_type": "code",
   "execution_count": null,
   "id": "88506d8e-e8cb-43d5-b099-8c4ccb4714dd",
   "metadata": {},
   "outputs": [],
   "source": [
    "%run ../bin/noise/sac2noise.py"
   ]
  },
  {
   "cell_type": "markdown",
   "id": "0b081e0e-43fd-4ea7-8ef4-530001a4efbb",
   "metadata": {},
   "source": [
    "Generate Timeseries\n",
    "* something about NGAW2 waveforms\n",
    "\n"
   ]
  },
  {
   "cell_type": "code",
   "execution_count": 1,
   "id": "0f5a6e46-552c-4e0a-abb1-0969b7ea6d93",
   "metadata": {},
   "outputs": [
    {
     "name": "stdout",
     "output_type": "stream",
     "text": [
      "2011\n",
      "There are 16 CPUs on this machine \n",
      "(\"could not convert string to float: b'SEC'\",)\n",
      "[1631, ' \"Upland\"', 1990, ' \"Pomona - 4th & Locust FF\"', 5.63, ' strike slip', 7.17, 7.21, 384.44]\n",
      "(\"could not convert string to float: b'SEC'\",)\n",
      "[1632, ' \"Upland\"', 1990, ' \"Rancho Cucamonga - Law and Justince Center FF_ Foothill and Haven\"', 5.63, ' strike slip', 10.93, 10.96, 390.18]\n",
      "('list index out of range',)\n",
      "[20125, ' \"40204628\"', 2007, ' \"Coe Ranch\"', 5.45, ' strike slip', 18.5, 18.99, 400.0]\n",
      "('list index out of range',)\n",
      "[43, ' \"Lytle Creek\"', 1970, ' \"Cedar Springs_ Allen Ranch\"', 5.33, ' Reverse Oblique', 17.4, 19.35, 813.48]\n",
      "('list index out of range',)\n",
      "[720, ' \"Superstition Hills-02\"', 1987, ' \"Calipatria Fire Station\"', 6.54, ' strike slip', 27.0, 27.0, 205.78]\n",
      "('list index out of range',)\n",
      "[722, ' \"Superstition Hills-02\"', 1987, ' \"Kornbloom Road (temp)\"', 6.54, ' strike slip', 18.48, 18.48, 266.01]\n",
      "('list index out of range',)\n",
      "[723, ' \"Superstition Hills-02\"', 1987, ' \"Parachute Test Site\"', 6.54, ' strike slip', 0.95, 0.95, 348.69]\n",
      "('list index out of range',)\n",
      "[724, ' \"Superstition Hills-02\"', 1987, ' \"Plaster City\"', 6.54, ' strike slip', 22.25, 22.25, 316.64]\n",
      "('list index out of range',)\n",
      "[725, ' \"Superstition Hills-02\"', 1987, ' \"Poe Road (temp)\"', 6.54, ' strike slip', 11.16, 11.16, 316.64]\n",
      "('list index out of range',)\n",
      "[726, ' \"Superstition Hills-02\"', 1987, ' \"Salton Sea Wildlife Refuge\"', 6.54, ' strike slip', 25.88, 25.88, 191.14]\n",
      "('list index out of range',)\n",
      "[727, ' \"Superstition Hills-02\"', 1987, ' \"Superstition Mtn Camera\"', 6.54, ' strike slip', 5.61, 5.61, 362.38]\n",
      "('list index out of range',)\n",
      "[803, ' \"Loma Prieta\"', 1989, ' \"Saratoga - W Valley Coll.\"', 6.93, ' Reverse Oblique', 8.48, 9.31, 347.9]\n",
      "('list index out of range',)\n",
      "[390, ' \"Coalinga-02\"', 1983, ' \"YUB (temp)\"', 5.09, ' Reverse', 14.58, 18.03, 287.34]\n",
      "('list index out of range',)\n",
      "[442, ' \"Borah Peak_ ID-02\"', 1983, ' \"BOR\"', 5.1, ' Normal', 16.31, 18.51, 468.44]\n",
      "('list index out of range',)\n",
      "[719, ' \"Superstition Hills-02\"', 1987, ' \"Brawley Airport\"', 6.54, ' strike slip', 17.03, 17.03, 208.71]\n",
      "(\"could not convert string to float: b'SEC'\",)\n",
      "[1628, ' \"St Elias_ Alaska\"', 1979, ' \"Icy Bay\"', 7.54, ' Reverse', 26.46, 26.46, 306.37]\n",
      "('list index out of range',)\n",
      "[98, ' \"Hollister-03\"', 1974, ' \"Gilroy Array #1\"', 5.14, ' strike slip', 9.99, 10.46, 1428.14]\n",
      "('list index out of range',)\n",
      "[443, ' \"Borah Peak_ ID-02\"', 1983, ' \"CEM\"', 5.1, ' Normal', 21.03, 22.35, 471.53]\n",
      "('list index out of range',)\n",
      "[1694, ' \"Northridge-06\"', 1994, ' \"Beverly Hills - 12520 Mulhol\"', 5.28, ' Reverse', 10.57, 15.25, 545.66]\n",
      "('list index out of range',)\n",
      "[1696, ' \"Northridge-06\"', 1994, ' \"Burbank - Howard Rd.\"', 5.28, ' Reverse', 13.89, 19.31, 581.93]\n",
      "('list index out of range',)\n",
      "[1701, ' \"Northridge-06\"', 1994, ' \"Hollywood - Willoughby Ave\"', 5.28, ' Reverse', 16.25, 19.62, 347.7]\n",
      "('list index out of range',)\n",
      "[4314, ' \"Umbria-03_ Italy\"', 1984, ' \"Citta Di Castello-Regnano\"', 5.6, ' Normal', 40.71, 41.1, 388.0]\n",
      "('list index out of range',)\n",
      "[1758, ' \"San Juan Bautista\"', 1998, ' \"Hollister Differential Array\"', 5.17, ' strike slip', 14.76, 16.26, 215.54]\n",
      "('list index out of range',)\n",
      "[4317, ' \"Umbria-03_ Italy\"', 1984, ' \"Umbertide\"', 5.6, ' Normal', 26.33, 26.98, 574.32]\n",
      "('list index out of range',)\n",
      "[1732, ' \"Northridge-06\"', 1994, ' \"Simi Valley - Katherine Rd\"', 5.28, ' Reverse', 15.01, 18.61, 557.42]\n",
      "('list index out of range',)\n",
      "[106, ' \"Oroville-01\"', 1975, ' \"Oroville Seismograph Station\"', 5.89, ' Normal', 7.79, 7.99, 680.37]\n",
      "('list index out of range',)\n",
      "[3779, ' \"Northridge-06\"', 1994, ' \"Glendale - Las Palmas\"', 5.28, ' Reverse', 20.41, 24.74, 371.07]\n",
      "('list index out of range',)\n",
      "[599, ' \"Whittier Narrows-01\"', 1987, ' \"Brea - S Flower Av\"', 5.99, ' Reverse Oblique', 18.39, 23.42, 322.75]\n",
      "('list index out of range',)\n",
      "[4426, ' \"Molise-01_ Italy\"', 2002, ' \"Castiglione Messer Marino\"', 5.7, ' strike slip', 31.72, 34.29, 519.0]\n",
      "('list index out of range',)\n",
      "[4431, ' \"Molise-01_ Italy\"', 2002, ' \"San Marco dei Cavoti\"', 5.7, ' strike slip', 43.94, 45.55, 519.0]\n",
      "('list index out of range',)\n",
      "[4432, ' \"Molise-01_ Italy\"', 2002, ' \"Vasto\"', 5.7, ' strike slip', 46.19, 48.26, 388.0]\n",
      "('list index out of range',)\n",
      "[4434, ' \"Molise-02_ Italy\"', 2002, ' \"Castiglione Messer Marino\"', 5.7, ' strike slip', 40.5, 42.81, 519.0]\n",
      "('list index out of range',)\n",
      "[4438, ' \"Molise-02_ Italy\"', 2002, ' \"Sannicandro\"', 5.7, ' strike slip', 49.6, 51.32, 865.0]\n",
      "('list index out of range',)\n",
      "[496, ' \"Nahanni_ Canada\"', 1985, ' \"Site 2\"', 6.76, ' Reverse', 0.0, 4.93, 605.04]\n",
      "(\"could not convert string to float: b'SEC'\",)\n",
      "[1787, ' \"Hector Mine\"', 1999, ' \"Hector\"', 7.13, ' strike slip', 10.35, 11.66, 726.0]\n",
      "('list index out of range',)\n",
      "[1078, ' \"Northridge-01\"', 1994, ' \"Santa Susana Ground\"', 6.69, ' Reverse', 1.69, 16.74, 715.12]\n",
      "(\"could not convert string to float: b'.0050S'\",)\n",
      "[2383, ' \"Chi-Chi_ Taiwan-02\"', 1999, ' \"TCU067\"', 5.9, ' Reverse', 32.51, 33.14, 433.63]\n",
      "(\"could not convert string to float: b'SEC'\",)\n",
      "[1627, ' \"Caldiran_ Turkey\"', 1976, ' \"Maku\"', 7.21, ' strike slip', 50.78, 50.82, 432.58]\n",
      "('list index out of range',)\n",
      "[1048, ' \"Northridge-01\"', 1994, ' \"Northridge - 17645 Saticoy St\"', 6.69, ' Reverse', 0.0, 12.09, 280.86]\n",
      "('list index out of range',)\n",
      "[78, ' \"San Fernando\"', 1971, ' \"Palmdale Fire Station\"', 6.61, ' Reverse', 24.16, 28.99, 452.86]\n",
      "(\"could not convert string to float: b'SEC'\",)\n",
      "[1626, ' \"Sitka_ Alaska\"', 1972, ' \"Sitka Observatory\"', 7.68, ' strike slip', 34.61, 34.61, 649.67]\n"
     ]
    }
   ],
   "source": [
    "%run ../bin/generate_ts/generate_ts_mp.py"
   ]
  },
  {
   "cell_type": "code",
   "execution_count": null,
   "id": "d7363368-0861-4f70-a543-cf997832249b",
   "metadata": {},
   "outputs": [],
   "source": []
  }
 ],
 "metadata": {
  "kernelspec": {
   "display_name": "Python 3 (ipykernel)",
   "language": "python",
   "name": "python3"
  },
  "language_info": {
   "codemirror_mode": {
    "name": "ipython",
    "version": 3
   },
   "file_extension": ".py",
   "mimetype": "text/x-python",
   "name": "python",
   "nbconvert_exporter": "python",
   "pygments_lexer": "ipython3",
   "version": "3.10.9"
  }
 },
 "nbformat": 4,
 "nbformat_minor": 5
}
