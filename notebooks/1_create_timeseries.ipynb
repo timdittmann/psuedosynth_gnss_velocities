{
 "cells": [
  {
   "cell_type": "markdown",
   "id": "f2d03f29-87e2-4510-96ff-077b7d8518ba",
   "metadata": {},
   "source": [
    "# Create Psuedo Synthetic GNSS Velocity Waveforms\n",
    "Notebook to explain workflow\n",
    "\n",
    "Steps\n",
    "1. previously processed ambient 5hz GNSS TDCP dataset in [Dittmann, et al. 2022](https://agupubs.onlinelibrary.wiley.com/doi/full/10.1029/2022JB024854)\n",
    "2. convert 'ambient' timeseries (txt files) into [sac format](http://www.adc1.iris.edu/files/sac-manual/manual/file_format.html) (intermediate step because at this time I didn't want to fully refactor obspy inputs) \n",
    "3. read all sac files into horizontal (E/N) and vertical (V) PPSD objects.  This is obspy code refactored to support our use case of stacking different stations and two components\n",
    "4. Use PPSD to generate synthetic noise timeseries to add to [NGAWest2](https://ngawest2.berkeley.edu/) Strong Motion waveforms."
   ]
  },
  {
   "cell_type": "markdown",
   "id": "1929b220",
   "metadata": {},
   "source": [
    "### Step 2 \n",
    "\n",
    "convert 'ambient' timeseries (txt files) into [sac format](http://www.adc1.iris.edu/files/sac-manual/manual/file_format.html) (intermediate step because at this time didn't want to fully refactor obspy inputs)"
   ]
  },
  {
   "cell_type": "code",
   "execution_count": null,
   "id": "2985ec0f-f8d7-4f95-aac0-d6c44517db9f",
   "metadata": {},
   "outputs": [],
   "source": [
    "%run ../bin/noise/ambient2sac.py"
   ]
  },
  {
   "cell_type": "markdown",
   "id": "7d91f982-8e1c-4e8e-a20b-0f3d333a5cdf",
   "metadata": {},
   "source": [
    "### Step 3. \n",
    "read all sac files into horizontal (E/N) and vertical (V) PPSD objects.  This is obspy code refactored to support our use case of stacking different stations and two components (in the horizontal case) into a single PPSD object."
   ]
  },
  {
   "cell_type": "code",
   "execution_count": null,
   "id": "88506d8e-e8cb-43d5-b099-8c4ccb4714dd",
   "metadata": {},
   "outputs": [],
   "source": [
    "%run ../bin/noise/sac2noise.py"
   ]
  },
  {
   "cell_type": "markdown",
   "id": "0b081e0e-43fd-4ea7-8ef4-530001a4efbb",
   "metadata": {},
   "source": [
    "### Step 4. Generate Timeseries\n",
    "\n",
    "#### Signal Waveforms\n",
    "* Transferred waveforms are from NGAWest2 Strong Motion catalog.  \n",
    "* We use signals from events M4.8-M8.2, <70km Rrup\n",
    "* We use velocity waveforms, downsampled to 5Hz using lowpass with cutoff freq of 2.5Hz (run forward and backwards)\n",
    "\n",
    "#### Noise Timeseries\n",
    "* We create 7 unique timeseries (3 component) from 7 discrete noise levels [5,20,35,50,65,80,95]\n",
    "* Each has a random initial buffer added (between 0 and 300 samples) to offset onset of motion\n",
    "* Each slice of PPSD spectrum is applied to a random guassian timeseries to create unique stochastic noise timeseries.\n",
    "\n",
    "#### Pseudo Synthetic timeseries\n",
    "* vel_ts object is sum of signal waveform + noise timeseries\n",
    "* labels are assigned via an STA/LTA applied to the 'zero noise' ngaw2 waveform\n",
    "* metadata attached to parquet object includes \n",
    "```python\n",
    "meta_content = {\n",
    "            \"station\":meta_array[3],\n",
    "            \"year\":meta_array[2],\n",
    "            \"eq_name\":meta_array[1],\n",
    "            \"record_number\":meta_array[0],\n",
    "            \"magnitude\":meta_array[4],\n",
    "            \"mechanism\":meta_array[5],\n",
    "            \"Rjb\":meta_array[6],\n",
    "            \"Rrup\":meta_array[7],\n",
    "            \"Vs30\": meta_array[8],\n",
    "            \"noise_lev\": str(noise_lev),\n",
    "        }\n",
    "```\n",
    "\n",
    "Timeseries are stored as parquet files with naming {record_number}_{noise_level}.pq\n",
    "\n",
    "\n"
   ]
  },
  {
   "cell_type": "code",
   "execution_count": null,
   "id": "0f5a6e46-552c-4e0a-abb1-0969b7ea6d93",
   "metadata": {},
   "outputs": [],
   "source": [
    "%run ../bin/generate_ts/generate_ts_mp.py"
   ]
  }
 ],
 "metadata": {
  "kernelspec": {
   "display_name": "Python 3 (ipykernel)",
   "language": "python",
   "name": "python3"
  },
  "language_info": {
   "codemirror_mode": {
    "name": "ipython",
    "version": 3
   },
   "file_extension": ".py",
   "mimetype": "text/x-python",
   "name": "python",
   "nbconvert_exporter": "python",
   "pygments_lexer": "ipython3",
   "version": "3.10.0"
  }
 },
 "nbformat": 4,
 "nbformat_minor": 5
}
