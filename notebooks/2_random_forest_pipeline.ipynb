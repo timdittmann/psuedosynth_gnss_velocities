{
 "cells": [
  {
   "cell_type": "markdown",
   "id": "d913f31b-0e8b-4201-8b8c-4ced26817219",
   "metadata": {},
   "source": [
    "# Random Forest Pipeline\n",
    "\n",
    "Steps:\n",
    "1. generate featuresets and targets from psuedosynthetic timeseries: \n",
    "2. generate featuresets and targets from ambient timeseries.\n",
    "3. re-map JGR:SE Dittmann, et al 2022 featuresets into aligned featuresets for validation\n",
    "4. nested cross validation of random forest model using psuedosynthetic velocities\n",
    "5. generate overall model for use with validation from real data"
   ]
  },
  {
   "cell_type": "markdown",
   "id": "f71f7a2d-9b39-4151-b073-dc5acc85bd67",
   "metadata": {},
   "source": [
    "### 1. generate featuresets and targets from psuedosynthetic timeseries:\n",
    "2000+ waveforms x 5 augmentation noise levels per/waveform"
   ]
  },
  {
   "cell_type": "code",
   "execution_count": null,
   "id": "5b1e880a-41c4-44dd-b8f8-633e20b38505",
   "metadata": {},
   "outputs": [],
   "source": [
    "%run ../bin/features/ts_2_featuresets.py"
   ]
  },
  {
   "cell_type": "markdown",
   "id": "34ff82cb-b0f6-4649-b366-53503735eefe",
   "metadata": {},
   "source": [
    "### 2. generate featuresets and targets from ambient timeseries:\n",
    "first 30 minutes of 1507 hours of 5Hz spread across network from 2017-2023."
   ]
  },
  {
   "cell_type": "code",
   "execution_count": null,
   "id": "09a0f542-2f8c-4850-86ae-6a497d145173",
   "metadata": {},
   "outputs": [],
   "source": [
    "%run ../bin/features/ambient_2_fs.py"
   ]
  },
  {
   "cell_type": "markdown",
   "id": "1f3b9a5d-6f3c-4310-8785-d936c8e859e8",
   "metadata": {},
   "source": [
    "second 30 minutes preserved for ambient testing"
   ]
  },
  {
   "cell_type": "code",
   "execution_count": null,
   "id": "3ba86314-befe-4322-8485-a8fd305e53d3",
   "metadata": {},
   "outputs": [],
   "source": [
    "%run ../bin/features/ambient_2_fs_testing.py"
   ]
  },
  {
   "cell_type": "markdown",
   "id": "381e3dec-78da-4d67-af91-b6fe88344f14",
   "metadata": {},
   "source": [
    "### 3. re-map JGR:SE Dittmann, et al 2022 featuresets into aligned featuresets for validation"
   ]
  },
  {
   "cell_type": "code",
   "execution_count": null,
   "id": "f16d203d-6126-49d4-b2b6-e3d15c96639c",
   "metadata": {},
   "outputs": [],
   "source": [
    "%run ../bin/features/jgr_fs_2_new.py"
   ]
  },
  {
   "cell_type": "markdown",
   "id": "b64237c0-a464-4cea-86e8-5090048b1cae",
   "metadata": {},
   "source": [
    "### 4. nested cross validation of random forest model using psuedosynthetic velocities\n",
    "\n",
    "depending on number of hyperparameters tested and compute nodes, this takes a long time.\n",
    "\n",
    "**best run as \"nohangup\"**   *eg:* `nohup python -u nest_xval_synth_MP.py > program.out 2>&1 &`"
   ]
  },
  {
   "cell_type": "code",
   "execution_count": null,
   "id": "702d81b2-9efc-4661-92e0-e31d65939233",
   "metadata": {},
   "outputs": [],
   "source": [
    "%run ../bin/models/nest_xval_synth_MP.py"
   ]
  },
  {
   "cell_type": "markdown",
   "id": "0568ee00-35ff-4582-b8c5-50e2a13c2842",
   "metadata": {},
   "source": [
    "### 5. generate overall model for use with validation from real data"
   ]
  },
  {
   "cell_type": "code",
   "execution_count": null,
   "id": "808874bb-faeb-4ed1-8018-e87d30a1307c",
   "metadata": {},
   "outputs": [],
   "source": [
    "%run ../bin/models/complete_model_synth.py"
   ]
  },
  {
   "cell_type": "code",
   "execution_count": null,
   "id": "67761ba9-947c-4cbb-8fe9-77557df11f94",
   "metadata": {},
   "outputs": [],
   "source": []
  }
 ],
 "metadata": {
  "kernelspec": {
   "display_name": "Python 3 (ipykernel)",
   "language": "python",
   "name": "python3"
  },
  "language_info": {
   "codemirror_mode": {
    "name": "ipython",
    "version": 3
   },
   "file_extension": ".py",
   "mimetype": "text/x-python",
   "name": "python",
   "nbconvert_exporter": "python",
   "pygments_lexer": "ipython3",
   "version": "3.10.0"
  }
 },
 "nbformat": 4,
 "nbformat_minor": 5
}
