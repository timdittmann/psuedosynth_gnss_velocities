{
 "cells": [
  {
   "cell_type": "markdown",
   "id": "d913f31b-0e8b-4201-8b8c-4ced26817219",
   "metadata": {},
   "source": [
    "# Random Forest Pipeline\n",
    "\n",
    "Steps:\n",
    "1. generate featuresets and targets from psuedosynthetic timeseries: \n",
    "2. generate featuresets and targets from ambient timeseries.\n",
    "3. re-map JGR:SE Dittmann, et al 2022 featuresets into aligned featuresets for validation\n",
    "4. nested cross validation of random forest model using psuedosynthetic velocities\n",
    "5. generate overall model for use with validation from real data"
   ]
  },
  {
   "cell_type": "markdown",
   "id": "f71f7a2d-9b39-4151-b073-dc5acc85bd67",
   "metadata": {},
   "source": [
    "### 1. generate featuresets and targets from psuedosynthetic timeseries:\n",
    "2000+ waveforms x 5 augmentation noise levels per/waveform"
   ]
  },
  {
   "cell_type": "code",
   "execution_count": null,
   "id": "5b1e880a-41c4-44dd-b8f8-633e20b38505",
   "metadata": {},
   "outputs": [],
   "source": [
    "%run ../bin/features/ts_2_featuresets.py"
   ]
  },
  {
   "cell_type": "markdown",
   "id": "34ff82cb-b0f6-4649-b366-53503735eefe",
   "metadata": {},
   "source": [
    "### 2. generate featuresets and targets from ambient timeseries:\n",
    "first 30 minutes of 1507 hours of 5Hz spread across network from 2017-2023."
   ]
  },
  {
   "cell_type": "code",
   "execution_count": null,
   "id": "09a0f542-2f8c-4850-86ae-6a497d145173",
   "metadata": {},
   "outputs": [],
   "source": [
    "%run ../bin/features/ambient_2_fs.py"
   ]
  },
  {
   "cell_type": "markdown",
   "id": "381e3dec-78da-4d67-af91-b6fe88344f14",
   "metadata": {},
   "source": [
    "### 3. re-map JGR:SE Dittmann, et al 2022 featuresets into aligned featuresets for validation"
   ]
  },
  {
   "cell_type": "code",
   "execution_count": null,
   "id": "f16d203d-6126-49d4-b2b6-e3d15c96639c",
   "metadata": {},
   "outputs": [],
   "source": [
    "%run ../bin/features/jgr_fs_2_new.py"
   ]
  },
  {
   "cell_type": "markdown",
   "id": "b64237c0-a464-4cea-86e8-5090048b1cae",
   "metadata": {},
   "source": [
    "### 4. nested cross validation of random forest model using psuedosynthetic velocities\n",
    "\n",
    "depending on number of hyperparameters tested and compute nodes, this takes a long time.\n",
    "\n",
    "**best run as \"nohangup\"**   *eg:* `nohup python -u nest_xval_synth_MP.py > program.out 2>&1 &`"
   ]
  },
  {
   "cell_type": "code",
   "execution_count": null,
   "id": "702d81b2-9efc-4661-92e0-e31d65939233",
   "metadata": {},
   "outputs": [],
   "source": [
    "%run ../bin/models/nest_xval_synth_MP.py"
   ]
  },
  {
   "cell_type": "markdown",
   "id": "0568ee00-35ff-4582-b8c5-50e2a13c2842",
   "metadata": {},
   "source": [
    "### 5. generate overall model for use with validation from real data"
   ]
  },
  {
   "cell_type": "code",
   "execution_count": 11,
   "id": "808874bb-faeb-4ed1-8018-e87d30a1307c",
   "metadata": {},
   "outputs": [
    {
     "name": "stdout",
     "output_type": "stream",
     "text": [
      "[{'n_folds': 5, 'max_depth': 5, 'n_estimators': 10, 'class_wt': None, 'wl_thresh': -30}, {'n_folds': 5, 'max_depth': 5, 'n_estimators': 10, 'class_wt': None, 'wl_thresh': 0}, {'n_folds': 5, 'max_depth': 5, 'n_estimators': 10, 'class_wt': None, 'wl_thresh': 30}, {'n_folds': 5, 'max_depth': 5, 'n_estimators': 10, 'class_wt': 'balanced_subsample', 'wl_thresh': -30}, {'n_folds': 5, 'max_depth': 5, 'n_estimators': 10, 'class_wt': 'balanced_subsample', 'wl_thresh': 0}, {'n_folds': 5, 'max_depth': 5, 'n_estimators': 10, 'class_wt': 'balanced_subsample', 'wl_thresh': 30}, {'n_folds': 5, 'max_depth': 5, 'n_estimators': 120, 'class_wt': None, 'wl_thresh': -30}, {'n_folds': 5, 'max_depth': 5, 'n_estimators': 120, 'class_wt': None, 'wl_thresh': 0}, {'n_folds': 5, 'max_depth': 5, 'n_estimators': 120, 'class_wt': None, 'wl_thresh': 30}, {'n_folds': 5, 'max_depth': 5, 'n_estimators': 120, 'class_wt': 'balanced_subsample', 'wl_thresh': -30}, {'n_folds': 5, 'max_depth': 5, 'n_estimators': 120, 'class_wt': 'balanced_subsample', 'wl_thresh': 0}, {'n_folds': 5, 'max_depth': 5, 'n_estimators': 120, 'class_wt': 'balanced_subsample', 'wl_thresh': 30}, {'n_folds': 5, 'max_depth': 50, 'n_estimators': 10, 'class_wt': None, 'wl_thresh': -30}, {'n_folds': 5, 'max_depth': 50, 'n_estimators': 10, 'class_wt': None, 'wl_thresh': 0}, {'n_folds': 5, 'max_depth': 50, 'n_estimators': 10, 'class_wt': None, 'wl_thresh': 30}, {'n_folds': 5, 'max_depth': 50, 'n_estimators': 10, 'class_wt': 'balanced_subsample', 'wl_thresh': -30}, {'n_folds': 5, 'max_depth': 50, 'n_estimators': 10, 'class_wt': 'balanced_subsample', 'wl_thresh': 0}, {'n_folds': 5, 'max_depth': 50, 'n_estimators': 10, 'class_wt': 'balanced_subsample', 'wl_thresh': 30}, {'n_folds': 5, 'max_depth': 50, 'n_estimators': 120, 'class_wt': None, 'wl_thresh': -30}, {'n_folds': 5, 'max_depth': 50, 'n_estimators': 120, 'class_wt': None, 'wl_thresh': 0}, {'n_folds': 5, 'max_depth': 50, 'n_estimators': 120, 'class_wt': None, 'wl_thresh': 30}, {'n_folds': 5, 'max_depth': 50, 'n_estimators': 120, 'class_wt': 'balanced_subsample', 'wl_thresh': -30}, {'n_folds': 5, 'max_depth': 50, 'n_estimators': 120, 'class_wt': 'balanced_subsample', 'wl_thresh': 0}, {'n_folds': 5, 'max_depth': 50, 'n_estimators': 120, 'class_wt': 'balanced_subsample', 'wl_thresh': 30}]\n",
      "    max_depth  n_estimators            class_wt  threshold  wl_thresh  \\\n",
      "21         50           120  balanced_subsample   0.433073        -30   \n",
      "22         50           120  balanced_subsample   0.406236          0   \n",
      "23         50           120  balanced_subsample   0.357009         30   \n",
      "18         50           120                None   0.427278        -30   \n",
      "19         50           120                None   0.428129          0   \n",
      "20         50           120                None   0.382408         30   \n",
      "17         50            10  balanced_subsample   0.374366         30   \n",
      "14         50            10                None   0.354416         30   \n",
      "13         50            10                None   0.431211          0   \n",
      "16         50            10  balanced_subsample   0.421013          0   \n",
      "12         50            10                None   0.442508        -30   \n",
      "15         50            10  balanced_subsample   0.441925        -30   \n",
      "5           5            10  balanced_subsample   0.537595         30   \n",
      "11          5           120  balanced_subsample   0.550903         30   \n",
      "2           5            10                None   0.397176         30   \n",
      "8           5           120                None   0.398491         30   \n",
      "7           5           120                None   0.464556          0   \n",
      "10          5           120  balanced_subsample   0.592286          0   \n",
      "6           5           120                None   0.470240        -30   \n",
      "9           5           120  balanced_subsample   0.602332        -30   \n",
      "4           5            10  balanced_subsample   0.574683          0   \n",
      "3           5            10  balanced_subsample   0.590303        -30   \n",
      "1           5            10                None   0.446596          0   \n",
      "0           5            10                None   0.451171        -30   \n",
      "\n",
      "          f1  \n",
      "21  0.814232  \n",
      "22  0.813888  \n",
      "23  0.812972  \n",
      "18  0.812338  \n",
      "19  0.812216  \n",
      "20  0.810864  \n",
      "17  0.802820  \n",
      "14  0.802558  \n",
      "13  0.800436  \n",
      "16  0.799584  \n",
      "12  0.798445  \n",
      "15  0.798359  \n",
      "5   0.741451  \n",
      "11  0.740393  \n",
      "2   0.740110  \n",
      "8   0.739148  \n",
      "7   0.739132  \n",
      "10  0.738528  \n",
      "6   0.737994  \n",
      "9   0.737800  \n",
      "4   0.737274  \n",
      "3   0.735506  \n",
      "1   0.734420  \n",
      "0   0.734190  \n",
      "(424981, 105)\n",
      "Execution time in seconds: 32307.928489923477\n"
     ]
    }
   ],
   "source": [
    "%run ../bin/models/complete_model_synth.py"
   ]
  },
  {
   "cell_type": "code",
   "execution_count": null,
   "id": "67761ba9-947c-4cbb-8fe9-77557df11f94",
   "metadata": {},
   "outputs": [],
   "source": []
  }
 ],
 "metadata": {
  "kernelspec": {
   "display_name": "Python 3 (ipykernel)",
   "language": "python",
   "name": "python3"
  },
  "language_info": {
   "codemirror_mode": {
    "name": "ipython",
    "version": 3
   },
   "file_extension": ".py",
   "mimetype": "text/x-python",
   "name": "python",
   "nbconvert_exporter": "python",
   "pygments_lexer": "ipython3",
   "version": "3.10.0"
  }
 },
 "nbformat": 4,
 "nbformat_minor": 5
}
