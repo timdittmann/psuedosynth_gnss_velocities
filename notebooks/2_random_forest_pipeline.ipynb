{
 "cells": [
  {
   "cell_type": "markdown",
   "id": "d913f31b-0e8b-4201-8b8c-4ced26817219",
   "metadata": {},
   "source": []
  },
  {
   "cell_type": "markdown",
   "id": "f71f7a2d-9b39-4151-b073-dc5acc85bd67",
   "metadata": {},
   "source": [
    "First need to select features from timeseries"
   ]
  },
  {
   "cell_type": "code",
   "execution_count": null,
   "id": "5b1e880a-41c4-44dd-b8f8-633e20b38505",
   "metadata": {},
   "outputs": [],
   "source": [
    "%run ../bin/features/ts_2_featuresets.py"
   ]
  },
  {
   "cell_type": "markdown",
   "id": "34ff82cb-b0f6-4649-b366-53503735eefe",
   "metadata": {},
   "source": [
    "Then translate ambient data set to features"
   ]
  },
  {
   "cell_type": "code",
   "execution_count": null,
   "id": "09a0f542-2f8c-4850-86ae-6a497d145173",
   "metadata": {},
   "outputs": [],
   "source": [
    "%run ../bin/features/ambient_2_fs.py"
   ]
  },
  {
   "cell_type": "markdown",
   "id": "b64237c0-a464-4cea-86e8-5090048b1cae",
   "metadata": {},
   "source": [
    "Now train model using nested xval /kfold grid search optimization\n",
    "\n",
    "(best run as nohup)"
   ]
  },
  {
   "cell_type": "code",
   "execution_count": null,
   "id": "702d81b2-9efc-4661-92e0-e31d65939233",
   "metadata": {},
   "outputs": [
    {
     "name": "stdout",
     "output_type": "stream",
     "text": [
      "[{'n_folds': 5, 'max_depth': 10, 'n_estimators': 10, 'class_wt': None, 'wl_thresh': 15}]\n",
      "217\n",
      "[{'n_folds': 5, 'max_depth': 10, 'n_estimators': 10, 'class_wt': None, 'wl_thresh': 15, 'feature': 'psd', 'stacking': 'horizontal', 'dims': ['H0', 'H1', 'UP'], 'augment': True}]\n"
     ]
    }
   ],
   "source": [
    "%run ../bin/models/nest_xval_synth.py"
   ]
  },
  {
   "cell_type": "code",
   "execution_count": null,
   "id": "73a50700-299e-4d91-ab8b-02c66e6af65f",
   "metadata": {},
   "outputs": [],
   "source": [
    "meta_df"
   ]
  },
  {
   "cell_type": "code",
   "execution_count": null,
   "id": "b50a95c0-ab6a-46bd-b34a-121e267b4fca",
   "metadata": {},
   "outputs": [],
   "source": []
  }
 ],
 "metadata": {
  "kernelspec": {
   "display_name": "Python 3 (ipykernel)",
   "language": "python",
   "name": "python3"
  },
  "language_info": {
   "codemirror_mode": {
    "name": "ipython",
    "version": 3
   },
   "file_extension": ".py",
   "mimetype": "text/x-python",
   "name": "python",
   "nbconvert_exporter": "python",
   "pygments_lexer": "ipython3",
   "version": "3.10.9"
  }
 },
 "nbformat": 4,
 "nbformat_minor": 5
}
