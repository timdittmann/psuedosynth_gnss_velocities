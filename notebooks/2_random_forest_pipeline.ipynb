{
 "cells": [
  {
   "cell_type": "markdown",
   "id": "d913f31b-0e8b-4201-8b8c-4ced26817219",
   "metadata": {},
   "source": [
    "Something about the Workflow of this notebook\n"
   ]
  },
  {
   "cell_type": "markdown",
   "id": "f71f7a2d-9b39-4151-b073-dc5acc85bd67",
   "metadata": {},
   "source": [
    "First need to select features from timeseries"
   ]
  },
  {
   "cell_type": "code",
   "execution_count": null,
   "id": "5b1e880a-41c4-44dd-b8f8-633e20b38505",
   "metadata": {},
   "outputs": [],
   "source": [
    "%run ../bin/features/ts_2_featuresets.py"
   ]
  },
  {
   "cell_type": "markdown",
   "id": "34ff82cb-b0f6-4649-b366-53503735eefe",
   "metadata": {},
   "source": [
    "Then translate ambient data set to features"
   ]
  },
  {
   "cell_type": "code",
   "execution_count": null,
   "id": "09a0f542-2f8c-4850-86ae-6a497d145173",
   "metadata": {},
   "outputs": [],
   "source": [
    "%run ../bin/features/ambient_2_fs.py"
   ]
  },
  {
   "cell_type": "markdown",
   "id": "b64237c0-a464-4cea-86e8-5090048b1cae",
   "metadata": {},
   "source": [
    "Now train model using nested xval /kfold grid search optimization\n",
    "\n",
    "(best run as nohup)"
   ]
  },
  {
   "cell_type": "code",
   "execution_count": 1,
   "id": "702d81b2-9efc-4661-92e0-e31d65939233",
   "metadata": {},
   "outputs": [
    {
     "name": "stdout",
     "output_type": "stream",
     "text": [
      "fold 0 ((311167, 246), (69254, 246))\n",
      "fold 1 ((309240, 246), (70897, 246))\n",
      "fold 2 ((316208, 246), (64094, 246))\n",
      "fold 3 ((301251, 246), (79466, 246))\n",
      "fold 4 ((275330, 246), (104926, 246))\n",
      "   max_depth  n_estimators class_wt  threshold  wl_thresh        f1\n",
      "0         10            10     None   0.278381         15  0.774462\n",
      "RUN 1: psd : True >f1=0.812, n_folds                    5\n",
      "max_depth                 10\n",
      "n_estimators              10\n",
      "class_wt                None\n",
      "wl_thresh                 15\n",
      "feature                  psd\n",
      "stacking          horizontal\n",
      "dims            [H0, H1, UP]\n",
      "augment                 True\n",
      "precision           0.849796\n",
      "recall              0.711694\n",
      "f1                  0.774462\n",
      "threshold           0.278381\n",
      "Name: 0, dtype: object\n",
      "RUN 1 Execution time in seconds: 941.4671924114227\n",
      "[{'n_folds': 5, 'max_depth': 10, 'n_estimators': 10, 'class_wt': None, 'wl_thresh': 15, 'feature': 'psd', 'stacking': 'horizontal', 'dims': ['H0', 'H1', 'UP'], 'augment': True}]\n"
     ]
    }
   ],
   "source": [
    "%run ../bin/models/nest_xval_synth_MP.py"
   ]
  },
  {
   "cell_type": "code",
   "execution_count": null,
   "id": "73a50700-299e-4d91-ab8b-02c66e6af65f",
   "metadata": {},
   "outputs": [],
   "source": [
    "pq_list"
   ]
  },
  {
   "cell_type": "code",
   "execution_count": null,
   "id": "67f10099-51dc-456e-a2d9-66538a78cf4f",
   "metadata": {},
   "outputs": [],
   "source": [
    "from itertools import product\n",
    "from collections import deque\n",
    "\n",
    "import os\n",
    "import pandas as pd\n",
    "import glob\n",
    "import numpy as np\n",
    "\n",
    "import datetime\n",
    "from scipy import signal\n",
    "import pywt\n",
    "\n",
    "import pyarrow as pa\n",
    "import pyarrow.parquet as pq\n",
    "import json\n",
    "\n",
    "import joblib\n",
    "\n",
    "from sklearn.ensemble import RandomForestClassifier\n",
    "from sklearn.metrics import precision_recall_fscore_support, f1_score\n",
    "from sklearn.metrics import precision_recall_curve\n",
    "from sklearn.metrics import accuracy_score\n",
    "\n",
    "import sys\n",
    "from nested_xval_utils import *\n",
    "\n",
    "from multiprocessing import Pool, cpu_count"
   ]
  },
  {
   "cell_type": "code",
   "execution_count": null,
   "id": "b50a95c0-ab6a-46bd-b34a-121e267b4fca",
   "metadata": {},
   "outputs": [],
   "source": [
    "pq_list=[os.path.join(os.path.dirname(os.getcwd()), 'data/feature_sets/',f) for f in os.listdir(os.path.join(os.path.dirname(os.getcwd()), 'data/feature_sets/'))]\n",
    "#pd_list=[pd.read_parquet(pq) for pq in pq_list if \".pq\" in pq]\n",
    "meta_list=[read_meta(pq_fs) for pq_fs in pq_list if \".pq\" in pq_fs]\n",
    "meta_df=pd.DataFrame.from_records(meta_list)\n",
    "\n",
    "##########\n",
    "fs={'feature':['all','psd', 'wavelet', 'time'], 'stacking':['horizontal'], 'dims':[['H0','H1','UP']], 'augment':[True, False]}\n",
    "fs={'feature':['psd'], 'stacking':['horizontal'], 'dims':[['H0','H1','UP']], 'augment':[True]}\n",
    "feature_sets=[dict(zip(fs, v)) for v in product(*fs.values())]\n",
    "d = {'n_folds':[5],'max_depth': [100], 'n_estimators': [100], 'class_wt':[None], 'wl_thresh':[-15,15],} #'wl_thresh':[-15, -10, -5, 0]\n",
    "d = {'n_folds':[5],'max_depth': [10], 'n_estimators': [10], 'class_wt':[None], 'wl_thresh':[15],} #'wl_thresh':[-15, -10, -5, 0]\n",
    "hyperp=[dict(zip(d, v)) for v in product(*d.values())]\n",
    "#########\n",
    "\n",
    "results=[]\n",
    "outer_results =[]\n",
    "first_tp=True\n",
    "first_fp=True\n",
    "\n",
    "\n",
    "\n",
    "#convert to rsn\n",
    "#test_set=meta_df[meta_df.eq_name.isin(test_set_events)].record_number.unique()\n",
    "#train_set=meta_df[meta_df.eq_name.isin(train_set_events)].record_number.unique()\n"
   ]
  },
  {
   "cell_type": "code",
   "execution_count": null,
   "id": "1d547cd7-ddb1-4bcf-887c-37df7d26541f",
   "metadata": {},
   "outputs": [],
   "source": [
    "ambient_list= list(meta_df[meta_df.magnitude.isnull()].eq_name.unique())\n",
    "event_list=meta_df[~meta_df.magnitude.isnull()].sort_values(['magnitude'], ascending=False).groupby(\"eq_name\").count().sort_values(['station'], ascending=False).index.tolist()\n",
    "full_list=ambient_list+event_list"
   ]
  },
  {
   "cell_type": "code",
   "execution_count": null,
   "id": "d9c02c81-961e-4c7b-a470-a66d5ca077cf",
   "metadata": {},
   "outputs": [],
   "source": [
    "pq_list"
   ]
  },
  {
   "cell_type": "code",
   "execution_count": null,
   "id": "db3df464-aad2-4588-af73-dd629119c971",
   "metadata": {},
   "outputs": [],
   "source": [
    "test_set_list=[]\n",
    "train_set_list=[]\n",
    "run_list=[]\n",
    "num_runs=10\n",
    "num_runs=1\n",
    "#for k in np.arange(num_runs):\n",
    "for k in np.arange(num_runs):\n",
    "    run=k+1\n",
    "    items = deque(full_list)\n",
    "    items.rotate(-k)\n",
    "    test_set_events=list(items)[::num_runs]\n",
    "    train_set_events=list(set(full_list) - set(test_set_events))\n",
    "    test_set_list.append(test_set_events)\n",
    "    train_set_list.append(train_set_events)\n",
    "    run_list.append(run)"
   ]
  },
  {
   "cell_type": "code",
   "execution_count": null,
   "id": "f3c5e7c1-559d-4a9a-a658-c981b494834c",
   "metadata": {},
   "outputs": [],
   "source": [
    "full_list"
   ]
  },
  {
   "cell_type": "code",
   "execution_count": null,
   "id": "a808e164-de30-41de-b850-829f323d918a",
   "metadata": {},
   "outputs": [],
   "source": [
    "meta_df"
   ]
  },
  {
   "cell_type": "code",
   "execution_count": null,
   "id": "be1acf3c-64e9-4e7d-be48-7f74fb766f02",
   "metadata": {},
   "outputs": [],
   "source": [
    "meta_df.dtypes"
   ]
  },
  {
   "cell_type": "code",
   "execution_count": null,
   "id": "a16e01c2-5281-4275-862e-7ee9d0122e19",
   "metadata": {},
   "outputs": [],
   "source": [
    "str_cols=['station','year','eq_name','record_number','mechanism','noise_lev']\n",
    "\n",
    "meta_df[str_cols]"
   ]
  },
  {
   "cell_type": "code",
   "execution_count": null,
   "id": "8a17316f-25c8-497d-8ac8-0dbabd4e25f4",
   "metadata": {},
   "outputs": [],
   "source": [
    "meta_df[str_cols] = meta_df[str_cols].astype('|S') "
   ]
  },
  {
   "cell_type": "code",
   "execution_count": null,
   "id": "6c18bf1d-7a8f-433a-9e4b-deea31c94121",
   "metadata": {},
   "outputs": [],
   "source": [
    "meta_df"
   ]
  },
  {
   "cell_type": "code",
   "execution_count": null,
   "id": "8f3a00cb-2578-40b6-93f2-f5ea5bb1e41d",
   "metadata": {},
   "outputs": [],
   "source": [
    "meta_df.to_csv('../data/meta/fs_meta.csv', index=False)"
   ]
  },
  {
   "cell_type": "code",
   "execution_count": null,
   "id": "f389382d-ec90-4316-ba20-a3dad9328f28",
   "metadata": {},
   "outputs": [],
   "source": [
    "meta_df2=pd.read_csv('../data/meta/fs_meta.csv')"
   ]
  },
  {
   "cell_type": "code",
   "execution_count": null,
   "id": "2d4e3a6e-61b7-4bd3-81d5-691514785175",
   "metadata": {},
   "outputs": [],
   "source": [
    "meta_df2"
   ]
  },
  {
   "cell_type": "code",
   "execution_count": null,
   "id": "af5ab2f1-fd88-4093-a06c-a96444113f74",
   "metadata": {},
   "outputs": [],
   "source": [
    "meta_df2=meta_df2['station'].astype('str')"
   ]
  },
  {
   "cell_type": "code",
   "execution_count": null,
   "id": "a0e9da6f-9873-4855-a43b-8107158b7cad",
   "metadata": {},
   "outputs": [],
   "source": [
    "meta_df2.dtypes"
   ]
  },
  {
   "cell_type": "code",
   "execution_count": null,
   "id": "8ab474de-5bc3-47c4-9026-7b9f458583a2",
   "metadata": {},
   "outputs": [],
   "source": []
  }
 ],
 "metadata": {
  "kernelspec": {
   "display_name": "Python 3 (ipykernel)",
   "language": "python",
   "name": "python3"
  },
  "language_info": {
   "codemirror_mode": {
    "name": "ipython",
    "version": 3
   },
   "file_extension": ".py",
   "mimetype": "text/x-python",
   "name": "python",
   "nbconvert_exporter": "python",
   "pygments_lexer": "ipython3",
   "version": "3.10.9"
  }
 },
 "nbformat": 4,
 "nbformat_minor": 5
}
