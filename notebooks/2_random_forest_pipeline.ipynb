{
 "cells": [
  {
   "cell_type": "markdown",
   "id": "d913f31b-0e8b-4201-8b8c-4ced26817219",
   "metadata": {},
   "source": [
    "Something about the Workflow of this notebook\n"
   ]
  },
  {
   "cell_type": "markdown",
   "id": "f71f7a2d-9b39-4151-b073-dc5acc85bd67",
   "metadata": {},
   "source": [
    "First need to select features from timeseries"
   ]
  },
  {
   "cell_type": "code",
   "execution_count": 1,
   "id": "5b1e880a-41c4-44dd-b8f8-633e20b38505",
   "metadata": {},
   "outputs": [
    {
     "name": "stdout",
     "output_type": "stream",
     "text": [
      "/home/ec2-user/pgv_ml/psuedosyn_gnssvel/data/synth_ts/212_05.pq\n",
      "There are 16 CPUs on this machine \n"
     ]
    }
   ],
   "source": [
    "%run ../bin/features/ts_2_featuresets.py"
   ]
  },
  {
   "cell_type": "markdown",
   "id": "34ff82cb-b0f6-4649-b366-53503735eefe",
   "metadata": {},
   "source": [
    "Then translate ambient data set to features"
   ]
  },
  {
   "cell_type": "code",
   "execution_count": null,
   "id": "09a0f542-2f8c-4850-86ae-6a497d145173",
   "metadata": {},
   "outputs": [],
   "source": [
    "%run ../bin/features/ambient_2_fs.py"
   ]
  },
  {
   "cell_type": "code",
   "execution_count": 1,
   "id": "f16d203d-6126-49d4-b2b6-e3d15c96639c",
   "metadata": {},
   "outputs": [
    {
     "name": "stdout",
     "output_type": "stream",
     "text": [
      "There are 16 CPUs on this machine \n",
      "Could not open Parquet input source '<Buffer>': Parquet magic bytes not found in footer. Either the file is corrupted or this is not a parquet file.\n"
     ]
    }
   ],
   "source": [
    "%run ../bin/features/jgr_fs_2_new.py"
   ]
  },
  {
   "cell_type": "markdown",
   "id": "b64237c0-a464-4cea-86e8-5090048b1cae",
   "metadata": {},
   "source": [
    "Now train model using nested xval /kfold grid search optimization\n",
    "\n",
    "(best run as nohup)"
   ]
  },
  {
   "cell_type": "code",
   "execution_count": null,
   "id": "702d81b2-9efc-4661-92e0-e31d65939233",
   "metadata": {},
   "outputs": [],
   "source": [
    "%run ../bin/models/nest_xval_synth_MP.py"
   ]
  },
  {
   "cell_type": "code",
   "execution_count": null,
   "id": "73a50700-299e-4d91-ab8b-02c66e6af65f",
   "metadata": {},
   "outputs": [],
   "source": [
    "pq_list"
   ]
  },
  {
   "cell_type": "code",
   "execution_count": 1,
   "id": "67f10099-51dc-456e-a2d9-66538a78cf4f",
   "metadata": {},
   "outputs": [],
   "source": [
    "from itertools import product\n",
    "from collections import deque\n",
    "\n",
    "import os\n",
    "import pandas as pd\n",
    "import glob\n",
    "import numpy as np\n",
    "\n",
    "import datetime\n",
    "from scipy import signal\n",
    "import pywt\n",
    "\n",
    "import pyarrow as pa\n",
    "import pyarrow.parquet as pq\n",
    "import json\n",
    "\n",
    "import joblib\n",
    "\n",
    "from sklearn.ensemble import RandomForestClassifier\n",
    "from sklearn.metrics import precision_recall_fscore_support, f1_score\n",
    "from sklearn.metrics import precision_recall_curve\n",
    "from sklearn.metrics import accuracy_score\n",
    "\n",
    "import sys\n",
    "sys.path.insert(0, os.path.abspath('../bin/models'))\n",
    "\n",
    "from nested_xval_utils import *\n",
    "\n",
    "from multiprocessing import Pool, cpu_count"
   ]
  },
  {
   "cell_type": "code",
   "execution_count": 2,
   "id": "b50a95c0-ab6a-46bd-b34a-121e267b4fca",
   "metadata": {},
   "outputs": [],
   "source": [
    "pq_list=[os.path.join(os.path.dirname(os.getcwd()), 'data/feature_sets/',f) for f in os.listdir(os.path.join(os.path.dirname(os.getcwd()), 'data/feature_sets/'))]\n",
    "#pd_list=[pd.read_parquet(pq) for pq in pq_list if \".pq\" in pq]\n",
    "meta_list=[read_meta(pq_fs) for pq_fs in pq_list if \".pq\" in pq_fs]\n",
    "meta_df=pd.DataFrame.from_records(meta_list)\n",
    "\n",
    "##########\n",
    "fs={'feature':['all','psd', 'wavelet', 'time'], 'stacking':['horizontal'], 'dims':[['H0','H1','UP']], 'augment':[True, False]}\n",
    "fs={'feature':['psd'], 'stacking':['horizontal'], 'dims':[['H0','H1','UP']], 'augment':[True]}\n",
    "feature_sets=[dict(zip(fs, v)) for v in product(*fs.values())]\n",
    "d = {'n_folds':[5],'max_depth': [100], 'n_estimators': [100], 'class_wt':[None], 'wl_thresh':[-15,15],} #'wl_thresh':[-15, -10, -5, 0]\n",
    "d = {'n_folds':[5],'max_depth': [10], 'n_estimators': [10], 'class_wt':[None], 'wl_thresh':[15],} #'wl_thresh':[-15, -10, -5, 0]\n",
    "hyperp=[dict(zip(d, v)) for v in product(*d.values())]\n",
    "#########\n",
    "\n",
    "results=[]\n",
    "outer_results =[]\n",
    "first_tp=True\n",
    "first_fp=True\n",
    "\n",
    "\n",
    "\n",
    "#convert to rsn\n",
    "#test_set=meta_df[meta_df.eq_name.isin(test_set_events)].record_number.unique()\n",
    "#train_set=meta_df[meta_df.eq_name.isin(train_set_events)].record_number.unique()\n"
   ]
  },
  {
   "cell_type": "code",
   "execution_count": 10,
   "id": "1d547cd7-ddb1-4bcf-887c-37df7d26541f",
   "metadata": {},
   "outputs": [],
   "source": [
    "ambient_list= list(meta_df[meta_df.magnitude.isnull()].eq_name.unique())\n",
    "event_list=meta_df[~meta_df.magnitude.isnull()].sort_values(['magnitude'], ascending=False).groupby(\"eq_name\").count().sort_values(['station'], ascending=False).index.tolist()\n",
    "full_list=ambient_list+event_list"
   ]
  },
  {
   "cell_type": "code",
   "execution_count": 11,
   "id": "afdfc233-232c-4ad4-9f9c-0a8da643aece",
   "metadata": {},
   "outputs": [
    {
     "name": "stdout",
     "output_type": "stream",
     "text": [
      "1970\n",
      "167\n"
     ]
    }
   ],
   "source": [
    "# number of waveforms\n",
    "print(len(meta_df[~meta_df.magnitude.isnull()].record_number.unique()))\n",
    "# of events\n",
    "print(len(event_list))"
   ]
  },
  {
   "cell_type": "code",
   "execution_count": 8,
   "id": "d9c02c81-961e-4c7b-a470-a66d5ca077cf",
   "metadata": {},
   "outputs": [],
   "source": [
    "######################\n",
    "test_set_list=[]\n",
    "train_set_list=[]\n",
    "run_list=[]\n",
    "num_runs=10\n",
    "for k in np.arange(num_runs):\n",
    "#for k in np.arange(1):\n",
    "    run=k+1\n",
    "    items = deque(full_list)\n",
    "    items.rotate(-k)\n",
    "    test_set_events=list(items)[::num_runs]\n",
    "    train_set_events=list(set(full_list) - set(test_set_events))\n",
    "    test_set_list.append(test_set_events)\n",
    "    train_set_list.append(train_set_events)\n",
    "    run_list.append(run)"
   ]
  },
  {
   "cell_type": "code",
   "execution_count": 10,
   "id": "910dec23-7e01-4e03-9a1d-aef3857ffc45",
   "metadata": {},
   "outputs": [
    {
     "data": {
      "text/plain": [
       "[['ambient_6',\n",
       "  'ambient_5',\n",
       "  'ambient_23',\n",
       "  'ambient_25',\n",
       "  'ambient_46',\n",
       "  ' \"Northridge-01\"',\n",
       "  ' \"Coalinga-01\"',\n",
       "  ' \"Imperial Valley-06\"',\n",
       "  ' \"Kobe_ Japan\"',\n",
       "  ' \"Coalinga-05\"',\n",
       "  ' \"Hector Mine\"',\n",
       "  ' \"Mammoth Lakes-03\"',\n",
       "  ' \"Gilroy\"',\n",
       "  ' \"Lazio Abruzzo (aftershock 1)_ Italy\"',\n",
       "  ' \"Umbria Marche (aftershock 3)_ Italy\"',\n",
       "  ' \"Sicilia-Orientale_ Italy\"',\n",
       "  ' \"Northwest China-04\"',\n",
       "  ' \"Central Calif-02\"',\n",
       "  ' \"Imperial Valley-05\"',\n",
       "  ' \"Kern County\"',\n",
       "  ' \"Northwest China-01\"',\n",
       "  ' \"Drama_ Greece\"'],\n",
       " ['ambient_0',\n",
       "  'ambient_2',\n",
       "  'ambient_20',\n",
       "  'ambient_35',\n",
       "  'ambient_47',\n",
       "  ' \"Whittier Narrows-01\"',\n",
       "  ' \"Whittier Narrows-02\"',\n",
       "  ' \"14383980\"',\n",
       "  ' \"Chi-Chi_ Taiwan-04\"',\n",
       "  ' \"Coalinga-04\"',\n",
       "  ' \"Livermore-01\"',\n",
       "  ' \"Parkfield\"',\n",
       "  ' \"Georgia_ USSR\"',\n",
       "  ' \"Superstition Hills-02\"',\n",
       "  ' \"Umbria-03_ Italy\"',\n",
       "  ' \"Coalinga-08\"',\n",
       "  ' \"Umbria Marche (aftershock 15)_ Italy\"',\n",
       "  ' \"Spitak_ Armenia\"',\n",
       "  ' \"Northern Calif-07\"',\n",
       "  ' \"Managua_ Nicaragua-02\"',\n",
       "  ' \"Northern Calif-03\"',\n",
       "  ' \"New Zealand-02\"'],\n",
       " ['ambient_9',\n",
       "  'ambient_12',\n",
       "  'ambient_17',\n",
       "  'ambient_32',\n",
       "  'ambient_44',\n",
       "  ' \"Iwate_ Japan\"',\n",
       "  ' \"Tottori_ Japan\"',\n",
       "  ' \"Taiwan SMART1(5)\"',\n",
       "  ' \"Big Bear-01\"',\n",
       "  ' \"Coyote Lake\"',\n",
       "  ' \"Westmorland\"',\n",
       "  ' \"Umbria Marche (aftershock 2)_ Italy\"',\n",
       "  ' \"Fruili_ Italy-03\"',\n",
       "  ' \"Norcia_ Italy\"',\n",
       "  ' \"Bam_ Iran\"',\n",
       "  ' \"Coalinga-07\"',\n",
       "  ' \"Kozani_ Greece-04\"',\n",
       "  ' \"Superstition Hills-01\"',\n",
       "  ' \"Northwest China-03\"',\n",
       "  ' \"Kalamata_ Greece-01\"',\n",
       "  ' \"Northwest Calif-03\"',\n",
       "  ' \"New Zealand-01\"'],\n",
       " ['ambient_3',\n",
       "  'ambient_15',\n",
       "  'ambient_14',\n",
       "  'ambient_29',\n",
       "  'ambient_41',\n",
       "  ' \"Chi-Chi_ Taiwan\"',\n",
       "  ' \"40204628\"',\n",
       "  ' \"Landers\"',\n",
       "  ' \"Duzce_ Turkey\"',\n",
       "  ' \"Morgan Hill\"',\n",
       "  ' \"Umbria Marche (foreshock)_ Italy\"',\n",
       "  ' \"Mammoth Lakes-04\"',\n",
       "  ' \"Anza (Horse Canyon)-01\"',\n",
       "  ' \"Chalfant Valley-02\"',\n",
       "  ' \"14519780\"',\n",
       "  ' \"Potenza_ Italy\"',\n",
       "  ' \"Griva_ Greece\"',\n",
       "  ' \"Central Calif-01\"',\n",
       "  ' \"Hollister-02\"',\n",
       "  ' \"Joshua Tree_ CA    \"',\n",
       "  ' \"Corinth_ Greece\"',\n",
       "  ' \"Erzican_ Turkey\"'],\n",
       " ['ambient_10',\n",
       "  'ambient_18',\n",
       "  'ambient_24',\n",
       "  'ambient_26',\n",
       "  'ambient_38',\n",
       "  ' \"Chi-Chi_ Taiwan-06\"',\n",
       "  ' \"Niigata_ Japan\"',\n",
       "  ' \"N. Palm Springs\"',\n",
       "  ' \"L\\'Aquila (aftershock 1)_ Italy\"',\n",
       "  ' \"Irpinia_ Italy-02\"',\n",
       "  ' \"Umbria Marche (aftershock 8)_ Italy\"',\n",
       "  ' \"Victoria_ Mexico\"',\n",
       "  ' \"Friuli_ Italy-02\"',\n",
       "  ' \"Dinar_ Turkey\"',\n",
       "  ' \"Kalamata_ Greece-02\"',\n",
       "  ' \"Northwest China-02\"',\n",
       "  ' \"Veroia_ Greece\"',\n",
       "  ' \"Calabria_ Italy\"',\n",
       "  ' \"Gazli_ USSR\"',\n",
       "  ' \"Izmir_ Turkey\"',\n",
       "  ' \"Denali_ Alaska\"',\n",
       "  ' \"Mt. Lewis\"'],\n",
       " ['ambient_7',\n",
       "  'ambient_21',\n",
       "  'ambient_27',\n",
       "  'ambient_36',\n",
       "  'ambient_48',\n",
       "  ' \"Chuetsu-oki_ Japan\"',\n",
       "  ' \"Northridge-06\"',\n",
       "  ' \"Northridge-02\"',\n",
       "  ' \"Kocaeli_ Turkey\"',\n",
       "  ' \"Sierra Madre\"',\n",
       "  ' \"Montenegro_ Yugoslavia\"',\n",
       "  ' \"Manjil_ Iran\"',\n",
       "  ' \"Friuli_ Italy-01\"',\n",
       "  ' \"San Juan Bautista\"',\n",
       "  ' \"Umbria Marche (aftershock 17)_ Italy\"',\n",
       "  ' \"Hollister-04\"',\n",
       "  ' \"Point Mugu\"',\n",
       "  ' \"Borrego Mtn\"',\n",
       "  ' \"Gulf of Aqaba\"',\n",
       "  ' \"Imperial Valley-02\"',\n",
       "  ' \"Double Springs\"',\n",
       "  ' \"Friuli (aftershock 1)_ Italy\"'],\n",
       " ['ambient_4',\n",
       "  'ambient_22',\n",
       "  'ambient_30',\n",
       "  'ambient_33',\n",
       "  'ambient_45',\n",
       "  ' \"Chi-Chi_ Taiwan-03\"',\n",
       "  ' \"Taiwan SMART1(45)\"',\n",
       "  ' \"Christchurch_ New Zealand\"',\n",
       "  ' \"Imperial Valley-07\"',\n",
       "  ' \"Lazio-Abruzzo_ Italy\"',\n",
       "  ' \"Chalfant Valley-01\"',\n",
       "  ' \"Northridge-05\"',\n",
       "  ' \"Friuli (aftershock 9)_ Italy\"',\n",
       "  ' \"Chalfant Valley-03\"',\n",
       "  ' \"Umbria Marche_ Italy\"',\n",
       "  ' \"Mammoth Lakes-05\"',\n",
       "  ' \"14517500\"',\n",
       "  ' \"Bishop (Rnd Val)\"',\n",
       "  ' \"Helena_ Montana-01\"',\n",
       "  ' \"Imperial Valley-03\"',\n",
       "  ' \"Imperial Valley-08\"',\n",
       "  ' \"Kozani_ Greece-02\"'],\n",
       " ['ambient_1',\n",
       "  'ambient_19',\n",
       "  'ambient_34',\n",
       "  'ambient_37',\n",
       "  'ambient_42',\n",
       "  ' \"Parkfield-02_ CA\"',\n",
       "  ' \"Darfield_ New Zealand\"',\n",
       "  ' \"L\\'Aquila_ Italy\"',\n",
       "  ' \"Cape Mendocino\"',\n",
       "  ' \"Umbria Marche (aftershock 1)_ Italy\"',\n",
       "  ' \"Northridge-04\"',\n",
       "  ' \"Northridge-03\"',\n",
       "  ' \"Mammoth Lakes-01\"',\n",
       "  ' \"Little Skull Mtn_NV\"',\n",
       "  ' \"Nahanni_ Canada\"',\n",
       "  ' \"Chalfant Valley-04\"',\n",
       "  ' \"San Francisco\"',\n",
       "  ' \"Big Bear City\"',\n",
       "  ' \"Helena_ Montana-02\"',\n",
       "  ' \"Imperial Valley-04\"',\n",
       "  ' \"Northern Calif-05\"',\n",
       "  'ambient_6'],\n",
       " ['ambient_11',\n",
       "  'ambient_16',\n",
       "  'ambient_31',\n",
       "  'ambient_40',\n",
       "  'ambient_39',\n",
       "  ' \"Chi-Chi_ Taiwan-02\"',\n",
       "  ' \"Taiwan SMART1(33)\"',\n",
       "  ' \"Coalinga-02\"',\n",
       "  ' \"Irpinia_ Italy-01\"',\n",
       "  ' \"Livermore-02\"',\n",
       "  ' \"Lytle Creek\"',\n",
       "  ' \"14151344\"',\n",
       "  ' \"Mammoth Lakes-02\"',\n",
       "  ' \"Coalinga-03\"',\n",
       "  ' \"San Salvador\"',\n",
       "  ' \"Hollister-03\"',\n",
       "  ' \"Almiros_ Greece\"',\n",
       "  ' \"Umbria Marche (aftershock 13)_ Italy\"',\n",
       "  ' \"Hollister-01\"',\n",
       "  ' \"Managua_ Nicaragua-01\"',\n",
       "  ' \"Northern Calif-01\"',\n",
       "  'ambient_0'],\n",
       " ['ambient_8',\n",
       "  'ambient_13',\n",
       "  'ambient_28',\n",
       "  'ambient_43',\n",
       "  'ambient_49',\n",
       "  ' \"Loma Prieta\"',\n",
       "  ' \"El Mayor-Cucapah_ Mexico\"',\n",
       "  ' \"San Fernando\"',\n",
       "  ' \"L\\'Aquila (aftershock 2)_ Italy\"',\n",
       "  ' \"San Simeon_ CA\"',\n",
       "  ' \"Mammoth Lakes-06\"',\n",
       "  ' \"Yountville\"',\n",
       "  ' \"Tabas_ Iran\"',\n",
       "  ' \"Basso Tirreno_ Italy\"',\n",
       "  ' \"Santa Barbara\"',\n",
       "  ' \"Kozani_ Greece-01\"',\n",
       "  ' \"Umbria Marche (aftershock 16)_ Italy\"',\n",
       "  ' \"Baja California\"',\n",
       "  ' \"Kozani_ Greece-03\"',\n",
       "  ' \"Friuli (aftershock 6)_ Italy\"',\n",
       "  ' \"Friuli (aftershock 2)_ Italy\"',\n",
       "  'ambient_9']]"
      ]
     },
     "execution_count": 10,
     "metadata": {},
     "output_type": "execute_result"
    }
   ],
   "source": [
    "test_set_list"
   ]
  },
  {
   "cell_type": "code",
   "execution_count": null,
   "id": "db3df464-aad2-4588-af73-dd629119c971",
   "metadata": {},
   "outputs": [],
   "source": [
    "test_set_list=[]\n",
    "train_set_list=[]\n",
    "run_list=[]\n",
    "num_runs=10\n",
    "num_runs=1\n",
    "#for k in np.arange(num_runs):\n",
    "for k in np.arange(num_runs):\n",
    "    run=k+1\n",
    "    items = deque(full_list)\n",
    "    items.rotate(-k)\n",
    "    test_set_events=list(items)[::num_runs]\n",
    "    train_set_events=list(set(full_list) - set(test_set_events))\n",
    "    test_set_list.append(test_set_events)\n",
    "    train_set_list.append(train_set_events)\n",
    "    run_list.append(run)"
   ]
  },
  {
   "cell_type": "code",
   "execution_count": null,
   "id": "f3c5e7c1-559d-4a9a-a658-c981b494834c",
   "metadata": {},
   "outputs": [],
   "source": [
    "full_list"
   ]
  },
  {
   "cell_type": "code",
   "execution_count": 7,
   "id": "a808e164-de30-41de-b850-829f323d918a",
   "metadata": {},
   "outputs": [
    {
     "data": {
      "text/plain": [
       "1970"
      ]
     },
     "execution_count": 7,
     "metadata": {},
     "output_type": "execute_result"
    }
   ],
   "source": []
  },
  {
   "cell_type": "code",
   "execution_count": null,
   "id": "be1acf3c-64e9-4e7d-be48-7f74fb766f02",
   "metadata": {},
   "outputs": [],
   "source": [
    "meta_df.dtypes"
   ]
  },
  {
   "cell_type": "code",
   "execution_count": null,
   "id": "a16e01c2-5281-4275-862e-7ee9d0122e19",
   "metadata": {},
   "outputs": [],
   "source": [
    "str_cols=['station','year','eq_name','record_number','mechanism','noise_lev']\n",
    "\n",
    "meta_df[str_cols]"
   ]
  },
  {
   "cell_type": "code",
   "execution_count": null,
   "id": "8a17316f-25c8-497d-8ac8-0dbabd4e25f4",
   "metadata": {},
   "outputs": [],
   "source": [
    "meta_df[str_cols] = meta_df[str_cols].astype('|S') "
   ]
  },
  {
   "cell_type": "code",
   "execution_count": null,
   "id": "6c18bf1d-7a8f-433a-9e4b-deea31c94121",
   "metadata": {},
   "outputs": [],
   "source": [
    "meta_df"
   ]
  },
  {
   "cell_type": "code",
   "execution_count": null,
   "id": "8f3a00cb-2578-40b6-93f2-f5ea5bb1e41d",
   "metadata": {},
   "outputs": [],
   "source": [
    "meta_df.to_csv('../data/meta/fs_meta.csv', index=False)"
   ]
  },
  {
   "cell_type": "code",
   "execution_count": null,
   "id": "f389382d-ec90-4316-ba20-a3dad9328f28",
   "metadata": {},
   "outputs": [],
   "source": [
    "meta_df2=pd.read_csv('../data/meta/fs_meta.csv')"
   ]
  },
  {
   "cell_type": "code",
   "execution_count": null,
   "id": "2d4e3a6e-61b7-4bd3-81d5-691514785175",
   "metadata": {},
   "outputs": [],
   "source": [
    "meta_df2"
   ]
  },
  {
   "cell_type": "code",
   "execution_count": null,
   "id": "af5ab2f1-fd88-4093-a06c-a96444113f74",
   "metadata": {},
   "outputs": [],
   "source": [
    "meta_df2=meta_df2['station'].astype('str')"
   ]
  },
  {
   "cell_type": "code",
   "execution_count": null,
   "id": "a0e9da6f-9873-4855-a43b-8107158b7cad",
   "metadata": {},
   "outputs": [],
   "source": [
    "meta_df2.dtypes"
   ]
  },
  {
   "cell_type": "code",
   "execution_count": null,
   "id": "8ab474de-5bc3-47c4-9026-7b9f458583a2",
   "metadata": {},
   "outputs": [],
   "source": []
  }
 ],
 "metadata": {
  "kernelspec": {
   "display_name": "Python 3 (ipykernel)",
   "language": "python",
   "name": "python3"
  },
  "language_info": {
   "codemirror_mode": {
    "name": "ipython",
    "version": 3
   },
   "file_extension": ".py",
   "mimetype": "text/x-python",
   "name": "python",
   "nbconvert_exporter": "python",
   "pygments_lexer": "ipython3",
   "version": "3.10.9"
  }
 },
 "nbformat": 4,
 "nbformat_minor": 5
}
