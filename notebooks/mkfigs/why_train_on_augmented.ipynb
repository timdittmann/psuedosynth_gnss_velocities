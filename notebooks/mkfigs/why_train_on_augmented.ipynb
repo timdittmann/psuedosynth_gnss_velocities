{
 "cells": [
  {
   "cell_type": "code",
   "execution_count": 1,
   "id": "a8c862e9-1a23-4469-9381-dd0d7891e2d1",
   "metadata": {},
   "outputs": [],
   "source": [
    "#!/usr/bin/env python3\n",
    "\n",
    "from itertools import product\n",
    "from collections import deque\n",
    "\n",
    "import os\n",
    "import pandas as pd\n",
    "import glob\n",
    "import numpy as np\n",
    "\n",
    "import datetime\n",
    "from scipy import signal\n",
    "import pywt\n",
    "\n",
    "import pyarrow as pa\n",
    "import pyarrow.parquet as pq\n",
    "import json\n",
    "\n",
    "import joblib\n",
    "\n",
    "from sklearn.ensemble import RandomForestClassifier\n",
    "from sklearn.metrics import precision_recall_fscore_support, f1_score\n",
    "from sklearn.metrics import precision_recall_curve\n",
    "from sklearn.metrics import accuracy_score\n",
    "from sklearn.metrics import confusion_matrix\n",
    "\n",
    "import matplotlib.pyplot as plt\n",
    "\n",
    "import os\n",
    "import sys\n",
    "sys.path.insert(0, os.path.abspath('../../bin/models'))\n",
    "\n",
    "from nested_xval_utils import *"
   ]
  },
  {
   "cell_type": "markdown",
   "id": "3b5a0d50-f600-4b45-8f20-bab8482e431e",
   "metadata": {},
   "source": [
    "# Strategy:\n",
    "\n",
    "Run nested cross validation on unavco gnss dataset.\n",
    "Limit unavco dataset to comparable events (<70km radius)\n",
    "\n",
    "for each run, train a model on just gnss data, and then compare the results with the complete model from the NGA dataset\n",
    "Report Pr, Recall, F1 for these 10 runs.\n",
    "\n",
    "Then train an overall model on the GNSS data.\n",
    "Compare with teh overall NGA model against an unseen ambient dataset."
   ]
  },
  {
   "cell_type": "code",
   "execution_count": 2,
   "id": "03280b58-4882-41b8-b240-eb3a768ed583",
   "metadata": {},
   "outputs": [],
   "source": [
    "fsize = 15\n",
    "tsize = 18\n",
    "tdir = 'in'\n",
    "major = 5.0\n",
    "minor = 3.0\n",
    "lwidth = 0.8\n",
    "lhandle = 2.0\n",
    "plt.style.use('default')\n",
    "plt.rcParams['text.usetex'] = True\n",
    "plt.rcParams['font.size'] = fsize\n",
    "plt.rcParams['legend.fontsize'] = fsize-5\n",
    "plt.rcParams['xtick.direction'] = tdir\n",
    "plt.rcParams['ytick.direction'] = tdir\n",
    "plt.rcParams['xtick.major.size'] = major\n",
    "plt.rcParams['xtick.minor.size'] = minor\n",
    "plt.rcParams['ytick.major.size'] = 5.0\n",
    "plt.rcParams['ytick.minor.size'] = 3.0\n",
    "plt.rcParams['axes.linewidth'] = lwidth\n",
    "plt.rcParams['legend.handlelength'] = lhandle"
   ]
  },
  {
   "cell_type": "code",
   "execution_count": null,
   "id": "90f21add-05bc-4336-bbec-38e121c660dd",
   "metadata": {},
   "outputs": [],
   "source": [
    "#NGA SYNTHETIC DATA\n",
    "##############\n",
    "#pq_list=[os.path.join(os.path.dirname(os.getcwd()), 'data/feature_sets/',f) for f in os.listdir(os.path.join(os.path.dirname(os.getcwd()), 'data/feature_sets/'))]\n",
    "pq_list=os.listdir('../../data/feature_sets/')\n",
    "pq_list=[os.path.join('../../data/feature_sets/',f) for f in os.listdir('../../data/feature_sets/')]\n",
    "#pd_list=[pd.read_parquet(pq) for pq in pq_list if \".pq\" in pq]\n",
    "meta_list=[read_meta(pq_fs) for pq_fs in pq_list if \".pq\" in pq_fs]\n",
    "meta_df=pd.DataFrame.from_records(meta_list)\n",
    "\n",
    "\n",
    "######################\n",
    "ambient_list= list(meta_df[meta_df.magnitude.isnull()].eq_name.unique())\n",
    "event_list=meta_df[~meta_df.magnitude.isnull()].sort_values(['magnitude'], ascending=False).groupby(\"eq_name\").count().sort_values(['station'], ascending=False).index.tolist()\n",
    "full_list=ambient_list+event_list\n",
    "\n",
    "#convert to rsn\n",
    "full_list_nga=meta_df[meta_df.eq_name.isin(full_list)].record_number.unique()\n",
    "event_list_nga=meta_df[meta_df.eq_name.isin(event_list)].record_number.unique()\n",
    "\n",
    "\n",
    "## JGR GNSS DATA\n",
    "###############  Generate list of samples by event\n",
    "#pq_list=[os.path.join(os.path.dirname(os.getcwd()), 'data/feature_set/',f) \\\n",
    "#         for f in  os.listdir(os.path.join(os.path.dirname(os.getcwd()), 'data/feature_set/'))]\n",
    "\n",
    "pq_list=[os.path.join('../../../snivel/data/feature_set/',f) for f in os.listdir('../../../snivel/data/feature_set/')]\n",
    "meta_list=[read_meta(pq_fs) for pq_fs in pq_list if \".pq\" in pq_fs]\n",
    "meta_df=pd.DataFrame.from_records(meta_list)\n",
    "\n",
    "jgr_test=meta_df[(meta_df.radius_from_event<70) | (meta_df.radius_from_event==np.nan)]\n",
    "jgr_test=meta_df[(meta_df.radius_from_event<70) | (meta_df['radius_from_event'].isna())]\n",
    "\n",
    "\n"
   ]
  },
  {
   "cell_type": "code",
   "execution_count": 17,
   "id": "16ac482e-383b-4721-a0bb-372f54bcde49",
   "metadata": {},
   "outputs": [
    {
     "data": {
      "text/html": [
       "<div>\n",
       "<style scoped>\n",
       "    .dataframe tbody tr th:only-of-type {\n",
       "        vertical-align: middle;\n",
       "    }\n",
       "\n",
       "    .dataframe tbody tr th {\n",
       "        vertical-align: top;\n",
       "    }\n",
       "\n",
       "    .dataframe thead th {\n",
       "        text-align: right;\n",
       "    }\n",
       "</style>\n",
       "<table border=\"1\" class=\"dataframe\">\n",
       "  <thead>\n",
       "    <tr style=\"text-align: right;\">\n",
       "      <th></th>\n",
       "      <th>station</th>\n",
       "      <th>year</th>\n",
       "      <th>doy</th>\n",
       "      <th>lat</th>\n",
       "      <th>long</th>\n",
       "      <th>eventID</th>\n",
       "      <th>radius_from_event</th>\n",
       "      <th>event_time</th>\n",
       "      <th>magnitude</th>\n",
       "      <th>p_arrival</th>\n",
       "      <th>s_arrival</th>\n",
       "      <th>y_label1</th>\n",
       "      <th>y_label2</th>\n",
       "      <th>y_label3</th>\n",
       "    </tr>\n",
       "  </thead>\n",
       "  <tbody>\n",
       "    <tr>\n",
       "      <th>6</th>\n",
       "      <td>p593</td>\n",
       "      <td>2019</td>\n",
       "      <td>185</td>\n",
       "      <td>35.3879</td>\n",
       "      <td>-117.2050</td>\n",
       "      <td>ci38443183</td>\n",
       "      <td>44.437208</td>\n",
       "      <td>2019-07-04T17:33:49.000</td>\n",
       "      <td>6.40</td>\n",
       "      <td>2019-07-04 17:33:56.670000</td>\n",
       "      <td>2019-07-04 17:34:02.230000</td>\n",
       "      <td>[14, 16, 21]</td>\n",
       "      <td>[7, 5, 0]</td>\n",
       "      <td>[0, 0, 0]</td>\n",
       "    </tr>\n",
       "    <tr>\n",
       "      <th>44</th>\n",
       "      <td>p168</td>\n",
       "      <td>2010</td>\n",
       "      <td>010</td>\n",
       "      <td>40.6686</td>\n",
       "      <td>-123.8815</td>\n",
       "      <td>nc71338066</td>\n",
       "      <td>68.607278</td>\n",
       "      <td>2010-01-10T00:27:39.320</td>\n",
       "      <td>6.50</td>\n",
       "      <td>2010-01-10 00:27:51.120000</td>\n",
       "      <td>2010-01-10 00:27:59.690000</td>\n",
       "      <td>[16, 16, 17]</td>\n",
       "      <td>[4, 5, 0]</td>\n",
       "      <td>[1, 0, 4]</td>\n",
       "    </tr>\n",
       "    <tr>\n",
       "      <th>49</th>\n",
       "      <td>dssc</td>\n",
       "      <td>2010</td>\n",
       "      <td>188</td>\n",
       "      <td>33.7333</td>\n",
       "      <td>-116.7121</td>\n",
       "      <td>ci10736069</td>\n",
       "      <td>41.401724</td>\n",
       "      <td>2010-07-07T23:53:33.480</td>\n",
       "      <td>5.42</td>\n",
       "      <td>2010-07-07 23:53:40.630000</td>\n",
       "      <td>2010-07-07 23:53:45.820000</td>\n",
       "      <td>[17, 17, 21]</td>\n",
       "      <td>[3, 3, 0]</td>\n",
       "      <td>[1, 1, 0]</td>\n",
       "    </tr>\n",
       "    <tr>\n",
       "      <th>52</th>\n",
       "      <td>p486</td>\n",
       "      <td>2010</td>\n",
       "      <td>188</td>\n",
       "      <td>33.2602</td>\n",
       "      <td>-116.3223</td>\n",
       "      <td>ci10736069</td>\n",
       "      <td>22.470545</td>\n",
       "      <td>2010-07-07T23:53:33.480</td>\n",
       "      <td>5.42</td>\n",
       "      <td>2010-07-07 23:53:37.360000</td>\n",
       "      <td>2010-07-07 23:53:40.170000</td>\n",
       "      <td>[17, 17, 17]</td>\n",
       "      <td>[4, 4, 4]</td>\n",
       "      <td>[0, 0, 0]</td>\n",
       "    </tr>\n",
       "    <tr>\n",
       "      <th>64</th>\n",
       "      <td>p464</td>\n",
       "      <td>2019</td>\n",
       "      <td>187</td>\n",
       "      <td>36.1590</td>\n",
       "      <td>-117.4100</td>\n",
       "      <td>ci38457847</td>\n",
       "      <td>37.092392</td>\n",
       "      <td>2019-07-06T04:18:55.790</td>\n",
       "      <td>5.44</td>\n",
       "      <td>2019-07-06 04:19:02.190000</td>\n",
       "      <td>2019-07-06 04:19:06.830000</td>\n",
       "      <td>[21, 21, 21]</td>\n",
       "      <td>[0, 0, 0]</td>\n",
       "      <td>[0, 0, 0]</td>\n",
       "    </tr>\n",
       "    <tr>\n",
       "      <th>...</th>\n",
       "      <td>...</td>\n",
       "      <td>...</td>\n",
       "      <td>...</td>\n",
       "      <td>...</td>\n",
       "      <td>...</td>\n",
       "      <td>...</td>\n",
       "      <td>...</td>\n",
       "      <td>...</td>\n",
       "      <td>...</td>\n",
       "      <td>...</td>\n",
       "      <td>...</td>\n",
       "      <td>...</td>\n",
       "      <td>...</td>\n",
       "      <td>...</td>\n",
       "    </tr>\n",
       "    <tr>\n",
       "      <th>3203</th>\n",
       "      <td>pmkz</td>\n",
       "      <td>2021</td>\n",
       "      <td>058</td>\n",
       "      <td>NaN</td>\n",
       "      <td>NaN</td>\n",
       "      <td>ambient50</td>\n",
       "      <td>NaN</td>\n",
       "      <td>NaN</td>\n",
       "      <td>NaN</td>\n",
       "      <td>NaN</td>\n",
       "      <td>NaN</td>\n",
       "      <td>[59, 59, 59]</td>\n",
       "      <td>[0, 0, 0]</td>\n",
       "      <td>[0, 0, 0]</td>\n",
       "    </tr>\n",
       "    <tr>\n",
       "      <th>3204</th>\n",
       "      <td>p744</td>\n",
       "      <td>2019</td>\n",
       "      <td>187</td>\n",
       "      <td>NaN</td>\n",
       "      <td>NaN</td>\n",
       "      <td>ambient50</td>\n",
       "      <td>NaN</td>\n",
       "      <td>NaN</td>\n",
       "      <td>NaN</td>\n",
       "      <td>NaN</td>\n",
       "      <td>NaN</td>\n",
       "      <td>[59, 59, 59]</td>\n",
       "      <td>[0, 0, 0]</td>\n",
       "      <td>[0, 0, 0]</td>\n",
       "    </tr>\n",
       "    <tr>\n",
       "      <th>3205</th>\n",
       "      <td>p261</td>\n",
       "      <td>2019</td>\n",
       "      <td>187</td>\n",
       "      <td>NaN</td>\n",
       "      <td>NaN</td>\n",
       "      <td>ambient50</td>\n",
       "      <td>NaN</td>\n",
       "      <td>NaN</td>\n",
       "      <td>NaN</td>\n",
       "      <td>NaN</td>\n",
       "      <td>NaN</td>\n",
       "      <td>[59, 59, 59]</td>\n",
       "      <td>[0, 0, 0]</td>\n",
       "      <td>[0, 0, 0]</td>\n",
       "    </tr>\n",
       "    <tr>\n",
       "      <th>3206</th>\n",
       "      <td>bon2</td>\n",
       "      <td>2017</td>\n",
       "      <td>251</td>\n",
       "      <td>NaN</td>\n",
       "      <td>NaN</td>\n",
       "      <td>ambient50</td>\n",
       "      <td>NaN</td>\n",
       "      <td>NaN</td>\n",
       "      <td>NaN</td>\n",
       "      <td>NaN</td>\n",
       "      <td>NaN</td>\n",
       "      <td>[59, 59, 59]</td>\n",
       "      <td>[0, 0, 0]</td>\n",
       "      <td>[0, 0, 0]</td>\n",
       "    </tr>\n",
       "    <tr>\n",
       "      <th>3207</th>\n",
       "      <td>ac34</td>\n",
       "      <td>2020</td>\n",
       "      <td>204</td>\n",
       "      <td>NaN</td>\n",
       "      <td>NaN</td>\n",
       "      <td>ambient51</td>\n",
       "      <td>NaN</td>\n",
       "      <td>NaN</td>\n",
       "      <td>NaN</td>\n",
       "      <td>NaN</td>\n",
       "      <td>NaN</td>\n",
       "      <td>[59, 59, 59]</td>\n",
       "      <td>[0, 0, 0]</td>\n",
       "      <td>[0, 0, 0]</td>\n",
       "    </tr>\n",
       "  </tbody>\n",
       "</table>\n",
       "<p>1754 rows × 14 columns</p>\n",
       "</div>"
      ],
      "text/plain": [
       "     station  year  doy      lat      long     eventID  radius_from_event  \\\n",
       "6       p593  2019  185  35.3879 -117.2050  ci38443183          44.437208   \n",
       "44      p168  2010  010  40.6686 -123.8815  nc71338066          68.607278   \n",
       "49      dssc  2010  188  33.7333 -116.7121  ci10736069          41.401724   \n",
       "52      p486  2010  188  33.2602 -116.3223  ci10736069          22.470545   \n",
       "64      p464  2019  187  36.1590 -117.4100  ci38457847          37.092392   \n",
       "...      ...   ...  ...      ...       ...         ...                ...   \n",
       "3203    pmkz  2021  058      NaN       NaN   ambient50                NaN   \n",
       "3204    p744  2019  187      NaN       NaN   ambient50                NaN   \n",
       "3205    p261  2019  187      NaN       NaN   ambient50                NaN   \n",
       "3206    bon2  2017  251      NaN       NaN   ambient50                NaN   \n",
       "3207    ac34  2020  204      NaN       NaN   ambient51                NaN   \n",
       "\n",
       "                   event_time  magnitude                   p_arrival  \\\n",
       "6     2019-07-04T17:33:49.000       6.40  2019-07-04 17:33:56.670000   \n",
       "44    2010-01-10T00:27:39.320       6.50  2010-01-10 00:27:51.120000   \n",
       "49    2010-07-07T23:53:33.480       5.42  2010-07-07 23:53:40.630000   \n",
       "52    2010-07-07T23:53:33.480       5.42  2010-07-07 23:53:37.360000   \n",
       "64    2019-07-06T04:18:55.790       5.44  2019-07-06 04:19:02.190000   \n",
       "...                       ...        ...                         ...   \n",
       "3203                      NaN        NaN                         NaN   \n",
       "3204                      NaN        NaN                         NaN   \n",
       "3205                      NaN        NaN                         NaN   \n",
       "3206                      NaN        NaN                         NaN   \n",
       "3207                      NaN        NaN                         NaN   \n",
       "\n",
       "                       s_arrival      y_label1   y_label2   y_label3  \n",
       "6     2019-07-04 17:34:02.230000  [14, 16, 21]  [7, 5, 0]  [0, 0, 0]  \n",
       "44    2010-01-10 00:27:59.690000  [16, 16, 17]  [4, 5, 0]  [1, 0, 4]  \n",
       "49    2010-07-07 23:53:45.820000  [17, 17, 21]  [3, 3, 0]  [1, 1, 0]  \n",
       "52    2010-07-07 23:53:40.170000  [17, 17, 17]  [4, 4, 4]  [0, 0, 0]  \n",
       "64    2019-07-06 04:19:06.830000  [21, 21, 21]  [0, 0, 0]  [0, 0, 0]  \n",
       "...                          ...           ...        ...        ...  \n",
       "3203                         NaN  [59, 59, 59]  [0, 0, 0]  [0, 0, 0]  \n",
       "3204                         NaN  [59, 59, 59]  [0, 0, 0]  [0, 0, 0]  \n",
       "3205                         NaN  [59, 59, 59]  [0, 0, 0]  [0, 0, 0]  \n",
       "3206                         NaN  [59, 59, 59]  [0, 0, 0]  [0, 0, 0]  \n",
       "3207                         NaN  [59, 59, 59]  [0, 0, 0]  [0, 0, 0]  \n",
       "\n",
       "[1754 rows x 14 columns]"
      ]
     },
     "execution_count": 17,
     "metadata": {},
     "output_type": "execute_result"
    }
   ],
   "source": [
    "jgr_test"
   ]
  },
  {
   "cell_type": "code",
   "execution_count": null,
   "id": "efe418b0-6e44-40f5-9c78-102a8e013acf",
   "metadata": {},
   "outputs": [],
   "source": [
    "# DETERMINE IF AMBIENT IS BEING USED?"
   ]
  },
  {
   "cell_type": "code",
   "execution_count": 21,
   "id": "3650a503-d599-44ed-8314-ee751965ded8",
   "metadata": {},
   "outputs": [
    {
     "data": {
      "text/plain": [
       "array([212, 4134, 585, ..., 1507, 850, 1517], dtype=object)"
      ]
     },
     "execution_count": 21,
     "metadata": {},
     "output_type": "execute_result"
    }
   ],
   "source": [
    "event_list_nga"
   ]
  },
  {
   "cell_type": "markdown",
   "id": "fdac920d-cc05-47ec-8069-543888adc447",
   "metadata": {},
   "source": [
    "# get counts"
   ]
  },
  {
   "cell_type": "code",
   "execution_count": 58,
   "id": "f6401642-d292-49bd-94f7-868005600c15",
   "metadata": {},
   "outputs": [],
   "source": [
    "#from nested_xval_utils import list_to_featurearrays\n",
    "\n",
    "import importlib\n",
    "importlib.reload(sys.modules['nested_xval_utils'])\n",
    "from nested_xval_utils import *"
   ]
  },
  {
   "cell_type": "code",
   "execution_count": 33,
   "id": "b6d5fba8-9edd-4cce-9ce1-5d76bf27931d",
   "metadata": {},
   "outputs": [
    {
     "data": {
      "text/plain": [
       "{'n_folds': 5,\n",
       " 'max_depth': 100,\n",
       " 'n_estimators': 120,\n",
       " 'class_wt': None,\n",
       " 'wl_thresh': 0,\n",
       " 'feature': 'all',\n",
       " 'stacking': 'horizontal',\n",
       " 'dims': ['H0', 'H1', 'UP'],\n",
       " 'augment': True}"
      ]
     },
     "execution_count": 33,
     "metadata": {},
     "output_type": "execute_result"
    }
   ],
   "source": [
    "params[0]"
   ]
  },
  {
   "cell_type": "code",
   "execution_count": 59,
   "id": "f1375b47-0180-41c5-b4c3-89dab6a6800c",
   "metadata": {},
   "outputs": [],
   "source": [
    "X_train_nga, y_train_nga, name_list_nga, times_nga, snr_metric=list_to_featurearrays(event_list_nga, params[0], test=False)"
   ]
  },
  {
   "cell_type": "code",
   "execution_count": 6,
   "id": "de7994ca-4ebf-4883-a267-305e09ad318c",
   "metadata": {},
   "outputs": [
    {
     "data": {
      "text/plain": [
       "array([0, 0, 0, ..., 0, 0, 0])"
      ]
     },
     "execution_count": 6,
     "metadata": {},
     "output_type": "execute_result"
    }
   ],
   "source": [
    "y_train_nga"
   ]
  },
  {
   "cell_type": "code",
   "execution_count": 20,
   "id": "4cb077ba-51d0-431d-9cce-39c2894d74d1",
   "metadata": {},
   "outputs": [],
   "source": [
    "first_t_idx=np.argmax(y_>0)\n",
    "first_t=times[first_t_idx]"
   ]
  },
  {
   "cell_type": "code",
   "execution_count": 12,
   "id": "2007d86e-9f6c-4c3e-9a6e-3504377af5e9",
   "metadata": {},
   "outputs": [],
   "source": [
    "X_, y_, names, times, snr_metric=list_to_featurearrays([100], params[0], test=False)"
   ]
  },
  {
   "cell_type": "code",
   "execution_count": 21,
   "id": "8241554b-c893-4601-bda2-52af69844731",
   "metadata": {},
   "outputs": [
    {
     "data": {
      "text/plain": [
       "3.8"
      ]
     },
     "execution_count": 21,
     "metadata": {},
     "output_type": "execute_result"
    }
   ],
   "source": [
    "first_t"
   ]
  },
  {
   "cell_type": "code",
   "execution_count": 13,
   "id": "aa2e1b7c-c1bd-4c47-a922-b3c2b89e789a",
   "metadata": {},
   "outputs": [
    {
     "data": {
      "text/plain": [
       "3.8"
      ]
     },
     "execution_count": 13,
     "metadata": {},
     "output_type": "execute_result"
    }
   ],
   "source": [
    "times[np.argmax(y_>0)]"
   ]
  },
  {
   "cell_type": "code",
   "execution_count": 8,
   "id": "051c66b3-0763-4a02-b410-26085f74f2fa",
   "metadata": {},
   "outputs": [
    {
     "data": {
      "text/plain": [
       "6"
      ]
     },
     "execution_count": 8,
     "metadata": {},
     "output_type": "execute_result"
    }
   ],
   "source": [
    "np.argmax(y_train_nga>0)"
   ]
  },
  {
   "cell_type": "code",
   "execution_count": 7,
   "id": "6af92385-ec2f-49b2-8291-acc79df8a81c",
   "metadata": {},
   "outputs": [],
   "source": [
    "jgr_test=meta_df[(meta_df.radius_from_event<70) | (meta_df['radius_from_event'].isna())]"
   ]
  },
  {
   "cell_type": "code",
   "execution_count": 11,
   "id": "6f372abc-f740-4edb-b212-7e1d58eca898",
   "metadata": {},
   "outputs": [],
   "source": [
    "#Not ambient ones\n",
    "jgr_test2=meta_df[~meta_df['radius_from_event'].isna()]"
   ]
  },
  {
   "cell_type": "code",
   "execution_count": 14,
   "id": "00a00fab-3a6e-46a1-ae6a-cc7e7a068b11",
   "metadata": {},
   "outputs": [],
   "source": [
    "X_train, y_train, name_list, times, snr_metric=list_to_featurearrays_JGR(jgr_test2, params[0], test=True)"
   ]
  },
  {
   "cell_type": "code",
   "execution_count": 15,
   "id": "c8179f8b-5ce1-4a90-961c-6064b739f646",
   "metadata": {},
   "outputs": [
    {
     "data": {
      "text/plain": [
       "(46778, 546)"
      ]
     },
     "execution_count": 15,
     "metadata": {},
     "output_type": "execute_result"
    }
   ],
   "source": [
    "X_train.shape"
   ]
  },
  {
   "cell_type": "code",
   "execution_count": 4,
   "id": "9b0e6c1c-17fb-4dd6-a9d8-c1095cde6199",
   "metadata": {},
   "outputs": [],
   "source": [
    "jgr_test2=meta_df[meta_df['radius_from_event'].isna()]"
   ]
  },
  {
   "cell_type": "code",
   "execution_count": 5,
   "id": "2cead709-b559-40d3-960b-ee021a2c1551",
   "metadata": {},
   "outputs": [
    {
     "data": {
      "text/html": [
       "<div>\n",
       "<style scoped>\n",
       "    .dataframe tbody tr th:only-of-type {\n",
       "        vertical-align: middle;\n",
       "    }\n",
       "\n",
       "    .dataframe tbody tr th {\n",
       "        vertical-align: top;\n",
       "    }\n",
       "\n",
       "    .dataframe thead th {\n",
       "        text-align: right;\n",
       "    }\n",
       "</style>\n",
       "<table border=\"1\" class=\"dataframe\">\n",
       "  <thead>\n",
       "    <tr style=\"text-align: right;\">\n",
       "      <th></th>\n",
       "      <th>station</th>\n",
       "      <th>year</th>\n",
       "      <th>doy</th>\n",
       "      <th>lat</th>\n",
       "      <th>long</th>\n",
       "      <th>eventID</th>\n",
       "      <th>radius_from_event</th>\n",
       "      <th>event_time</th>\n",
       "      <th>magnitude</th>\n",
       "      <th>p_arrival</th>\n",
       "      <th>s_arrival</th>\n",
       "      <th>y_label1</th>\n",
       "      <th>y_label2</th>\n",
       "      <th>y_label3</th>\n",
       "    </tr>\n",
       "  </thead>\n",
       "  <tbody>\n",
       "    <tr>\n",
       "      <th>1701</th>\n",
       "      <td>p551</td>\n",
       "      <td>2019</td>\n",
       "      <td>187</td>\n",
       "      <td>NaN</td>\n",
       "      <td>NaN</td>\n",
       "      <td>ambient0</td>\n",
       "      <td>NaN</td>\n",
       "      <td>NaN</td>\n",
       "      <td>NaN</td>\n",
       "      <td>NaN</td>\n",
       "      <td>NaN</td>\n",
       "      <td>[59, 59, 59]</td>\n",
       "      <td>[0, 0, 0]</td>\n",
       "      <td>[0, 0, 0]</td>\n",
       "    </tr>\n",
       "    <tr>\n",
       "      <th>1702</th>\n",
       "      <td>p133</td>\n",
       "      <td>2019</td>\n",
       "      <td>187</td>\n",
       "      <td>NaN</td>\n",
       "      <td>NaN</td>\n",
       "      <td>ambient0</td>\n",
       "      <td>NaN</td>\n",
       "      <td>NaN</td>\n",
       "      <td>NaN</td>\n",
       "      <td>NaN</td>\n",
       "      <td>NaN</td>\n",
       "      <td>[59, 59, 59]</td>\n",
       "      <td>[0, 0, 0]</td>\n",
       "      <td>[0, 0, 0]</td>\n",
       "    </tr>\n",
       "    <tr>\n",
       "      <th>1703</th>\n",
       "      <td>p515</td>\n",
       "      <td>2019</td>\n",
       "      <td>187</td>\n",
       "      <td>NaN</td>\n",
       "      <td>NaN</td>\n",
       "      <td>ambient0</td>\n",
       "      <td>NaN</td>\n",
       "      <td>NaN</td>\n",
       "      <td>NaN</td>\n",
       "      <td>NaN</td>\n",
       "      <td>NaN</td>\n",
       "      <td>[59, 59, 59]</td>\n",
       "      <td>[0, 0, 0]</td>\n",
       "      <td>[0, 0, 0]</td>\n",
       "    </tr>\n",
       "    <tr>\n",
       "      <th>1704</th>\n",
       "      <td>p521</td>\n",
       "      <td>2019</td>\n",
       "      <td>187</td>\n",
       "      <td>NaN</td>\n",
       "      <td>NaN</td>\n",
       "      <td>ambient0</td>\n",
       "      <td>NaN</td>\n",
       "      <td>NaN</td>\n",
       "      <td>NaN</td>\n",
       "      <td>NaN</td>\n",
       "      <td>NaN</td>\n",
       "      <td>[59, 59, 59]</td>\n",
       "      <td>[0, 0, 0]</td>\n",
       "      <td>[0, 0, 0]</td>\n",
       "    </tr>\n",
       "    <tr>\n",
       "      <th>1705</th>\n",
       "      <td>p187</td>\n",
       "      <td>2021</td>\n",
       "      <td>354</td>\n",
       "      <td>NaN</td>\n",
       "      <td>NaN</td>\n",
       "      <td>ambient0</td>\n",
       "      <td>NaN</td>\n",
       "      <td>NaN</td>\n",
       "      <td>NaN</td>\n",
       "      <td>NaN</td>\n",
       "      <td>NaN</td>\n",
       "      <td>[59, 59, 59]</td>\n",
       "      <td>[0, 0, 0]</td>\n",
       "      <td>[0, 0, 0]</td>\n",
       "    </tr>\n",
       "    <tr>\n",
       "      <th>...</th>\n",
       "      <td>...</td>\n",
       "      <td>...</td>\n",
       "      <td>...</td>\n",
       "      <td>...</td>\n",
       "      <td>...</td>\n",
       "      <td>...</td>\n",
       "      <td>...</td>\n",
       "      <td>...</td>\n",
       "      <td>...</td>\n",
       "      <td>...</td>\n",
       "      <td>...</td>\n",
       "      <td>...</td>\n",
       "      <td>...</td>\n",
       "      <td>...</td>\n",
       "    </tr>\n",
       "    <tr>\n",
       "      <th>3203</th>\n",
       "      <td>pmkz</td>\n",
       "      <td>2021</td>\n",
       "      <td>058</td>\n",
       "      <td>NaN</td>\n",
       "      <td>NaN</td>\n",
       "      <td>ambient50</td>\n",
       "      <td>NaN</td>\n",
       "      <td>NaN</td>\n",
       "      <td>NaN</td>\n",
       "      <td>NaN</td>\n",
       "      <td>NaN</td>\n",
       "      <td>[59, 59, 59]</td>\n",
       "      <td>[0, 0, 0]</td>\n",
       "      <td>[0, 0, 0]</td>\n",
       "    </tr>\n",
       "    <tr>\n",
       "      <th>3204</th>\n",
       "      <td>p744</td>\n",
       "      <td>2019</td>\n",
       "      <td>187</td>\n",
       "      <td>NaN</td>\n",
       "      <td>NaN</td>\n",
       "      <td>ambient50</td>\n",
       "      <td>NaN</td>\n",
       "      <td>NaN</td>\n",
       "      <td>NaN</td>\n",
       "      <td>NaN</td>\n",
       "      <td>NaN</td>\n",
       "      <td>[59, 59, 59]</td>\n",
       "      <td>[0, 0, 0]</td>\n",
       "      <td>[0, 0, 0]</td>\n",
       "    </tr>\n",
       "    <tr>\n",
       "      <th>3205</th>\n",
       "      <td>p261</td>\n",
       "      <td>2019</td>\n",
       "      <td>187</td>\n",
       "      <td>NaN</td>\n",
       "      <td>NaN</td>\n",
       "      <td>ambient50</td>\n",
       "      <td>NaN</td>\n",
       "      <td>NaN</td>\n",
       "      <td>NaN</td>\n",
       "      <td>NaN</td>\n",
       "      <td>NaN</td>\n",
       "      <td>[59, 59, 59]</td>\n",
       "      <td>[0, 0, 0]</td>\n",
       "      <td>[0, 0, 0]</td>\n",
       "    </tr>\n",
       "    <tr>\n",
       "      <th>3206</th>\n",
       "      <td>bon2</td>\n",
       "      <td>2017</td>\n",
       "      <td>251</td>\n",
       "      <td>NaN</td>\n",
       "      <td>NaN</td>\n",
       "      <td>ambient50</td>\n",
       "      <td>NaN</td>\n",
       "      <td>NaN</td>\n",
       "      <td>NaN</td>\n",
       "      <td>NaN</td>\n",
       "      <td>NaN</td>\n",
       "      <td>[59, 59, 59]</td>\n",
       "      <td>[0, 0, 0]</td>\n",
       "      <td>[0, 0, 0]</td>\n",
       "    </tr>\n",
       "    <tr>\n",
       "      <th>3207</th>\n",
       "      <td>ac34</td>\n",
       "      <td>2020</td>\n",
       "      <td>204</td>\n",
       "      <td>NaN</td>\n",
       "      <td>NaN</td>\n",
       "      <td>ambient51</td>\n",
       "      <td>NaN</td>\n",
       "      <td>NaN</td>\n",
       "      <td>NaN</td>\n",
       "      <td>NaN</td>\n",
       "      <td>NaN</td>\n",
       "      <td>[59, 59, 59]</td>\n",
       "      <td>[0, 0, 0]</td>\n",
       "      <td>[0, 0, 0]</td>\n",
       "    </tr>\n",
       "  </tbody>\n",
       "</table>\n",
       "<p>1507 rows × 14 columns</p>\n",
       "</div>"
      ],
      "text/plain": [
       "     station  year  doy  lat  long    eventID  radius_from_event event_time  \\\n",
       "1701    p551  2019  187  NaN   NaN   ambient0                NaN        NaN   \n",
       "1702    p133  2019  187  NaN   NaN   ambient0                NaN        NaN   \n",
       "1703    p515  2019  187  NaN   NaN   ambient0                NaN        NaN   \n",
       "1704    p521  2019  187  NaN   NaN   ambient0                NaN        NaN   \n",
       "1705    p187  2021  354  NaN   NaN   ambient0                NaN        NaN   \n",
       "...      ...   ...  ...  ...   ...        ...                ...        ...   \n",
       "3203    pmkz  2021  058  NaN   NaN  ambient50                NaN        NaN   \n",
       "3204    p744  2019  187  NaN   NaN  ambient50                NaN        NaN   \n",
       "3205    p261  2019  187  NaN   NaN  ambient50                NaN        NaN   \n",
       "3206    bon2  2017  251  NaN   NaN  ambient50                NaN        NaN   \n",
       "3207    ac34  2020  204  NaN   NaN  ambient51                NaN        NaN   \n",
       "\n",
       "      magnitude p_arrival s_arrival      y_label1   y_label2   y_label3  \n",
       "1701        NaN       NaN       NaN  [59, 59, 59]  [0, 0, 0]  [0, 0, 0]  \n",
       "1702        NaN       NaN       NaN  [59, 59, 59]  [0, 0, 0]  [0, 0, 0]  \n",
       "1703        NaN       NaN       NaN  [59, 59, 59]  [0, 0, 0]  [0, 0, 0]  \n",
       "1704        NaN       NaN       NaN  [59, 59, 59]  [0, 0, 0]  [0, 0, 0]  \n",
       "1705        NaN       NaN       NaN  [59, 59, 59]  [0, 0, 0]  [0, 0, 0]  \n",
       "...         ...       ...       ...           ...        ...        ...  \n",
       "3203        NaN       NaN       NaN  [59, 59, 59]  [0, 0, 0]  [0, 0, 0]  \n",
       "3204        NaN       NaN       NaN  [59, 59, 59]  [0, 0, 0]  [0, 0, 0]  \n",
       "3205        NaN       NaN       NaN  [59, 59, 59]  [0, 0, 0]  [0, 0, 0]  \n",
       "3206        NaN       NaN       NaN  [59, 59, 59]  [0, 0, 0]  [0, 0, 0]  \n",
       "3207        NaN       NaN       NaN  [59, 59, 59]  [0, 0, 0]  [0, 0, 0]  \n",
       "\n",
       "[1507 rows x 14 columns]"
      ]
     },
     "execution_count": 5,
     "metadata": {},
     "output_type": "execute_result"
    }
   ],
   "source": [
    "jgr_test2"
   ]
  },
  {
   "cell_type": "markdown",
   "id": "97ca6d80-8662-4219-bc28-ee6c999a7e97",
   "metadata": {},
   "source": [
    "# get array dimensions"
   ]
  },
  {
   "cell_type": "code",
   "execution_count": 19,
   "id": "c547c419-22f7-4f81-a7cc-a360a9f5a31c",
   "metadata": {},
   "outputs": [],
   "source": [
    "num_runs=1\n",
    "outer_results=[]\n",
    "\n",
    "y_nga_pred=[]\n",
    "y_nga_test=[]\n",
    "\n",
    "y_jgr_pred=[]\n",
    "y_jgr_test=[]\n",
    "for k in np.arange(num_runs):\n",
    "    run=k+1\n",
    "    items = deque(full_list)\n",
    "    items.rotate(-k)\n",
    "    test_set=list(items)[::num_runs]\n",
    "    train_set=list(set(full_list) - set(test_set))\n",
    "    \n",
    "    test_set_df=jgr_test[jgr_test.eventID.isin(test_set)]\n",
    "    train_set_df=jgr_test[jgr_test.eventID.isin(train_set)]\n",
    "    \n",
    "    #for features in feature_sets:\n",
    "    for use_nga in [False]:\n",
    "\n",
    "        if not use_nga:\n",
    "            #params=[i | features for i in hyperp]\n",
    "\n",
    "            #best_est_, stats=grid_search_jgr(train_set, params, X_train_nga, y_train_nga, jgr_test, include_nga=use_nga)\n",
    "            #threshold=stats.threshold # Hyper Param from xval training\n",
    "            #best_est_=params[0]\n",
    "            #stats.threshold=0.4\n",
    "\n",
    "            X_train, y_train, name_list, times, snr_metric=list_to_featurearrays_JGR(test_set_df, params[0], test=True)\n"
   ]
  },
  {
   "cell_type": "code",
   "execution_count": 21,
   "id": "d6324460-1507-47fd-a903-9b9d7c57484f",
   "metadata": {},
   "outputs": [
    {
     "data": {
      "text/html": [
       "<div>\n",
       "<style scoped>\n",
       "    .dataframe tbody tr th:only-of-type {\n",
       "        vertical-align: middle;\n",
       "    }\n",
       "\n",
       "    .dataframe tbody tr th {\n",
       "        vertical-align: top;\n",
       "    }\n",
       "\n",
       "    .dataframe thead th {\n",
       "        text-align: right;\n",
       "    }\n",
       "</style>\n",
       "<table border=\"1\" class=\"dataframe\">\n",
       "  <thead>\n",
       "    <tr style=\"text-align: right;\">\n",
       "      <th></th>\n",
       "      <th>station</th>\n",
       "      <th>year</th>\n",
       "      <th>doy</th>\n",
       "      <th>lat</th>\n",
       "      <th>long</th>\n",
       "      <th>eventID</th>\n",
       "      <th>radius_from_event</th>\n",
       "      <th>event_time</th>\n",
       "      <th>magnitude</th>\n",
       "      <th>p_arrival</th>\n",
       "      <th>s_arrival</th>\n",
       "      <th>y_label1</th>\n",
       "      <th>y_label2</th>\n",
       "      <th>y_label3</th>\n",
       "    </tr>\n",
       "  </thead>\n",
       "  <tbody>\n",
       "    <tr>\n",
       "      <th>6</th>\n",
       "      <td>p593</td>\n",
       "      <td>2019</td>\n",
       "      <td>185</td>\n",
       "      <td>35.3879</td>\n",
       "      <td>-117.2050</td>\n",
       "      <td>ci38443183</td>\n",
       "      <td>44.437208</td>\n",
       "      <td>2019-07-04T17:33:49.000</td>\n",
       "      <td>6.40</td>\n",
       "      <td>2019-07-04 17:33:56.670000</td>\n",
       "      <td>2019-07-04 17:34:02.230000</td>\n",
       "      <td>[14, 16, 21]</td>\n",
       "      <td>[7, 5, 0]</td>\n",
       "      <td>[0, 0, 0]</td>\n",
       "    </tr>\n",
       "    <tr>\n",
       "      <th>44</th>\n",
       "      <td>p168</td>\n",
       "      <td>2010</td>\n",
       "      <td>010</td>\n",
       "      <td>40.6686</td>\n",
       "      <td>-123.8815</td>\n",
       "      <td>nc71338066</td>\n",
       "      <td>68.607278</td>\n",
       "      <td>2010-01-10T00:27:39.320</td>\n",
       "      <td>6.50</td>\n",
       "      <td>2010-01-10 00:27:51.120000</td>\n",
       "      <td>2010-01-10 00:27:59.690000</td>\n",
       "      <td>[16, 16, 17]</td>\n",
       "      <td>[4, 5, 0]</td>\n",
       "      <td>[1, 0, 4]</td>\n",
       "    </tr>\n",
       "    <tr>\n",
       "      <th>49</th>\n",
       "      <td>dssc</td>\n",
       "      <td>2010</td>\n",
       "      <td>188</td>\n",
       "      <td>33.7333</td>\n",
       "      <td>-116.7121</td>\n",
       "      <td>ci10736069</td>\n",
       "      <td>41.401724</td>\n",
       "      <td>2010-07-07T23:53:33.480</td>\n",
       "      <td>5.42</td>\n",
       "      <td>2010-07-07 23:53:40.630000</td>\n",
       "      <td>2010-07-07 23:53:45.820000</td>\n",
       "      <td>[17, 17, 21]</td>\n",
       "      <td>[3, 3, 0]</td>\n",
       "      <td>[1, 1, 0]</td>\n",
       "    </tr>\n",
       "    <tr>\n",
       "      <th>52</th>\n",
       "      <td>p486</td>\n",
       "      <td>2010</td>\n",
       "      <td>188</td>\n",
       "      <td>33.2602</td>\n",
       "      <td>-116.3223</td>\n",
       "      <td>ci10736069</td>\n",
       "      <td>22.470545</td>\n",
       "      <td>2010-07-07T23:53:33.480</td>\n",
       "      <td>5.42</td>\n",
       "      <td>2010-07-07 23:53:37.360000</td>\n",
       "      <td>2010-07-07 23:53:40.170000</td>\n",
       "      <td>[17, 17, 17]</td>\n",
       "      <td>[4, 4, 4]</td>\n",
       "      <td>[0, 0, 0]</td>\n",
       "    </tr>\n",
       "    <tr>\n",
       "      <th>64</th>\n",
       "      <td>p464</td>\n",
       "      <td>2019</td>\n",
       "      <td>187</td>\n",
       "      <td>36.1590</td>\n",
       "      <td>-117.4100</td>\n",
       "      <td>ci38457847</td>\n",
       "      <td>37.092392</td>\n",
       "      <td>2019-07-06T04:18:55.790</td>\n",
       "      <td>5.44</td>\n",
       "      <td>2019-07-06 04:19:02.190000</td>\n",
       "      <td>2019-07-06 04:19:06.830000</td>\n",
       "      <td>[21, 21, 21]</td>\n",
       "      <td>[0, 0, 0]</td>\n",
       "      <td>[0, 0, 0]</td>\n",
       "    </tr>\n",
       "    <tr>\n",
       "      <th>...</th>\n",
       "      <td>...</td>\n",
       "      <td>...</td>\n",
       "      <td>...</td>\n",
       "      <td>...</td>\n",
       "      <td>...</td>\n",
       "      <td>...</td>\n",
       "      <td>...</td>\n",
       "      <td>...</td>\n",
       "      <td>...</td>\n",
       "      <td>...</td>\n",
       "      <td>...</td>\n",
       "      <td>...</td>\n",
       "      <td>...</td>\n",
       "      <td>...</td>\n",
       "    </tr>\n",
       "    <tr>\n",
       "      <th>1670</th>\n",
       "      <td>p741</td>\n",
       "      <td>2010</td>\n",
       "      <td>188</td>\n",
       "      <td>33.5575</td>\n",
       "      <td>-116.5310</td>\n",
       "      <td>ci10736069</td>\n",
       "      <td>16.404198</td>\n",
       "      <td>2010-07-07T23:53:33.480</td>\n",
       "      <td>5.42</td>\n",
       "      <td>2010-07-07 23:53:36.310000</td>\n",
       "      <td>2010-07-07 23:53:38.370000</td>\n",
       "      <td>[18, 18, 21]</td>\n",
       "      <td>[3, 3, 0]</td>\n",
       "      <td>[0, 0, 0]</td>\n",
       "    </tr>\n",
       "    <tr>\n",
       "      <th>1685</th>\n",
       "      <td>p636</td>\n",
       "      <td>2021</td>\n",
       "      <td>189</td>\n",
       "      <td>37.9628</td>\n",
       "      <td>-119.1467</td>\n",
       "      <td>nc73584926</td>\n",
       "      <td>67.908277</td>\n",
       "      <td>2021-07-08T22:49:48.110</td>\n",
       "      <td>6.00</td>\n",
       "      <td>2021-07-08 22:49:59.830000</td>\n",
       "      <td>2021-07-08 22:50:08.340000</td>\n",
       "      <td>[18, 18, 21]</td>\n",
       "      <td>[3, 3, 0]</td>\n",
       "      <td>[0, 0, 0]</td>\n",
       "    </tr>\n",
       "    <tr>\n",
       "      <th>1692</th>\n",
       "      <td>puje</td>\n",
       "      <td>2012</td>\n",
       "      <td>249</td>\n",
       "      <td>10.1140</td>\n",
       "      <td>-85.2725</td>\n",
       "      <td>usp000jrsw</td>\n",
       "      <td>5.655817</td>\n",
       "      <td>2012-09-05T14:42:07.800</td>\n",
       "      <td>7.60</td>\n",
       "      <td>2012-09-05 14:42:08.780000</td>\n",
       "      <td>2012-09-05 14:42:09.480000</td>\n",
       "      <td>[15, 15, 16]</td>\n",
       "      <td>[6, 6, 5]</td>\n",
       "      <td>[0, 0, 0]</td>\n",
       "    </tr>\n",
       "    <tr>\n",
       "      <th>1697</th>\n",
       "      <td>p228</td>\n",
       "      <td>2007</td>\n",
       "      <td>304</td>\n",
       "      <td>37.6018</td>\n",
       "      <td>-121.6869</td>\n",
       "      <td>nc40204628</td>\n",
       "      <td>20.215260</td>\n",
       "      <td>2007-10-31T03:04:54.810</td>\n",
       "      <td>5.45</td>\n",
       "      <td>2007-10-31 03:04:58.300000</td>\n",
       "      <td>2007-10-31 03:05:00.830000</td>\n",
       "      <td>[21, 21, 21]</td>\n",
       "      <td>[0, 0, 0]</td>\n",
       "      <td>[0, 0, 0]</td>\n",
       "    </tr>\n",
       "    <tr>\n",
       "      <th>1699</th>\n",
       "      <td>tecf</td>\n",
       "      <td>2016</td>\n",
       "      <td>162</td>\n",
       "      <td>12.6030</td>\n",
       "      <td>-86.8384</td>\n",
       "      <td>us200063cy</td>\n",
       "      <td>28.717404</td>\n",
       "      <td>2016-06-10T03:25:22.920</td>\n",
       "      <td>6.10</td>\n",
       "      <td>2016-06-10 03:25:27.890000</td>\n",
       "      <td>2016-06-10 03:25:31.500000</td>\n",
       "      <td>[13, 13, 18]</td>\n",
       "      <td>[8, 8, 3]</td>\n",
       "      <td>[0, 0, 0]</td>\n",
       "    </tr>\n",
       "  </tbody>\n",
       "</table>\n",
       "<p>247 rows × 14 columns</p>\n",
       "</div>"
      ],
      "text/plain": [
       "     station  year  doy      lat      long     eventID  radius_from_event  \\\n",
       "6       p593  2019  185  35.3879 -117.2050  ci38443183          44.437208   \n",
       "44      p168  2010  010  40.6686 -123.8815  nc71338066          68.607278   \n",
       "49      dssc  2010  188  33.7333 -116.7121  ci10736069          41.401724   \n",
       "52      p486  2010  188  33.2602 -116.3223  ci10736069          22.470545   \n",
       "64      p464  2019  187  36.1590 -117.4100  ci38457847          37.092392   \n",
       "...      ...   ...  ...      ...       ...         ...                ...   \n",
       "1670    p741  2010  188  33.5575 -116.5310  ci10736069          16.404198   \n",
       "1685    p636  2021  189  37.9628 -119.1467  nc73584926          67.908277   \n",
       "1692    puje  2012  249  10.1140  -85.2725  usp000jrsw           5.655817   \n",
       "1697    p228  2007  304  37.6018 -121.6869  nc40204628          20.215260   \n",
       "1699    tecf  2016  162  12.6030  -86.8384  us200063cy          28.717404   \n",
       "\n",
       "                   event_time  magnitude                   p_arrival  \\\n",
       "6     2019-07-04T17:33:49.000       6.40  2019-07-04 17:33:56.670000   \n",
       "44    2010-01-10T00:27:39.320       6.50  2010-01-10 00:27:51.120000   \n",
       "49    2010-07-07T23:53:33.480       5.42  2010-07-07 23:53:40.630000   \n",
       "52    2010-07-07T23:53:33.480       5.42  2010-07-07 23:53:37.360000   \n",
       "64    2019-07-06T04:18:55.790       5.44  2019-07-06 04:19:02.190000   \n",
       "...                       ...        ...                         ...   \n",
       "1670  2010-07-07T23:53:33.480       5.42  2010-07-07 23:53:36.310000   \n",
       "1685  2021-07-08T22:49:48.110       6.00  2021-07-08 22:49:59.830000   \n",
       "1692  2012-09-05T14:42:07.800       7.60  2012-09-05 14:42:08.780000   \n",
       "1697  2007-10-31T03:04:54.810       5.45  2007-10-31 03:04:58.300000   \n",
       "1699  2016-06-10T03:25:22.920       6.10  2016-06-10 03:25:27.890000   \n",
       "\n",
       "                       s_arrival      y_label1   y_label2   y_label3  \n",
       "6     2019-07-04 17:34:02.230000  [14, 16, 21]  [7, 5, 0]  [0, 0, 0]  \n",
       "44    2010-01-10 00:27:59.690000  [16, 16, 17]  [4, 5, 0]  [1, 0, 4]  \n",
       "49    2010-07-07 23:53:45.820000  [17, 17, 21]  [3, 3, 0]  [1, 1, 0]  \n",
       "52    2010-07-07 23:53:40.170000  [17, 17, 17]  [4, 4, 4]  [0, 0, 0]  \n",
       "64    2019-07-06 04:19:06.830000  [21, 21, 21]  [0, 0, 0]  [0, 0, 0]  \n",
       "...                          ...           ...        ...        ...  \n",
       "1670  2010-07-07 23:53:38.370000  [18, 18, 21]  [3, 3, 0]  [0, 0, 0]  \n",
       "1685  2021-07-08 22:50:08.340000  [18, 18, 21]  [3, 3, 0]  [0, 0, 0]  \n",
       "1692  2012-09-05 14:42:09.480000  [15, 15, 16]  [6, 6, 5]  [0, 0, 0]  \n",
       "1697  2007-10-31 03:05:00.830000  [21, 21, 21]  [0, 0, 0]  [0, 0, 0]  \n",
       "1699  2016-06-10 03:25:31.500000  [13, 13, 18]  [8, 8, 3]  [0, 0, 0]  \n",
       "\n",
       "[247 rows x 14 columns]"
      ]
     },
     "execution_count": 21,
     "metadata": {},
     "output_type": "execute_result"
    }
   ],
   "source": [
    "test_set_df"
   ]
  },
  {
   "cell_type": "code",
   "execution_count": 20,
   "id": "bbe1ea87-166a-49e2-8621-0996a49b4e44",
   "metadata": {},
   "outputs": [
    {
     "data": {
      "text/plain": [
       "5187"
      ]
     },
     "execution_count": 20,
     "metadata": {},
     "output_type": "execute_result"
    }
   ],
   "source": [
    "len(X_train)"
   ]
  },
  {
   "cell_type": "markdown",
   "id": "634db34c-9619-4117-a638-2966b9c85dc3",
   "metadata": {},
   "source": [
    "# back to what i was doing"
   ]
  },
  {
   "cell_type": "code",
   "execution_count": 6,
   "id": "5509e4c1-b83a-47dc-b26f-04c57bfd1023",
   "metadata": {},
   "outputs": [],
   "source": [
    "X_train_nga, y_train_nga, name_list_nga, times_nga, snr_metric=list_to_featurearrays(event_list_nga, params[0], test=False)"
   ]
  },
  {
   "cell_type": "code",
   "execution_count": 7,
   "id": "176c50e5-ddf5-47a5-bca7-f126cf05d1ff",
   "metadata": {},
   "outputs": [],
   "source": [
    "#ordered event list to roughly distribute testing \n",
    "ambient_list= list(meta_df[meta_df.magnitude.isnull()].eventID.unique())\n",
    "event_list=jgr_test[~jgr_test.magnitude.isnull()].sort_values(['magnitude'], ascending=False).groupby(\"eventID\").count().sort_values(['station'], ascending=False).index.tolist()\n",
    "full_list=event_list#+ambient_list\n",
    "#full_list=event_list"
   ]
  },
  {
   "cell_type": "code",
   "execution_count": 8,
   "id": "f52572c3-c8bc-47eb-b80b-c80fd32377e4",
   "metadata": {},
   "outputs": [],
   "source": [
    "full_list_df=jgr_test[jgr_test.eventID.isin(full_list)]\n",
    "\n",
    "#X_train_nga, y_train_nga, name_list_nga, times_nga, snr_metric=list_to_featurearrays(full_list_df, params[0], test=False)"
   ]
  },
  {
   "cell_type": "code",
   "execution_count": 49,
   "id": "15af3694-dbb9-4ca3-976f-a1fa051f3606",
   "metadata": {},
   "outputs": [
    {
     "data": {
      "text/plain": [
       "331762"
      ]
     },
     "execution_count": 49,
     "metadata": {},
     "output_type": "execute_result"
    }
   ],
   "source": [
    "len(X_train_nga)"
   ]
  },
  {
   "cell_type": "code",
   "execution_count": 5,
   "id": "27f9f14c-6c79-4207-a7ea-a5dd1e81ddeb",
   "metadata": {},
   "outputs": [],
   "source": [
    "fs={'feature':['all'], 'stacking':['horizontal'], 'dims':[['H0','H1','UP']], 'augment':[True]}\n",
    "feature_sets=[dict(zip(fs, v)) for v in product(*fs.values())]\n",
    "\n",
    "d = {'n_folds':[5],'max_depth': [100], 'n_estimators': [120], 'class_wt':[None, 'balanced'],'wl_thresh':[0]}\n",
    "hyperp=[dict(zip(d, v)) for v in product(*d.values())]\n",
    "\n",
    "params=[i | feature_sets[0] for i in hyperp]"
   ]
  },
  {
   "cell_type": "code",
   "execution_count": 9,
   "id": "3cfa188a-2d38-4992-baf2-53b6868f85e5",
   "metadata": {},
   "outputs": [
    {
     "name": "stdout",
     "output_type": "stream",
     "text": [
      "   max_depth  n_estimators  class_wt  threshold  wl_thresh        f1\n",
      "1        100           120  balanced   0.418333          0  0.694778\n",
      "0        100           120      None   0.546667          0  0.685818\n",
      "0.9736842105263158 0.6244725738396625 0.7609254498714653\n",
      ">f1=0.761\n",
      "0.7846715328467153 0.9071729957805907 0.8414872798434443\n",
      ">f1=0.841\n",
      "   max_depth  n_estimators  class_wt  threshold  wl_thresh        f1\n",
      "1        100           120  balanced   0.393333          0  0.739355\n",
      "0        100           120      None   0.403333          0  0.734608\n",
      "0.4358974358974359 0.5862068965517241 0.5\n",
      ">f1=0.500\n",
      "0.3333333333333333 0.6206896551724138 0.4337349397590361\n",
      ">f1=0.434\n",
      "   max_depth  n_estimators  class_wt  threshold  wl_thresh        f1\n",
      "1        100           120  balanced   0.351667          0  0.760871\n",
      "0        100           120      None   0.445000          0  0.751190\n",
      "0.425531914893617 0.8333333333333334 0.5633802816901409\n",
      ">f1=0.563\n",
      "0.39622641509433965 0.875 0.5454545454545454\n",
      ">f1=0.545\n",
      "   max_depth  n_estimators  class_wt  threshold  wl_thresh        f1\n",
      "1        100           120  balanced   0.388333          0  0.726587\n",
      "0        100           120      None   0.498333          0  0.721762\n",
      "1.0 0.46875 0.6382978723404256\n",
      ">f1=0.638\n",
      "0.9230769230769231 0.5 0.6486486486486487\n",
      ">f1=0.649\n",
      "   max_depth  n_estimators  class_wt  threshold  wl_thresh        f1\n",
      "1        100           120  balanced   0.386667          0  0.724430\n",
      "0        100           120      None   0.458333          0  0.719355\n",
      "0.868421052631579 0.532258064516129 0.66\n",
      ">f1=0.660\n",
      "0.5925925925925926 0.7741935483870968 0.6713286713286712\n",
      ">f1=0.671\n"
     ]
    },
    {
     "name": "stderr",
     "output_type": "stream",
     "text": [
      "/home/ec2-user/pgv_ml/psuedosyn_gnssvel/bin/models/nested_xval_utils.py:149: RuntimeWarning: invalid value encountered in divide\n",
      "  fscore = (2 * precisions * recalls) / (precisions + recalls)\n"
     ]
    },
    {
     "name": "stdout",
     "output_type": "stream",
     "text": [
      "   max_depth  n_estimators  class_wt  threshold  wl_thresh        f1\n",
      "0        100           120      None   0.425000          0  0.696967\n",
      "1        100           120  balanced   0.503333          0  0.581094\n",
      "0.574468085106383 0.46551724137931033 0.5142857142857143\n",
      ">f1=0.514\n",
      "0.7076923076923077 0.7931034482758621 0.7479674796747967\n",
      ">f1=0.748\n",
      "   max_depth  n_estimators  class_wt  threshold  wl_thresh        f1\n",
      "0        100           120      None   0.481667          0  0.748015\n",
      "1        100           120  balanced   0.343333          0  0.747584\n",
      "0.8333333333333334 0.37735849056603776 0.5194805194805195\n",
      ">f1=0.519\n",
      "0.5660377358490566 0.5660377358490566 0.5660377358490566\n",
      ">f1=0.566\n",
      "   max_depth  n_estimators  class_wt  threshold  wl_thresh        f1\n",
      "1        100           120  balanced   0.305000          0  0.693348\n",
      "0        100           120      None   0.416667          0  0.689515\n",
      "0.6147540983606558 0.8928571428571429 0.7281553398058253\n",
      ">f1=0.728\n",
      "0.5652173913043478 0.9285714285714286 0.7027027027027025\n",
      ">f1=0.703\n",
      "   max_depth  n_estimators  class_wt  threshold  wl_thresh        f1\n",
      "1        100           120  balanced   0.363333          0  0.706758\n",
      "0        100           120      None   0.453333          0  0.690630\n",
      "0.9156626506024096 0.6386554621848739 0.7524752475247525\n",
      ">f1=0.752\n",
      "0.7888888888888889 0.8949579831932774 0.8385826771653544\n",
      ">f1=0.839\n"
     ]
    },
    {
     "name": "stderr",
     "output_type": "stream",
     "text": [
      "/home/ec2-user/pgv_ml/psuedosyn_gnssvel/bin/models/nested_xval_utils.py:149: RuntimeWarning: invalid value encountered in divide\n",
      "  fscore = (2 * precisions * recalls) / (precisions + recalls)\n"
     ]
    },
    {
     "name": "stdout",
     "output_type": "stream",
     "text": [
      "   max_depth  n_estimators  class_wt  threshold  wl_thresh        f1\n",
      "1        100           120  balanced   0.253333          0  0.663681\n",
      "0        100           120      None   0.496667          0  0.580987\n",
      "0.6608695652173913 0.8636363636363636 0.7487684729064039\n",
      ">f1=0.749\n",
      "0.5968992248062015 0.875 0.7096774193548386\n",
      ">f1=0.710\n"
     ]
    }
   ],
   "source": [
    "#for k in np.arange(num_runs):\n",
    "num_runs=10\n",
    "outer_results=[]\n",
    "\n",
    "y_nga_pred=[]\n",
    "y_nga_test=[]\n",
    "\n",
    "y_jgr_pred=[]\n",
    "y_jgr_test=[]\n",
    "for k in np.arange(10):\n",
    "    run=k+1\n",
    "    items = deque(full_list)\n",
    "    items.rotate(-k)\n",
    "    test_set=list(items)[::num_runs]\n",
    "    train_set=list(set(full_list) - set(test_set))\n",
    "    \n",
    "    test_set_df=jgr_test[jgr_test.eventID.isin(test_set)]\n",
    "    train_set_df=jgr_test[jgr_test.eventID.isin(train_set)]\n",
    "    \n",
    "    #for features in feature_sets:\n",
    "    for use_nga in [False,True]:\n",
    "\n",
    "        if not use_nga:\n",
    "            #params=[i | features for i in hyperp]\n",
    "\n",
    "            best_est_, stats=grid_search_jgr(train_set, params, X_train_nga, y_train_nga, jgr_test, include_nga=use_nga)\n",
    "            threshold=stats.threshold # Hyper Param from xval training\n",
    "            #best_est_=params[0]\n",
    "            #stats.threshold=0.4\n",
    "\n",
    "            X_train, y_train, name_list, times, snr_metric=list_to_featurearrays_JGR(train_set_df, best_est_, test=True)\n",
    "\n",
    "\n",
    "\n",
    "            clf = RandomForestClassifier(n_estimators=best_est_['n_estimators'], max_depth=best_est_['max_depth'], class_weight=best_est_['class_wt'],random_state=10, n_jobs=-1).fit(X_train, y_train)\n",
    "        if use_nga:\n",
    "            threshold=.38\n",
    "            clf = joblib.load('../../models/synth_model_all_%s.pkl' %int(threshold*100))\n",
    "\n",
    "        X_test, y_test, name_list, times, snr_metric=list_to_featurearrays_JGR(test_set_df, params[0], test=True)\n",
    "        #y_pred=clf.predict(X_test)\n",
    "        y_pred_prob=clf.predict_proba(X_test)[:, 1]\n",
    "\n",
    "        ### Added\n",
    "\n",
    "        #threshold=0.5 \n",
    "\n",
    "        y_pred = (y_pred_prob >= threshold).astype('int')\n",
    "        ###\n",
    "        # evaluate the model on test data\n",
    "        p, r, f1, blah=precision_recall_fscore_support(y_test, y_pred, average='binary')\n",
    "        print(p,r,f1)\n",
    "\n",
    "        from sklearn.metrics import precision_recall_curve\n",
    "        precisions, recalls, thresholds = precision_recall_curve(y_test, y_pred_prob)\n",
    "\n",
    "        # store the result\n",
    "        outer_results.append([p,r,f1,threshold, precisions, recalls, thresholds, y_test, y_pred_prob, best_est_, run, best_est_['feature'], test_set, use_nga])\n",
    "        # report progress\n",
    "        print('>f1=%.3f' % (f1)) \n",
    "        \n",
    "        if use_nga:\n",
    "            y_nga_pred.append(y_pred)\n",
    "            y_nga_test.append(y_test)\n",
    "        else:\n",
    "            y_jgr_pred.append(y_pred)\n",
    "            y_jgr_test.append(y_test)\n",
    "\n",
    "        #executionTime = (time.time() - startTime)\n",
    "        #print('Execution time in seconds: ' + str(executionTime))"
   ]
  },
  {
   "cell_type": "code",
   "execution_count": 14,
   "id": "2a8dd24f-edd3-4224-8b99-21937b3de449",
   "metadata": {},
   "outputs": [
    {
     "data": {
      "text/plain": [
       "nan"
      ]
     },
     "execution_count": 14,
     "metadata": {},
     "output_type": "execute_result"
    }
   ],
   "source": [
    "snr_metric.max()"
   ]
  },
  {
   "cell_type": "code",
   "execution_count": 10,
   "id": "7733d278-d58e-480a-826c-31abf1919762",
   "metadata": {},
   "outputs": [],
   "source": [
    "results_df=pd.DataFrame(outer_results, \n",
    "                        columns=['precision','recall','f1','threshold', \n",
    "                                 'precisions', 'recalls', 'thresholds', \n",
    "                                 'y_test', 'y_pred_prob', 'best_est_', 'run', \n",
    "                                 'best_est_[feature]', 'test_set', 'use_nga'])"
   ]
  },
  {
   "cell_type": "code",
   "execution_count": 11,
   "id": "09de6671-5517-4450-9216-f60eea4df840",
   "metadata": {},
   "outputs": [
    {
     "name": "stderr",
     "output_type": "stream",
     "text": [
      "/tmp/ipykernel_9354/1864679412.py:1: FutureWarning: The default value of numeric_only in DataFrameGroupBy.mean is deprecated. In a future version, numeric_only will default to False. Either specify numeric_only or select only columns which should be valid for the function.\n",
      "  results_df.groupby('use_nga').mean()\n"
     ]
    },
    {
     "data": {
      "text/html": [
       "<div>\n",
       "<style scoped>\n",
       "    .dataframe tbody tr th:only-of-type {\n",
       "        vertical-align: middle;\n",
       "    }\n",
       "\n",
       "    .dataframe tbody tr th {\n",
       "        vertical-align: top;\n",
       "    }\n",
       "\n",
       "    .dataframe thead th {\n",
       "        text-align: right;\n",
       "    }\n",
       "</style>\n",
       "<table border=\"1\" class=\"dataframe\">\n",
       "  <thead>\n",
       "    <tr style=\"text-align: right;\">\n",
       "      <th></th>\n",
       "      <th>precision</th>\n",
       "      <th>recall</th>\n",
       "      <th>f1</th>\n",
       "      <th>threshold</th>\n",
       "      <th>run</th>\n",
       "    </tr>\n",
       "    <tr>\n",
       "      <th>use_nga</th>\n",
       "      <th></th>\n",
       "      <th></th>\n",
       "      <th></th>\n",
       "      <th></th>\n",
       "      <th></th>\n",
       "    </tr>\n",
       "  </thead>\n",
       "  <tbody>\n",
       "    <tr>\n",
       "      <th>False</th>\n",
       "      <td>0.730262</td>\n",
       "      <td>0.628305</td>\n",
       "      <td>0.638577</td>\n",
       "      <td>0.376667</td>\n",
       "      <td>5.5</td>\n",
       "    </tr>\n",
       "    <tr>\n",
       "      <th>True</th>\n",
       "      <td>0.625464</td>\n",
       "      <td>0.773473</td>\n",
       "      <td>0.670562</td>\n",
       "      <td>0.380000</td>\n",
       "      <td>5.5</td>\n",
       "    </tr>\n",
       "  </tbody>\n",
       "</table>\n",
       "</div>"
      ],
      "text/plain": [
       "         precision    recall        f1  threshold  run\n",
       "use_nga                                               \n",
       "False     0.730262  0.628305  0.638577   0.376667  5.5\n",
       "True      0.625464  0.773473  0.670562   0.380000  5.5"
      ]
     },
     "execution_count": 11,
     "metadata": {},
     "output_type": "execute_result"
    }
   ],
   "source": [
    "results_df.groupby('use_nga').mean()"
   ]
  },
  {
   "cell_type": "code",
   "execution_count": null,
   "id": "308d77ee-276b-412d-93e1-f0e9f14f702f",
   "metadata": {},
   "outputs": [],
   "source": [
    "np.concatenate( y_nga_test, axis=0 )"
   ]
  },
  {
   "cell_type": "code",
   "execution_count": 12,
   "id": "febe2d6b-8bbc-435f-8cee-08a081db8cac",
   "metadata": {},
   "outputs": [
    {
     "name": "stdout",
     "output_type": "stream",
     "text": [
      "nga 0.6556862745098039 0.8220255653883972 0.7294938917975567\n",
      "jgr 0.734533183352081 0.6420845624385447 0.6852046169989506\n"
     ]
    }
   ],
   "source": [
    "res_df=[]\n",
    "for title,y_test, y_pred in zip(['nga','jgr'],[y_nga_test,y_jgr_test],[y_nga_pred, y_jgr_pred]):\n",
    "    y_test=np.concatenate( y_test, axis=0 )\n",
    "    y_pred=np.concatenate( y_pred, axis=0 )\n",
    "    p, r, f1, blah=precision_recall_fscore_support(y_test, y_pred, average='binary')\n",
    "    print(title,p, r, f1)\n",
    "    res_df.append([title,p, r, f1])"
   ]
  },
  {
   "cell_type": "code",
   "execution_count": 32,
   "id": "6e43cdf4-f3d1-470e-bd59-cbe6eefa7b6d",
   "metadata": {},
   "outputs": [],
   "source": [
    "res_df=pd.DataFrame(res_df, columns=['type','Precision','Recall','F1'])"
   ]
  },
  {
   "cell_type": "code",
   "execution_count": null,
   "id": "07ab2123-8ca3-4af1-8269-637313d6787e",
   "metadata": {},
   "outputs": [],
   "source": [
    "res_df.to_parquet('results/jgr_v_nga_table.pq')"
   ]
  },
  {
   "cell_type": "code",
   "execution_count": 9,
   "id": "4919b734-9ea2-454a-aef2-739424151162",
   "metadata": {},
   "outputs": [],
   "source": [
    "res_df=pd.read_parquet('results/jgr_v_nga_table.pq')"
   ]
  },
  {
   "cell_type": "code",
   "execution_count": 10,
   "id": "957a6d5e-bff1-44f2-8985-1b08f163396d",
   "metadata": {},
   "outputs": [],
   "source": [
    "X_train_nga=y_train_nga=np.nan"
   ]
  },
  {
   "cell_type": "code",
   "execution_count": null,
   "id": "ee62aee9-80b9-4a5f-97f1-830f6fd0f983",
   "metadata": {},
   "outputs": [],
   "source": [
    "params[0]"
   ]
  },
  {
   "cell_type": "code",
   "execution_count": 11,
   "id": "a0d5d359-0d35-47b1-990e-0c7136cf9b29",
   "metadata": {},
   "outputs": [
    {
     "name": "stdout",
     "output_type": "stream",
     "text": [
      "   max_depth  n_estimators  class_wt  threshold  wl_thresh        f1\n",
      "1        100           120  balanced   0.403333          0  0.750409\n",
      "0        100           120      None   0.470000          0  0.746216\n"
     ]
    },
    {
     "data": {
      "text/plain": [
       "['results/complete_JGR_model_40.pkl']"
      ]
     },
     "execution_count": 11,
     "metadata": {},
     "output_type": "execute_result"
    }
   ],
   "source": [
    "# make overall model of JGR\n",
    "full_set=jgr_test[jgr_test.eventID.isin(full_list)]\n",
    "\n",
    "best_est_, stats=grid_search_jgr(full_list, params, X_train_nga, y_train_nga, jgr_test, include_nga=False)\n",
    "threshold=stats.threshold # Hyper Param from xval training\n",
    "#best_est_=params[0]\n",
    "#stats.threshold=0.4\n",
    "\n",
    "X_train, y_train, name_list, times, snr_metric=list_to_featurearrays_JGR(full_set, best_est_, test=True)\n",
    "\n",
    "clf = RandomForestClassifier(n_estimators=best_est_['n_estimators'], max_depth=best_est_['max_depth'], class_weight=best_est_['class_wt'],random_state=10, n_jobs=-1).fit(X_train, y_train)\n",
    "keep_thresh=str(int(100*stats.threshold))\n",
    "    \n",
    "joblib.dump(clf, 'results/complete_JGR_model_%s.pkl' %keep_thresh)"
   ]
  },
  {
   "cell_type": "code",
   "execution_count": 3,
   "id": "153aabcb-bc16-4857-a412-4a38b905acf9",
   "metadata": {},
   "outputs": [],
   "source": [
    "full_set=jgr_test[jgr_test.eventID.isin(full_list)]"
   ]
  },
  {
   "cell_type": "code",
   "execution_count": 4,
   "id": "5e596245-d943-470b-9e42-73d885c17d41",
   "metadata": {},
   "outputs": [
    {
     "data": {
      "text/html": [
       "<div>\n",
       "<style scoped>\n",
       "    .dataframe tbody tr th:only-of-type {\n",
       "        vertical-align: middle;\n",
       "    }\n",
       "\n",
       "    .dataframe tbody tr th {\n",
       "        vertical-align: top;\n",
       "    }\n",
       "\n",
       "    .dataframe thead th {\n",
       "        text-align: right;\n",
       "    }\n",
       "</style>\n",
       "<table border=\"1\" class=\"dataframe\">\n",
       "  <thead>\n",
       "    <tr style=\"text-align: right;\">\n",
       "      <th></th>\n",
       "      <th>station</th>\n",
       "      <th>year</th>\n",
       "      <th>doy</th>\n",
       "      <th>lat</th>\n",
       "      <th>long</th>\n",
       "      <th>eventID</th>\n",
       "      <th>radius_from_event</th>\n",
       "      <th>event_time</th>\n",
       "      <th>magnitude</th>\n",
       "      <th>p_arrival</th>\n",
       "      <th>s_arrival</th>\n",
       "      <th>y_label1</th>\n",
       "      <th>y_label2</th>\n",
       "      <th>y_label3</th>\n",
       "    </tr>\n",
       "  </thead>\n",
       "  <tbody>\n",
       "  </tbody>\n",
       "</table>\n",
       "</div>"
      ],
      "text/plain": [
       "Empty DataFrame\n",
       "Columns: [station, year, doy, lat, long, eventID, radius_from_event, event_time, magnitude, p_arrival, s_arrival, y_label1, y_label2, y_label3]\n",
       "Index: []"
      ]
     },
     "execution_count": 4,
     "metadata": {},
     "output_type": "execute_result"
    }
   ],
   "source": [
    "full_set"
   ]
  },
  {
   "cell_type": "code",
   "execution_count": null,
   "id": "657c897e-0e4f-41f0-a243-839a5a22a295",
   "metadata": {},
   "outputs": [],
   "source": [
    "X_train, y_train, name_list, times, snr_metric=list_to_featurearrays_JGR(full_set, best_est_, test=True)"
   ]
  },
  {
   "cell_type": "code",
   "execution_count": null,
   "id": "25810336-7eb6-4cf9-8fd4-79e985c65dbb",
   "metadata": {},
   "outputs": [],
   "source": [
    "fs_to_Xy(fold, params[2], True)"
   ]
  },
  {
   "cell_type": "code",
   "execution_count": null,
   "id": "e1ae84e6-0b35-4f63-b7a9-79d9f9e1fadd",
   "metadata": {},
   "outputs": [],
   "source": [
    "# Load in Ambient 2 set data\n",
    "# test each model - TNR"
   ]
  },
  {
   "cell_type": "code",
   "execution_count": 14,
   "id": "cd010cc2-04b3-4903-adf3-da5b836c501e",
   "metadata": {},
   "outputs": [
    {
     "name": "stdout",
     "output_type": "stream",
     "text": [
      "['/home/ec2-user/pgv_ml/synth_gnss_vel/data/feature_sets_ambient_test/*.pq']\n"
     ]
    }
   ],
   "source": [
    "param=params[0]\n",
    "X_, y_, name_list, times, snr_metric=list_to_featurearrays_ambient_test(param, test=True)\n",
    "\n"
   ]
  },
  {
   "cell_type": "code",
   "execution_count": 15,
   "id": "b5bf4b25-b332-4adc-93a7-850aa1002606",
   "metadata": {},
   "outputs": [
    {
     "name": "stdout",
     "output_type": "stream",
     "text": [
      "0.014637671025336224 0.9853623289746638\n",
      "0.013938419224762837 0.9860615807752372\n"
     ]
    }
   ],
   "source": [
    "tnr=[]\n",
    "for ds,clf_n in zip(['nga','jgr'],['synth_model_all_39.pkl','complete_JGR_model_40.pkl']):\n",
    "    threshold=0.4\n",
    "    clf = joblib.load('results/'+clf_n)\n",
    "    y_pred_prob=clf.predict_proba(X_)[:, 1]\n",
    "    y_pred = (y_pred_prob >= threshold).astype('int')\n",
    "    \n",
    "    CM = confusion_matrix(y_, y_pred)\n",
    "\n",
    "    TN = CM[0][0]\n",
    "    FN = CM[1][0]\n",
    "    TP = CM[1][1]\n",
    "    FP = CM[0][1]\n",
    "    \n",
    "    FPR = FP/(FP+TN)\n",
    "   # Specificity or true negative rate\n",
    "    TNR = TN/(TN+FP)\n",
    "    \n",
    "    print(FPR,TNR)\n",
    "    tnr.append(TNR)\n",
    "\n",
    "    \n",
    "    \n",
    "    "
   ]
  },
  {
   "cell_type": "code",
   "execution_count": 17,
   "id": "ef7f0e7b-8900-4ead-8474-3183eeb593fc",
   "metadata": {},
   "outputs": [
    {
     "data": {
      "text/plain": [
       "[0.9853623289746638, 0.9860615807752372]"
      ]
     },
     "execution_count": 17,
     "metadata": {},
     "output_type": "execute_result"
    }
   ],
   "source": [
    "tnr"
   ]
  },
  {
   "cell_type": "code",
   "execution_count": 20,
   "id": "043f1ef2-839f-4e6c-9f6e-e1143fd4084c",
   "metadata": {},
   "outputs": [
    {
     "data": {
      "text/html": [
       "<div>\n",
       "<style scoped>\n",
       "    .dataframe tbody tr th:only-of-type {\n",
       "        vertical-align: middle;\n",
       "    }\n",
       "\n",
       "    .dataframe tbody tr th {\n",
       "        vertical-align: top;\n",
       "    }\n",
       "\n",
       "    .dataframe thead th {\n",
       "        text-align: right;\n",
       "    }\n",
       "</style>\n",
       "<table border=\"1\" class=\"dataframe\">\n",
       "  <thead>\n",
       "    <tr style=\"text-align: right;\">\n",
       "      <th></th>\n",
       "      <th>type</th>\n",
       "      <th>Precision</th>\n",
       "      <th>Recall</th>\n",
       "      <th>F1</th>\n",
       "      <th>TNR</th>\n",
       "    </tr>\n",
       "  </thead>\n",
       "  <tbody>\n",
       "    <tr>\n",
       "      <th>0</th>\n",
       "      <td>nga</td>\n",
       "      <td>0.760148</td>\n",
       "      <td>0.720280</td>\n",
       "      <td>0.739677</td>\n",
       "      <td>0.985362</td>\n",
       "    </tr>\n",
       "    <tr>\n",
       "      <th>1</th>\n",
       "      <td>jgr</td>\n",
       "      <td>0.720195</td>\n",
       "      <td>0.689977</td>\n",
       "      <td>0.704762</td>\n",
       "      <td>0.986062</td>\n",
       "    </tr>\n",
       "  </tbody>\n",
       "</table>\n",
       "</div>"
      ],
      "text/plain": [
       "  type  Precision    Recall        F1       TNR\n",
       "0  nga   0.760148  0.720280  0.739677  0.985362\n",
       "1  jgr   0.720195  0.689977  0.704762  0.986062"
      ]
     },
     "execution_count": 20,
     "metadata": {},
     "output_type": "execute_result"
    }
   ],
   "source": [
    "res_df"
   ]
  },
  {
   "cell_type": "code",
   "execution_count": 34,
   "id": "c212ab74-23ee-4953-8f79-627092276461",
   "metadata": {},
   "outputs": [],
   "source": [
    "res_df['TNR']=tnr"
   ]
  },
  {
   "cell_type": "code",
   "execution_count": 66,
   "id": "f6d4087b-aea1-4f0b-847f-28788623aac5",
   "metadata": {},
   "outputs": [
    {
     "data": {
      "image/png": "[encoded data removed]",
      "text/plain": [
       "<Figure size 800x300 with 1 Axes>"
      ]
     },
     "metadata": {},
     "output_type": "display_data"
    }
   ],
   "source": [
    "x_labels=['Precision','Recall','F1','Ambient TNR']\n",
    "colors=['#1b9e77','#7570b3']\n",
    "ind = np.arange(len(x_labels))  # the x locations for the groups\n",
    "width = 0.3       # the width of the bars\n",
    "\n",
    "fig = plt.figure(figsize=(8,3))\n",
    "ax = fig.add_subplot(111)\n",
    "rects=[]\n",
    "for i,(feature,label,color) in enumerate(zip(['nga','jgr'],['Trained on Augmented SM Catalog','Trained on GNSS Catalog'],colors)):\n",
    "    rects1=ax.bar(ind+width*i, res_df[res_df.type==feature][['Precision','Recall','F1','TNR']].values[0], width, label=label, color=color)\n",
    "    \n",
    "ax.set_ylim([0.65,1.01])\n",
    "ax.set_ylabel('Score')\n",
    "ax.set_xticks(ind+width)\n",
    "ax.set_xticklabels( x_labels )\n",
    "\n",
    "ax.text(ind[0], float(res_df[res_df.type=='nga']['Precision']),'+{0:.2f}'.format(-res_df.Precision.diff()[1]))\n",
    "ax.text(ind[1], float(res_df[res_df.type=='nga']['Recall']),'+{0:.2f}'.format(-res_df.Recall.diff()[1])) #+width/1.9\n",
    "ax.text(ind[2], float(res_df[res_df.type=='nga']['F1']),'+{0:.2f}'.format(-res_df.F1.diff()[1]))\n",
    "#ax.text(ind[3], float(res_df[res_df.type=='nga']['TNR']),'{0:.2f}'.format(res_df.TNR.diff()[1]))\n",
    "\n",
    "#ax.legend( (rects1[0], rects1[1]), ['nga','jgr'] , ncol=4, title='Features', loc='upper left')\n",
    "ax.legend()\n",
    "plt.savefig('figs/why_train_on_sm.png',dpi=300, bbox_inches='tight')"
   ]
  },
  {
   "cell_type": "code",
   "execution_count": 17,
   "id": "93951f5c-1dd5-45c7-9905-387b18b5ddf3",
   "metadata": {},
   "outputs": [],
   "source": [
    "fsize = 20\n",
    "tsize = 20\n",
    "tdir = 'in'\n",
    "major = 5.0\n",
    "minor = 3.0\n",
    "lwidth = 0.8\n",
    "lhandle = 2.0\n",
    "plt.style.use('default')\n",
    "plt.rcParams['text.usetex'] = False\n",
    "plt.rcParams['font.size'] = fsize\n",
    "plt.rcParams['legend.fontsize'] = fsize-3\n",
    "plt.rcParams['xtick.direction'] = tdir\n",
    "plt.rcParams['ytick.direction'] = tdir\n",
    "plt.rcParams['xtick.major.size'] = major\n",
    "plt.rcParams['xtick.minor.size'] = minor\n",
    "plt.rcParams['ytick.major.size'] = 5.0\n",
    "plt.rcParams['ytick.minor.size'] = 3.0\n",
    "plt.rcParams['axes.linewidth'] = lwidth\n",
    "plt.rcParams['legend.handlelength'] = lhandle"
   ]
  },
  {
   "cell_type": "code",
   "execution_count": 35,
   "id": "86e1f83e-45f7-4f87-892a-90726a98a859",
   "metadata": {},
   "outputs": [
    {
     "data": {
      "text/plain": [
       "<matplotlib.legend.Legend at 0x7f57db08a610>"
      ]
     },
     "execution_count": 35,
     "metadata": {},
     "output_type": "execute_result"
    },
    {
     "data": {
      "image/png": "[encoded data removed]",
      "text/plain": [
       "<Figure size 1000x600 with 1 Axes>"
      ]
     },
     "metadata": {},
     "output_type": "display_data"
    }
   ],
   "source": [
    "x_labels=['Precision','Recall','F1','Ambient TNR']\n",
    "colors=['#1b9e77','#7570b3']\n",
    "ind = np.arange(len(x_labels))  # the x locations for the groups\n",
    "width = 0.3       # the width of the bars\n",
    "\n",
    "fig = plt.figure(figsize=(10,6))\n",
    "ax = fig.add_subplot(111)\n",
    "rects=[]\n",
    "for i,(feature,label,color) in enumerate(zip(['nga','jgr'],['Trained on Augmented SM Catalog','Trained on GNSS Catalog'],colors)):\n",
    "    rects1=ax.bar(ind+width*i, res_df[res_df.type==feature][['Precision','Recall','F1','TNR']].values[0], width, label=label, color=color)\n",
    "    \n",
    "ax.set_ylim([0.65,1.01])\n",
    "ax.set_ylabel('Score')\n",
    "ax.set_xticks(ind+width)\n",
    "ax.set_xticklabels( x_labels )\n",
    "\n",
    "ax.text(ind[0], float(res_df[res_df.type=='nga']['Precision']),'+{0:.2f}'.format(-res_df.Precision.diff()[1]))\n",
    "ax.text(ind[1], float(res_df[res_df.type=='nga']['Recall']),'+{0:.2f}'.format(-res_df.Recall.diff()[1])) #+width/1.9\n",
    "ax.text(ind[2], float(res_df[res_df.type=='nga']['F1']),'+{0:.2f}'.format(-res_df.F1.diff()[1]))\n",
    "#ax.text(ind[3], float(res_df[res_df.type=='nga']['TNR']),'{0:.2f}'.format(res_df.TNR.diff()[1]))\n",
    "\n",
    "#ax.legend( (rects1[0], rects1[1]), ['nga','jgr'] , ncol=4, title='Features', loc='upper left')\n",
    "ax.legend()\n",
    "#plt.savefig('figs/why_train_on_sm.png',dpi=300, bbox_inches='tight')"
   ]
  },
  {
   "cell_type": "code",
   "execution_count": null,
   "id": "f9bfe43c-1172-464f-b38f-5b6e1c060f01",
   "metadata": {},
   "outputs": [],
   "source": []
  }
 ],
 "metadata": {
  "kernelspec": {
   "display_name": "Python 3 (ipykernel)",
   "language": "python",
   "name": "python3"
  },
  "language_info": {
   "codemirror_mode": {
    "name": "ipython",
    "version": 3
   },
   "file_extension": ".py",
   "mimetype": "text/x-python",
   "name": "python",
   "nbconvert_exporter": "python",
   "pygments_lexer": "ipython3",
   "version": "3.10.9"
  }
 },
 "nbformat": 4,
 "nbformat_minor": 5
}
