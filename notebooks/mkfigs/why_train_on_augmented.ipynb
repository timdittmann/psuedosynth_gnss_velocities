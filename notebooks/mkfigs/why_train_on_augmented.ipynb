{
 "cells": [
  {
   "cell_type": "code",
   "execution_count": null,
   "id": "a8c862e9-1a23-4469-9381-dd0d7891e2d1",
   "metadata": {},
   "outputs": [],
   "source": [
    "#!/usr/bin/env python3\n",
    "\n",
    "from itertools import product\n",
    "from collections import deque\n",
    "\n",
    "import os\n",
    "import pandas as pd\n",
    "import glob\n",
    "import numpy as np\n",
    "\n",
    "import datetime\n",
    "from scipy import signal\n",
    "import pywt\n",
    "\n",
    "import pyarrow as pa\n",
    "import pyarrow.parquet as pq\n",
    "import json\n",
    "\n",
    "import joblib\n",
    "\n",
    "from sklearn.ensemble import RandomForestClassifier\n",
    "from sklearn.metrics import precision_recall_fscore_support, f1_score\n",
    "from sklearn.metrics import precision_recall_curve\n",
    "from sklearn.metrics import accuracy_score\n",
    "from sklearn.metrics import confusion_matrix\n",
    "\n",
    "import matplotlib.pyplot as plt\n",
    "\n",
    "import os\n",
    "import sys\n",
    "sys.path.insert(0, os.path.abspath('../../bin/models'))\n",
    "\n",
    "from nested_xval_utils import *"
   ]
  },
  {
   "cell_type": "markdown",
   "id": "3b5a0d50-f600-4b45-8f20-bab8482e431e",
   "metadata": {},
   "source": [
    "# Strategy:\n",
    "\n",
    "Run nested cross validation on unavco gnss dataset.\n",
    "Limit unavco dataset to comparable events (<70km radius)\n",
    "\n",
    "for each run, train a model on just gnss data, and then compare the results with the complete model from the NGA dataset\n",
    "Report Pr, Recall, F1 for these 10 runs.\n",
    "\n",
    "Then train an overall model on the GNSS data.\n",
    "Compare with teh overall NGA model against an unseen ambient dataset."
   ]
  },
  {
   "cell_type": "code",
   "execution_count": null,
   "id": "03280b58-4882-41b8-b240-eb3a768ed583",
   "metadata": {},
   "outputs": [],
   "source": [
    "fsize = 15\n",
    "tsize = 18\n",
    "tdir = 'in'\n",
    "major = 5.0\n",
    "minor = 3.0\n",
    "lwidth = 0.8\n",
    "lhandle = 2.0\n",
    "plt.style.use('default')\n",
    "plt.rcParams['text.usetex'] = True\n",
    "plt.rcParams['font.size'] = fsize\n",
    "plt.rcParams['legend.fontsize'] = fsize-5\n",
    "plt.rcParams['xtick.direction'] = tdir\n",
    "plt.rcParams['ytick.direction'] = tdir\n",
    "plt.rcParams['xtick.major.size'] = major\n",
    "plt.rcParams['xtick.minor.size'] = minor\n",
    "plt.rcParams['ytick.major.size'] = 5.0\n",
    "plt.rcParams['ytick.minor.size'] = 3.0\n",
    "plt.rcParams['axes.linewidth'] = lwidth\n",
    "plt.rcParams['legend.handlelength'] = lhandle"
   ]
  },
  {
   "cell_type": "code",
   "execution_count": null,
   "id": "90f21add-05bc-4336-bbec-38e121c660dd",
   "metadata": {},
   "outputs": [],
   "source": [
    "#NGA SYNTHETIC DATA\n",
    "##############\n",
    "pq_list=os.listdir('../../data/feature_sets/')\n",
    "pq_list=[os.path.join('../../data/feature_sets/',f) for f in os.listdir('../../data/feature_sets/')]\n",
    "meta_list=[read_meta(pq_fs) for pq_fs in pq_list if \".pq\" in pq_fs]\n",
    "meta_df=pd.DataFrame.from_records(meta_list)\n",
    "\n",
    "######################\n",
    "ambient_list= list(meta_df[meta_df.magnitude.isnull()].eq_name.unique())\n",
    "event_list=meta_df[~meta_df.magnitude.isnull()].sort_values(['magnitude'], ascending=False).groupby(\"eq_name\").count().sort_values(['station'], ascending=False).index.tolist()\n",
    "full_list=ambient_list+event_list\n",
    "\n",
    "#convert to rsn\n",
    "full_list_nga=meta_df[meta_df.eq_name.isin(full_list)].record_number.unique()\n",
    "event_list_nga=meta_df[meta_df.eq_name.isin(event_list)].record_number.unique()\n",
    "\n",
    "## JGR GNSS DATA\n",
    "###############  Generate list of samples by event\n",
    "pq_list=[os.path.join('../../data/jgr_data/feature_set/',f) for f in os.listdir('../../data/jgr_data/feature_set/')]\n",
    "\n",
    "meta_list=[read_meta(pq_fs) for pq_fs in pq_list if \".pq\" in pq_fs]\n",
    "meta_df=pd.DataFrame.from_records(meta_list)\n",
    "\n",
    "#jgr_test=meta_df[(meta_df.radius_from_event<70) | (meta_df.radius_from_event==np.nan)]\n",
    "jgr_test=meta_df[(meta_df.radius_from_event<70) | (meta_df['radius_from_event'].isna())]"
   ]
  },
  {
   "cell_type": "markdown",
   "id": "634db34c-9619-4117-a638-2966b9c85dc3",
   "metadata": {},
   "source": [
    "### dataframes\n",
    "\n",
    "* jgr_test: all jgr real 5hz event featuresets plus ambient datasets\n",
    "* full_list_nga: all waveforms in nga list + ambient datasets\n",
    "* event_list_nga: all waveforms in nga list"
   ]
  },
  {
   "cell_type": "code",
   "execution_count": null,
   "id": "27f9f14c-6c79-4207-a7ea-a5dd1e81ddeb",
   "metadata": {},
   "outputs": [],
   "source": [
    "fs={'feature':['psd_t'], 'stacking':['horizontal'], 'dims':[['H0','H1','UP']], 'augment':[True]}\n",
    "feature_sets=[dict(zip(fs, v)) for v in product(*fs.values())]\n",
    "\n",
    "d = {'n_folds':[5],'max_depth': [50], 'n_estimators': [120], 'class_wt':[None, 'balanced'],'wl_thresh':[-30]}\n",
    "hyperp=[dict(zip(d, v)) for v in product(*d.values())]\n",
    "\n",
    "params=[i | feature_sets[0] for i in hyperp]"
   ]
  },
  {
   "cell_type": "code",
   "execution_count": null,
   "id": "5509e4c1-b83a-47dc-b26f-04c57bfd1023",
   "metadata": {},
   "outputs": [],
   "source": [
    "X_train_nga, y_train_nga, name_list_nga, times_nga, snr_metric=list_to_featurearrays(event_list_nga, params[0], test=False)"
   ]
  },
  {
   "cell_type": "code",
   "execution_count": null,
   "id": "176c50e5-ddf5-47a5-bca7-f126cf05d1ff",
   "metadata": {},
   "outputs": [],
   "source": [
    "#ordered event list to roughly distribute testing \n",
    "ambient_list= list(meta_df[meta_df.magnitude.isnull()].eventID.unique())\n",
    "event_list=jgr_test[~jgr_test.magnitude.isnull()].sort_values(['magnitude'], ascending=False).groupby(\"eventID\").count().sort_values(['station'], ascending=False).index.tolist()\n",
    "full_list=event_list#+ambient_list"
   ]
  },
  {
   "cell_type": "code",
   "execution_count": null,
   "id": "f52572c3-c8bc-47eb-b80b-c80fd32377e4",
   "metadata": {},
   "outputs": [],
   "source": [
    "full_list_df=jgr_test[jgr_test.eventID.isin(full_list)]\n",
    "\n",
    "#X_train_nga, y_train_nga, name_list_nga, times_nga, snr_metric=list_to_featurearrays(full_list_df, params[0], test=False)"
   ]
  },
  {
   "cell_type": "code",
   "execution_count": null,
   "id": "3cfa188a-2d38-4992-baf2-53b6868f85e5",
   "metadata": {},
   "outputs": [],
   "source": [
    "#for k in np.arange(num_runs):\n",
    "num_runs=10\n",
    "outer_results=[]\n",
    "\n",
    "y_nga_pred=[]\n",
    "y_nga_test=[]\n",
    "\n",
    "y_jgr_pred=[]\n",
    "y_jgr_test=[]\n",
    "for k in np.arange(10):\n",
    "    run=k+1\n",
    "    items = deque(full_list)\n",
    "    items.rotate(-k)\n",
    "    test_set=list(items)[::num_runs]\n",
    "    train_set=list(set(full_list) - set(test_set))\n",
    "    \n",
    "    test_set_df=jgr_test[jgr_test.eventID.isin(test_set)]\n",
    "    train_set_df=jgr_test[jgr_test.eventID.isin(train_set)]\n",
    "    \n",
    "    #for features in feature_sets:\n",
    "    for use_nga in [False,True]:\n",
    "\n",
    "        if not use_nga:\n",
    "            best_est_, stats=grid_search_jgr(train_set, params, X_train_nga, y_train_nga, jgr_test, include_nga=use_nga)\n",
    "            threshold=stats.threshold # Hyper Param from xval training\n",
    "\n",
    "            X_train, y_train, name_list, times, snr_metric=list_to_featurearrays_JGR(train_set_df, best_est_, test=True)\n",
    "\n",
    "            clf = RandomForestClassifier(n_estimators=best_est_['n_estimators'], max_depth=best_est_['max_depth'], class_weight=best_est_['class_wt'],random_state=10, n_jobs=-1).fit(X_train, y_train)\n",
    "        if use_nga:\n",
    "            threshold=.43#.38\n",
    "            clf = joblib.load('../../models/synth_model_all_%s.pkl' %int(threshold*100))\n",
    "\n",
    "        X_test, y_test, name_list, times, snr_metric=list_to_featurearrays_JGR(test_set_df, params[0], test=True)\n",
    "        y_pred_prob=clf.predict_proba(X_test)[:, 1]\n",
    "\n",
    "        y_pred = (y_pred_prob >= threshold).astype('int')\n",
    "        ###\n",
    "        # evaluate the model on test data\n",
    "        p, r, f1, blah=precision_recall_fscore_support(y_test, y_pred, average='binary')\n",
    "        print(p,r,f1)\n",
    "\n",
    "        from sklearn.metrics import precision_recall_curve\n",
    "        precisions, recalls, thresholds = precision_recall_curve(y_test, y_pred_prob)\n",
    "\n",
    "        # store the result\n",
    "        outer_results.append([p,r,f1,threshold, precisions, recalls, thresholds, y_test, y_pred_prob, best_est_, run, best_est_['feature'], test_set, use_nga])\n",
    "        # report progress\n",
    "        print('>f1=%.3f' % (f1)) \n",
    "        \n",
    "        if use_nga:\n",
    "            y_nga_pred.append(y_pred)\n",
    "            y_nga_test.append(y_test)\n",
    "        else:\n",
    "            y_jgr_pred.append(y_pred)\n",
    "            y_jgr_test.append(y_test)\n",
    "\n",
    "        #executionTime = (time.time() - startTime)\n",
    "        #print('Execution time in seconds: ' + str(executionTime))"
   ]
  },
  {
   "cell_type": "code",
   "execution_count": null,
   "id": "7733d278-d58e-480a-826c-31abf1919762",
   "metadata": {},
   "outputs": [],
   "source": [
    "results_df=pd.DataFrame(outer_results, \n",
    "                        columns=['precision','recall','f1','threshold', \n",
    "                                 'precisions', 'recalls', 'thresholds', \n",
    "                                 'y_test', 'y_pred_prob', 'best_est_', 'run', \n",
    "                                 'best_est_[feature]', 'test_set', 'use_nga'])"
   ]
  },
  {
   "cell_type": "code",
   "execution_count": null,
   "id": "febe2d6b-8bbc-435f-8cee-08a081db8cac",
   "metadata": {},
   "outputs": [],
   "source": [
    "res_df=[]\n",
    "for title,y_test, y_pred in zip(['nga','jgr'],[y_nga_test,y_jgr_test],[y_nga_pred, y_jgr_pred]):\n",
    "    y_test=np.concatenate( y_test, axis=0 )\n",
    "    y_pred=np.concatenate( y_pred, axis=0 )\n",
    "    p, r, f1, blah=precision_recall_fscore_support(y_test, y_pred, average='binary')\n",
    "    print(title,p, r, f1)\n",
    "    res_df.append([title,p, r, f1])"
   ]
  },
  {
   "cell_type": "code",
   "execution_count": null,
   "id": "6e43cdf4-f3d1-470e-bd59-cbe6eefa7b6d",
   "metadata": {},
   "outputs": [],
   "source": [
    "res_df=pd.DataFrame(res_df, columns=['type','Precision','Recall','F1'])"
   ]
  },
  {
   "cell_type": "code",
   "execution_count": null,
   "id": "07ab2123-8ca3-4af1-8269-637313d6787e",
   "metadata": {},
   "outputs": [],
   "source": [
    "res_df.to_parquet('../../data/results/jgr_v_nga_table.pq')"
   ]
  },
  {
   "cell_type": "code",
   "execution_count": null,
   "id": "4919b734-9ea2-454a-aef2-739424151162",
   "metadata": {},
   "outputs": [],
   "source": [
    "res_df=pd.read_parquet('../../data/results/jgr_v_nga_table.pq')"
   ]
  },
  {
   "cell_type": "code",
   "execution_count": null,
   "id": "957a6d5e-bff1-44f2-8985-1b08f163396d",
   "metadata": {},
   "outputs": [],
   "source": [
    "X_train_nga=y_train_nga=np.nan"
   ]
  },
  {
   "cell_type": "code",
   "execution_count": null,
   "id": "ee62aee9-80b9-4a5f-97f1-830f6fd0f983",
   "metadata": {},
   "outputs": [],
   "source": [
    "params[0]"
   ]
  },
  {
   "cell_type": "code",
   "execution_count": null,
   "id": "a0d5d359-0d35-47b1-990e-0c7136cf9b29",
   "metadata": {},
   "outputs": [],
   "source": [
    "# make overall model of JGR\n",
    "full_set=jgr_test[jgr_test.eventID.isin(full_list)]\n",
    "\n",
    "best_est_, stats=grid_search_jgr(full_list, params, X_train_nga, y_train_nga, jgr_test, include_nga=False)\n",
    "threshold=stats.threshold # Hyper Param from xval training\n",
    "#best_est_=params[0]\n",
    "#stats.threshold=0.4\n",
    "\n",
    "X_train, y_train, name_list, times, snr_metric=list_to_featurearrays_JGR(full_set, best_est_, test=True)\n",
    "\n",
    "clf = RandomForestClassifier(n_estimators=best_est_['n_estimators'], max_depth=best_est_['max_depth'], class_weight=best_est_['class_wt'],random_state=10, n_jobs=-1).fit(X_train, y_train)\n",
    "keep_thresh=str(int(100*stats.threshold))\n",
    "    \n",
    "joblib.dump(clf, '../../models/complete_JGR_model_%s.pkl' %keep_thresh)"
   ]
  },
  {
   "cell_type": "code",
   "execution_count": null,
   "id": "153aabcb-bc16-4857-a412-4a38b905acf9",
   "metadata": {},
   "outputs": [],
   "source": [
    "full_set=jgr_test[jgr_test.eventID.isin(full_list)]"
   ]
  },
  {
   "cell_type": "code",
   "execution_count": null,
   "id": "5e596245-d943-470b-9e42-73d885c17d41",
   "metadata": {},
   "outputs": [],
   "source": [
    "full_set"
   ]
  },
  {
   "cell_type": "code",
   "execution_count": null,
   "id": "657c897e-0e4f-41f0-a243-839a5a22a295",
   "metadata": {},
   "outputs": [],
   "source": [
    "X_train, y_train, name_list, times, snr_metric=list_to_featurearrays_JGR(full_set, best_est_, test=True)"
   ]
  },
  {
   "cell_type": "code",
   "execution_count": null,
   "id": "25810336-7eb6-4cf9-8fd4-79e985c65dbb",
   "metadata": {},
   "outputs": [],
   "source": [
    "fs_to_Xy(fold, params[2], True)"
   ]
  },
  {
   "cell_type": "code",
   "execution_count": null,
   "id": "e1ae84e6-0b35-4f63-b7a9-79d9f9e1fadd",
   "metadata": {},
   "outputs": [],
   "source": [
    "# Load in Ambient 2 set data\n",
    "# test each model - TNR"
   ]
  },
  {
   "cell_type": "code",
   "execution_count": null,
   "id": "cd010cc2-04b3-4903-adf3-da5b836c501e",
   "metadata": {},
   "outputs": [],
   "source": [
    "param=params[0]\n",
    "X_, y_, name_list, times, snr_metric=list_to_featurearrays_ambient_test(param, test=True)\n",
    "\n"
   ]
  },
  {
   "cell_type": "code",
   "execution_count": null,
   "id": "b5bf4b25-b332-4adc-93a7-850aa1002606",
   "metadata": {},
   "outputs": [],
   "source": [
    "tnr=[]\n",
    "#for ds,clf_n in zip(['nga','jgr'],['synth_model_all_39.pkl','complete_JGR_model_40.pkl']):j\n",
    "for ds,clf_n in zip(['nga','jgr'],['synth_model_all_43.pkl','complete_JGR_model_41.pkl']):\n",
    "    threshold=0.4\n",
    "    clf = joblib.load('../../models/'+clf_n)\n",
    "    y_pred_prob=clf.predict_proba(X_)[:, 1]\n",
    "    y_pred = (y_pred_prob >= threshold).astype('int')\n",
    "    \n",
    "    CM = confusion_matrix(y_, y_pred)\n",
    "\n",
    "    TN = CM[0][0]\n",
    "    FN = CM[1][0]\n",
    "    TP = CM[1][1]\n",
    "    FP = CM[0][1]\n",
    "    \n",
    "    FPR = FP/(FP+TN)\n",
    "   # Specificity or true negative rate\n",
    "    TNR = TN/(TN+FP)\n",
    "    \n",
    "    print(FPR,TNR)\n",
    "    tnr.append(TNR)\n"
   ]
  },
  {
   "cell_type": "code",
   "execution_count": null,
   "id": "c212ab74-23ee-4953-8f79-627092276461",
   "metadata": {},
   "outputs": [],
   "source": [
    "res_df['TNR']=tnr"
   ]
  },
  {
   "cell_type": "code",
   "execution_count": null,
   "id": "f6d4087b-aea1-4f0b-847f-28788623aac5",
   "metadata": {},
   "outputs": [],
   "source": [
    "x_labels=['Precision','Recall','F1','Ambient TNR']\n",
    "colors=['#1b9e77','#7570b3']\n",
    "ind = np.arange(len(x_labels))  # the x locations for the groups\n",
    "width = 0.3       # the width of the bars\n",
    "\n",
    "fig = plt.figure(figsize=(8,3))\n",
    "ax = fig.add_subplot(111)\n",
    "rects=[]\n",
    "for i,(feature,label,color) in enumerate(zip(['nga','jgr'],['Trained on Augmented SM Catalog','Trained on GNSS Catalog'],colors)):\n",
    "    rects1=ax.bar(ind+width*i, res_df[res_df.type==feature][['Precision','Recall','F1','TNR']].values[0], width, label=label, color=color)\n",
    "    \n",
    "ax.set_ylim([0.65,1.01])\n",
    "ax.set_ylabel('Score')\n",
    "ax.set_xticks(ind+width)\n",
    "ax.set_xticklabels( x_labels )\n",
    "\n",
    "ax.text(ind[0], float(res_df[res_df.type=='nga']['Precision']),'+{0:.2f}'.format(-res_df.Precision.diff()[1]))\n",
    "ax.text(ind[1], float(res_df[res_df.type=='nga']['Recall']),'+{0:.2f}'.format(-res_df.Recall.diff()[1])) #+width/1.9\n",
    "ax.text(ind[2], float(res_df[res_df.type=='nga']['F1']),'+{0:.2f}'.format(-res_df.F1.diff()[1]))\n",
    "#ax.text(ind[3], float(res_df[res_df.type=='nga']['TNR']),'{0:.2f}'.format(res_df.TNR.diff()[1]))\n",
    "\n",
    "#ax.legend( (rects1[0], rects1[1]), ['nga','jgr'] , ncol=4, title='Features', loc='upper left')\n",
    "ax.legend()\n",
    "#plt.savefig('figs/why_train_on_sm.png',dpi=300, bbox_inches='tight')"
   ]
  },
  {
   "cell_type": "code",
   "execution_count": null,
   "id": "93951f5c-1dd5-45c7-9905-387b18b5ddf3",
   "metadata": {},
   "outputs": [],
   "source": [
    "fsize = 20\n",
    "tsize = 20\n",
    "tdir = 'in'\n",
    "major = 5.0\n",
    "minor = 3.0\n",
    "lwidth = 0.8\n",
    "lhandle = 2.0\n",
    "plt.style.use('default')\n",
    "plt.rcParams['text.usetex'] = False\n",
    "plt.rcParams['font.size'] = fsize\n",
    "plt.rcParams['legend.fontsize'] = fsize-3\n",
    "plt.rcParams['xtick.direction'] = tdir\n",
    "plt.rcParams['ytick.direction'] = tdir\n",
    "plt.rcParams['xtick.major.size'] = major\n",
    "plt.rcParams['xtick.minor.size'] = minor\n",
    "plt.rcParams['ytick.major.size'] = 5.0\n",
    "plt.rcParams['ytick.minor.size'] = 3.0\n",
    "plt.rcParams['axes.linewidth'] = lwidth\n",
    "plt.rcParams['legend.handlelength'] = lhandle"
   ]
  },
  {
   "cell_type": "code",
   "execution_count": null,
   "id": "86e1f83e-45f7-4f87-892a-90726a98a859",
   "metadata": {},
   "outputs": [],
   "source": [
    "x_labels=['Precision','Recall','F1','Ambient TNR']\n",
    "colors=['#1b9e77','#7570b3']\n",
    "ind = np.arange(len(x_labels))  # the x locations for the groups\n",
    "width = 0.3       # the width of the bars\n",
    "\n",
    "fig = plt.figure(figsize=(10,6))\n",
    "ax = fig.add_subplot(111)\n",
    "rects=[]\n",
    "for i,(feature,label,color) in enumerate(zip(['nga','jgr'],['Trained on Augmented SM Catalog','Trained on GNSS Catalog'],colors)):\n",
    "    rects1=ax.bar(ind+width*i, res_df[res_df.type==feature][['Precision','Recall','F1','TNR']].values[0], width, label=label, color=color)\n",
    "    \n",
    "ax.set_ylim([0.65,1.01])\n",
    "ax.set_ylabel('Score')\n",
    "ax.set_xticks(ind+width)\n",
    "ax.set_xticklabels( x_labels )\n",
    "\n",
    "ax.text(ind[0], float(res_df[res_df.type=='nga']['Precision']),'+{0:.2f}'.format(-res_df.Precision.diff()[1]))\n",
    "ax.text(ind[1], float(res_df[res_df.type=='nga']['Recall']),'+{0:.2f}'.format(-res_df.Recall.diff()[1])) #+width/1.9\n",
    "ax.text(ind[2], float(res_df[res_df.type=='nga']['F1']),'+{0:.2f}'.format(-res_df.F1.diff()[1]))\n",
    "#ax.text(ind[3], float(res_df[res_df.type=='nga']['TNR']),'{0:.2f}'.format(res_df.TNR.diff()[1]))\n",
    "\n",
    "#ax.legend( (rects1[0], rects1[1]), ['nga','jgr'] , ncol=4, title='Features', loc='upper left')\n",
    "ax.legend()\n",
    "#plt.savefig('figs/why_train_on_sm.png',dpi=300, bbox_inches='tight')"
   ]
  },
  {
   "cell_type": "markdown",
   "id": "fdac920d-cc05-47ec-8069-543888adc447",
   "metadata": {
    "tags": []
   },
   "source": [
    "# get counts"
   ]
  },
  {
   "cell_type": "code",
   "execution_count": null,
   "id": "f6401642-d292-49bd-94f7-868005600c15",
   "metadata": {},
   "outputs": [],
   "source": [
    "#from nested_xval_utils import list_to_featurearrays\n",
    "\n",
    "import importlib\n",
    "importlib.reload(sys.modules['nested_xval_utils'])\n",
    "from nested_xval_utils import *"
   ]
  },
  {
   "cell_type": "code",
   "execution_count": null,
   "id": "b6d5fba8-9edd-4cce-9ce1-5d76bf27931d",
   "metadata": {},
   "outputs": [],
   "source": [
    "params[0]"
   ]
  },
  {
   "cell_type": "code",
   "execution_count": null,
   "id": "f1375b47-0180-41c5-b4c3-89dab6a6800c",
   "metadata": {},
   "outputs": [],
   "source": [
    "X_train_nga, y_train_nga, name_list_nga, times_nga, snr_metric=list_to_featurearrays(event_list_nga, params[0], test=False)"
   ]
  },
  {
   "cell_type": "code",
   "execution_count": null,
   "id": "de7994ca-4ebf-4883-a267-305e09ad318c",
   "metadata": {},
   "outputs": [],
   "source": [
    "y_train_nga"
   ]
  },
  {
   "cell_type": "code",
   "execution_count": null,
   "id": "4cb077ba-51d0-431d-9cce-39c2894d74d1",
   "metadata": {},
   "outputs": [],
   "source": [
    "first_t_idx=np.argmax(y_>0)\n",
    "first_t=times[first_t_idx]"
   ]
  },
  {
   "cell_type": "code",
   "execution_count": null,
   "id": "2007d86e-9f6c-4c3e-9a6e-3504377af5e9",
   "metadata": {},
   "outputs": [],
   "source": [
    "X_, y_, names, times, snr_metric=list_to_featurearrays([100], params[0], test=False)"
   ]
  },
  {
   "cell_type": "code",
   "execution_count": null,
   "id": "8241554b-c893-4601-bda2-52af69844731",
   "metadata": {},
   "outputs": [],
   "source": [
    "first_t"
   ]
  },
  {
   "cell_type": "code",
   "execution_count": null,
   "id": "aa2e1b7c-c1bd-4c47-a922-b3c2b89e789a",
   "metadata": {},
   "outputs": [],
   "source": [
    "times[np.argmax(y_>0)]"
   ]
  },
  {
   "cell_type": "code",
   "execution_count": null,
   "id": "051c66b3-0763-4a02-b410-26085f74f2fa",
   "metadata": {},
   "outputs": [],
   "source": [
    "np.argmax(y_train_nga>0)"
   ]
  },
  {
   "cell_type": "code",
   "execution_count": null,
   "id": "6af92385-ec2f-49b2-8291-acc79df8a81c",
   "metadata": {},
   "outputs": [],
   "source": [
    "jgr_test=meta_df[(meta_df.radius_from_event<70) | (meta_df['radius_from_event'].isna())]"
   ]
  },
  {
   "cell_type": "code",
   "execution_count": null,
   "id": "6f372abc-f740-4edb-b212-7e1d58eca898",
   "metadata": {},
   "outputs": [],
   "source": [
    "#Not ambient ones\n",
    "jgr_test2=meta_df[~meta_df['radius_from_event'].isna()]"
   ]
  },
  {
   "cell_type": "code",
   "execution_count": null,
   "id": "00a00fab-3a6e-46a1-ae6a-cc7e7a068b11",
   "metadata": {},
   "outputs": [],
   "source": [
    "X_train, y_train, name_list, times, snr_metric=list_to_featurearrays_JGR(jgr_test2, params[0], test=True)"
   ]
  },
  {
   "cell_type": "code",
   "execution_count": null,
   "id": "c8179f8b-5ce1-4a90-961c-6064b739f646",
   "metadata": {},
   "outputs": [],
   "source": [
    "X_train.shape"
   ]
  },
  {
   "cell_type": "code",
   "execution_count": null,
   "id": "9b0e6c1c-17fb-4dd6-a9d8-c1095cde6199",
   "metadata": {},
   "outputs": [],
   "source": [
    "jgr_test2=meta_df[meta_df['radius_from_event'].isna()]"
   ]
  },
  {
   "cell_type": "code",
   "execution_count": null,
   "id": "2cead709-b559-40d3-960b-ee021a2c1551",
   "metadata": {},
   "outputs": [],
   "source": [
    "jgr_test2"
   ]
  },
  {
   "cell_type": "code",
   "execution_count": null,
   "id": "d6324460-1507-47fd-a903-9b9d7c57484f",
   "metadata": {},
   "outputs": [],
   "source": [
    "test_set_df"
   ]
  },
  {
   "cell_type": "code",
   "execution_count": null,
   "id": "bbe1ea87-166a-49e2-8621-0996a49b4e44",
   "metadata": {},
   "outputs": [],
   "source": [
    "len(X_train)"
   ]
  },
  {
   "cell_type": "markdown",
   "id": "97ca6d80-8662-4219-bc28-ee6c999a7e97",
   "metadata": {},
   "source": [
    "# get array dimensions"
   ]
  },
  {
   "cell_type": "code",
   "execution_count": null,
   "id": "c547c419-22f7-4f81-a7cc-a360a9f5a31c",
   "metadata": {},
   "outputs": [],
   "source": [
    "num_runs=1\n",
    "outer_results=[]\n",
    "\n",
    "y_nga_pred=[]\n",
    "y_nga_test=[]\n",
    "\n",
    "y_jgr_pred=[]\n",
    "y_jgr_test=[]\n",
    "for k in np.arange(num_runs):\n",
    "    run=k+1\n",
    "    items = deque(full_list)\n",
    "    items.rotate(-k)\n",
    "    test_set=list(items)[::num_runs]\n",
    "    train_set=list(set(full_list) - set(test_set))\n",
    "    \n",
    "    test_set_df=jgr_test[jgr_test.eventID.isin(test_set)]\n",
    "    train_set_df=jgr_test[jgr_test.eventID.isin(train_set)]\n",
    "    \n",
    "    #for features in feature_sets:\n",
    "    for use_nga in [False]:\n",
    "\n",
    "        if not use_nga:\n",
    "            #params=[i | features for i in hyperp]\n",
    "\n",
    "            #best_est_, stats=grid_search_jgr(train_set, params, X_train_nga, y_train_nga, jgr_test, include_nga=use_nga)\n",
    "            #threshold=stats.threshold # Hyper Param from xval training\n",
    "            #best_est_=params[0]\n",
    "            #stats.threshold=0.4\n",
    "\n",
    "            X_train, y_train, name_list, times, snr_metric=list_to_featurearrays_JGR(test_set_df, params[0], test=True)\n"
   ]
  },
  {
   "cell_type": "code",
   "execution_count": null,
   "id": "f9bfe43c-1172-464f-b38f-5b6e1c060f01",
   "metadata": {},
   "outputs": [],
   "source": []
  }
 ],
 "metadata": {
  "kernelspec": {
   "display_name": "Python 3 (ipykernel)",
   "language": "python",
   "name": "python3"
  },
  "language_info": {
   "codemirror_mode": {
    "name": "ipython",
    "version": 3
   },
   "file_extension": ".py",
   "mimetype": "text/x-python",
   "name": "python",
   "nbconvert_exporter": "python",
   "pygments_lexer": "ipython3",
   "version": "3.10.0"
  }
 },
 "nbformat": 4,
 "nbformat_minor": 5
}
