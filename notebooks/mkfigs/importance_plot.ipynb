{
 "cells": [
  {
   "cell_type": "markdown",
   "id": "366fb2d8-425f-4510-ab73-dd05f3426a2a",
   "metadata": {},
   "source": [
    "Notebook to generate a figure to illustrate feature importances"
   ]
  },
  {
   "cell_type": "code",
   "execution_count": 1,
   "id": "0a9f5501-6296-45aa-89da-2f6f8026196c",
   "metadata": {},
   "outputs": [],
   "source": [
    "import pandas as pd\n",
    "import matplotlib.pyplot as plt\n",
    "\n",
    "#!/usr/bin/env python3\n",
    "\n",
    "from itertools import product\n",
    "from collections import deque\n",
    "\n",
    "import os\n",
    "import pandas as pd\n",
    "import glob\n",
    "import numpy as np\n",
    "\n",
    "import datetime\n",
    "from scipy import signal\n",
    "import pywt\n",
    "\n",
    "import pyarrow as pa\n",
    "import pyarrow.parquet as pq\n",
    "import json\n",
    "\n",
    "import joblib\n",
    "\n",
    "from sklearn.ensemble import RandomForestClassifier\n",
    "from sklearn.metrics import precision_recall_fscore_support, f1_score\n",
    "from sklearn.metrics import precision_recall_curve\n",
    "from sklearn.metrics import accuracy_score\n",
    "\n",
    "import matplotlib.pyplot as plt\n",
    "import sys\n",
    "\n",
    "import sys\n",
    " \n",
    "# adding Folder_2 to the system path\n",
    "sys.path.insert(0, '../../bin/models/')\n",
    "from nested_xval_utils import *"
   ]
  },
  {
   "cell_type": "code",
   "execution_count": 2,
   "id": "986ffaf5-9070-4a4d-a458-5444b8412133",
   "metadata": {},
   "outputs": [],
   "source": [
    "fsize = 15\n",
    "tsize = 18\n",
    "tdir = 'in'\n",
    "major = 5.0\n",
    "minor = 3.0\n",
    "lwidth = 0.8\n",
    "lhandle = 2.0\n",
    "plt.style.use('default')\n",
    "\n",
    "plt.rcParams['text.usetex'] = True\n",
    "plt.rcParams['font.size'] = fsize\n",
    "plt.rcParams['legend.fontsize'] = fsize-5\n",
    "plt.rcParams['xtick.direction'] = tdir\n",
    "plt.rcParams['ytick.direction'] = tdir\n",
    "plt.rcParams['xtick.major.size'] = major\n",
    "plt.rcParams['xtick.minor.size'] = minor\n",
    "plt.rcParams['ytick.major.size'] = 5.0\n",
    "plt.rcParams['ytick.minor.size'] = 3.0\n",
    "plt.rcParams['axes.linewidth'] = lwidth\n",
    "plt.rcParams['legend.handlelength'] = lhandle"
   ]
  },
  {
   "cell_type": "code",
   "execution_count": 3,
   "id": "41631098-dfb5-4383-860d-bc188fff4166",
   "metadata": {},
   "outputs": [],
   "source": [
    "fs={'feature':['psd_t'], 'stacking':['horizontal'], 'dims':[['H0','H1','UP']], 'augment':[True]}\n",
    "feature_sets=[dict(zip(fs, v)) for v in product(*fs.values())]\n",
    "\n",
    "#d = {'n_folds':[5],'max_depth': [50], 'n_estimators': [120], 'class_wt':[None],'wl_thresh':[0, 0.001,.005],}\n",
    "d = {'n_folds':[5],'max_depth': [100], 'n_estimators': [120], 'class_wt':[None, \"balanced_subsample\"],'wl_thresh':[0]}\n",
    "#d = {'n_folds':[5],'max_depth': [100], 'n_estimators': [500], 'class_wt':[None, \"balanced_subsample\"]}\n",
    "hyperp=[dict(zip(d, v)) for v in product(*d.values())]\n",
    "\n",
    "params=[i | feature_sets[0] for i in hyperp]"
   ]
  },
  {
   "cell_type": "code",
   "execution_count": 4,
   "id": "0d50e4d2-9280-41ea-ab22-6340ec6c0f97",
   "metadata": {},
   "outputs": [
    {
     "data": {
      "text/plain": [
       "[{'n_folds': 5,\n",
       "  'max_depth': 100,\n",
       "  'n_estimators': 120,\n",
       "  'class_wt': None,\n",
       "  'wl_thresh': 0,\n",
       "  'feature': 'psd_t',\n",
       "  'stacking': 'horizontal',\n",
       "  'dims': ['H0', 'H1', 'UP'],\n",
       "  'augment': True},\n",
       " {'n_folds': 5,\n",
       "  'max_depth': 100,\n",
       "  'n_estimators': 120,\n",
       "  'class_wt': 'balanced_subsample',\n",
       "  'wl_thresh': 0,\n",
       "  'feature': 'psd_t',\n",
       "  'stacking': 'horizontal',\n",
       "  'dims': ['H0', 'H1', 'UP'],\n",
       "  'augment': True}]"
      ]
     },
     "execution_count": 4,
     "metadata": {},
     "output_type": "execute_result"
    }
   ],
   "source": [
    "params"
   ]
  },
  {
   "cell_type": "code",
   "execution_count": 5,
   "id": "3a83763a-145c-4810-978a-db7a7463172a",
   "metadata": {},
   "outputs": [],
   "source": [
    "pq_list=[os.path.join('../../data/feature_sets/',f) for f in os.listdir(os.path.join( '../../data/feature_sets/'))]\n",
    "#pd_list=[pd.read_parquet(pq) for pq in pq_list if \".pq\" in pq]\n",
    "meta_list=[read_meta(pq_fs) for pq_fs in pq_list if \".pq\" in pq_fs]\n",
    "meta_df=pd.DataFrame.from_records(meta_list)\n",
    "\n",
    "\n",
    "######################\n",
    "ambient_list= list(meta_df[meta_df.magnitude.isnull()].eq_name.unique())\n",
    "event_list=meta_df[~meta_df.magnitude.isnull()].sort_values(['magnitude'], ascending=False).groupby(\"eq_name\").count().sort_values(['station'], ascending=False).index.tolist()\n",
    "full_list=ambient_list+event_list\n",
    "\n",
    "#convert to rsn\n",
    "full_list=meta_df[meta_df.eq_name.isin(full_list)].record_number.unique()"
   ]
  },
  {
   "cell_type": "code",
   "execution_count": 6,
   "id": "1c13cc89-83a4-40a5-bff5-9c404f6b023f",
   "metadata": {},
   "outputs": [],
   "source": [
    "X_train, y_train, name_list, times, snr_metric=list_to_featurearrays(full_list[:5], params[0], test=False)"
   ]
  },
  {
   "cell_type": "code",
   "execution_count": 7,
   "id": "1028b5eb-0ecf-43ce-9c53-9245e289fa45",
   "metadata": {},
   "outputs": [],
   "source": [
    "#add frequency information\n",
    "freq_array=np.array([30.        , 15.        , 10.        ,  7.5       ,  6.        ,\n",
    "        5.        ,  4.28571429,  3.75      ,  3.33333333,  3.        ,\n",
    "        2.72727273,  2.5       ,  2.30769231,  2.14285714,  2.        ,\n",
    "        1.875     ,  1.76470588,  1.66666667,  1.57894737,  1.5       ,\n",
    "        1.42857143,  1.36363636,  1.30434783,  1.25      ,  1.2       ,\n",
    "        1.15384615,  1.11111111,  1.07142857,  1.03448276])\n",
    "strings = [\"%.1fs\" % number for number in list(freq_array)]\n",
    "new_names=list(name_list[:6])+(strings)"
   ]
  },
  {
   "cell_type": "code",
   "execution_count": 8,
   "id": "b0d45afc-e0da-4e20-b964-06e16229cac4",
   "metadata": {},
   "outputs": [
    {
     "data": {
      "image/png": "[encoded data removed]",
      "text/plain": [
       "<Figure size 800x600 with 2 Axes>"
      ]
     },
     "metadata": {},
     "output_type": "display_data"
    }
   ],
   "source": [
    "fig,ax=plt.subplots(2, 1,figsize=(8,6))\n",
    "\n",
    "from matplotlib.patches import FancyBboxPatch\n",
    "import matplotlib.transforms as mtransforms\n",
    "\n",
    "#clf = joblib.load(os.path.join(os.path.dirname(os.getcwd()), 'data/model_all_40.pkl'))\n",
    "clf = joblib.load('../../models/synth_model_all_43.pkl')\n",
    "importances = list(clf.feature_importances_)\n",
    "important_len=int(len(importances)/3)\n",
    "val=35\n",
    "# Import matplotlib for plotting and use magic command for Jupyter Notebooks\n",
    "#import matplotlib.pyplot as plt\n",
    "#%matplotlib inline\n",
    "# Set the style\n",
    "#plt.style.use('fivethirtyeight')\n",
    "# list of x locations for plotting\n",
    "x_values = list(range(len(importances)))\n",
    "# Make a bar chart\n",
    "my_colors=['#1b9e77','#d95f02','#7570b3','#e7298a','#66a61e','#e6ab02']\n",
    "my_colors=['#1b9e77','#d95f02','#7570b3','#e7298a','#66a61e','#e6ab02']\n",
    "direcs=['East','North','Up']\n",
    "for i,color,direc in zip(np.arange(3),my_colors,direcs):\n",
    "    ax[0].axvspan(i*(important_len), i*(important_len)+6, alpha=0.25, color=my_colors[3])\n",
    "    ax[0].axvspan(i*(important_len)+6+29, i*(important_len)+6+29, alpha=0.25, color='grey')\n",
    "    ax[0].bar(x_values[i*important_len:i*important_len+important_len], importances[i*important_len:i*important_len+important_len],  color=color, label=direc)\n",
    "    \n",
    "    \n",
    "#ax[0].set_xlim([-1,248])\n",
    "ax[0].legend()\n",
    "\n",
    "#ax[0].fill_between(x, 0, 1, where=y > threshold,\n",
    "#                color='green', alpha=0.5, transform=ax.get_xaxis_transform())\n",
    "\n",
    "\n",
    "\n",
    "# Tick labels for x axis\n",
    "ax[0].set_xticks([])\n",
    "ax[0].set_ylabel('Importance')\n",
    "trans = mtransforms.ScaledTranslation(10/72, -5/72, fig.dpi_scale_trans)\n",
    "ax[0].text(0, 1.0, '(a)', transform=ax[0].transAxes + trans,\n",
    "            fontsize='medium', verticalalignment='top')\n",
    "\n",
    "i=1\n",
    "ax[1].axvspan(i*(important_len), i*(important_len)+6, alpha=0.25, color=my_colors[3])\n",
    "ax[1].axvspan(i*(important_len)+6+29, i*(important_len)+6+29, alpha=0.25, color='grey')\n",
    "ax[1].bar(x_values[i*important_len:i*important_len+val], importances[i*important_len:i*important_len+val], orientation = 'vertical', color=my_colors[i])\n",
    "ax[1].set_ylabel('Importance')\n",
    "\n",
    "ax[1].text(0, 1.0, '(b)', transform=ax[1].transAxes + trans,\n",
    "            fontsize='medium', verticalalignment='top')\n",
    "#ax[1].bar(x_values[80:105], importances[80:105], orientation = 'vertical')\n",
    "# Tick labels for x axis\n",
    "name_list2=['4th Max','3rd Max','2nd Max','** Max','Median','Mad', 'SNR','* 30s','* 15s','* 10s','* 7.5s','* 6s','* 5s','4.3s','3.8s','3.3s','3s','2.7s','2.5s', '2.3s']\n",
    "#ax[1].set_xticks(x_values[i*82:i*82+18], name_list[i*82:i*82+30], rotation='vertical')\n",
    "ax[1].set_xticks(x_values[i*important_len:(i+1)*important_len][::2], new_names[:important_len][::2], rotation='vertical')\n",
    "\n",
    "#ax[1].text(x_values[i*important_len]+20,0.015, '<<increasing frequency<<')\n",
    "t = ax[1].text(\n",
    "    x_values[i*important_len]+20,0.03, \"increasing frequency\", ha=\"center\", va=\"center\", rotation=0, size=12,\n",
    "    bbox=dict(boxstyle=\"rarrow,pad=0.3\", fc=\"white\", ec=\"b\", lw=1))\n",
    "'''\n",
    "t = ax[1].text(\n",
    "    x_values[i*important_len]+50+80,0.015, \"increasing scale\", ha=\"center\", va=\"center\", rotation=0, size=12,\n",
    "    bbox=dict(boxstyle=\"larrow,pad=0.3\", fc=\"white\", ec=\"b\", lw=2))\n",
    "\n",
    "'''\n",
    "\n",
    "from matplotlib.transforms import (\n",
    "    Bbox, TransformedBbox, blended_transform_factory)\n",
    "from mpl_toolkits.axes_grid1.inset_locator import (\n",
    "    BboxPatch, BboxConnector, BboxConnectorPatch)\n",
    "\n",
    "\n",
    "def connect_bbox(bbox1, bbox2,\n",
    "                 loc1a, loc2a, loc1b, loc2b,\n",
    "                 prop_lines, prop_patches=None):\n",
    "    if prop_patches is None:\n",
    "        prop_patches = {\n",
    "            **prop_lines,\n",
    "            \"alpha\": prop_lines.get(\"alpha\", 1) * 0.2,\n",
    "        }\n",
    "\n",
    "    c1 = BboxConnector(bbox1, bbox2, loc1=loc1a, loc2=loc2a, **prop_lines)\n",
    "    c1.set_clip_on(False)\n",
    "    c2 = BboxConnector(bbox1, bbox2, loc1=loc1b, loc2=loc2b, **prop_lines)\n",
    "    c2.set_clip_on(False)\n",
    "\n",
    "    bbox_patch1 = BboxPatch(bbox1, **prop_patches)\n",
    "    bbox_patch2 = BboxPatch(bbox2, **prop_patches)\n",
    "\n",
    "    p = BboxConnectorPatch(bbox1, bbox2,\n",
    "                           # loc1a=3, loc2a=2, loc1b=4, loc2b=1,\n",
    "                           loc1a=loc1a, loc2a=loc2a, loc1b=loc1b, loc2b=loc2b,\n",
    "                           **prop_patches)\n",
    "    p.set_clip_on(False)\n",
    "\n",
    "    return c1, c2, bbox_patch1, bbox_patch2, p\n",
    "\n",
    "\n",
    "def zoom_effect01(ax1, ax2, xmin, xmax, **kwargs):\n",
    "    \"\"\"\n",
    "    Connect *ax1* and *ax2*. The *xmin*-to-*xmax* range in both axes will\n",
    "    be marked.\n",
    "\n",
    "    Parameters\n",
    "    ----------\n",
    "    ax1\n",
    "        The main axes.\n",
    "    ax2\n",
    "        The zoomed axes.\n",
    "    xmin, xmax\n",
    "        The limits of the colored area in both plot axes.\n",
    "    **kwargs\n",
    "        Arguments passed to the patch constructor.\n",
    "    \"\"\"\n",
    "\n",
    "    trans1 = blended_transform_factory(ax1.transData, ax1.transAxes)\n",
    "    trans2 = blended_transform_factory(ax2.transData, ax2.transAxes)\n",
    "\n",
    "    bbox = Bbox.from_extents(xmin, 0, xmax, 1)\n",
    "\n",
    "    mybbox1 = TransformedBbox(bbox, trans1)\n",
    "    mybbox2 = TransformedBbox(bbox, trans2)\n",
    "\n",
    "    prop_patches = {**kwargs, \"color\":'#a6cee3',\"ec\": \"none\", \"alpha\": 0.1}\n",
    "\n",
    "    c1, c2, bbox_patch1, bbox_patch2, p = connect_bbox(\n",
    "        mybbox1, mybbox2,\n",
    "        loc1a=3, loc2a=2, loc1b=4, loc2b=1,\n",
    "        prop_lines=kwargs, prop_patches=prop_patches)\n",
    "\n",
    "    ax1.add_patch(bbox_patch1)\n",
    "    ax2.add_patch(bbox_patch2)\n",
    "    ax2.add_patch(c1)\n",
    "    ax2.add_patch(c2)\n",
    "    ax2.add_patch(p)\n",
    "\n",
    "    return c1, c2, bbox_patch1, bbox_patch2, p\n",
    "\n",
    "\n",
    "zoom_effect01(ax[0], ax[1], 35, 35+6+29)\n",
    "\n",
    "##################\n",
    "fig.tight_layout()\n",
    "#plt.savefig('figs/importances.png',dpi=300)\n",
    "plt.show()"
   ]
  },
  {
   "cell_type": "code",
   "execution_count": 16,
   "id": "e5ff252e-f352-4d16-b249-35b9389dfc46",
   "metadata": {},
   "outputs": [
    {
     "data": {
      "text/plain": [
       "0.15515679096630583"
      ]
     },
     "execution_count": 16,
     "metadata": {},
     "output_type": "execute_result"
    }
   ],
   "source": [
    "sum(importances[35:35+6])"
   ]
  },
  {
   "cell_type": "code",
   "execution_count": 17,
   "id": "77b153c2-da02-4b06-a607-22de628377e7",
   "metadata": {},
   "outputs": [
    {
     "data": {
      "text/plain": [
       "0.23858795698403715"
      ]
     },
     "execution_count": 17,
     "metadata": {},
     "output_type": "execute_result"
    }
   ],
   "source": [
    "sum(importances[35+6:70])"
   ]
  },
  {
   "cell_type": "code",
   "execution_count": 19,
   "id": "6ee807c6-6206-40d3-a6e3-fa90a40fa9cf",
   "metadata": {},
   "outputs": [
    {
     "data": {
      "text/plain": [
       "0.20577097262866034"
      ]
     },
     "execution_count": 19,
     "metadata": {},
     "output_type": "execute_result"
    }
   ],
   "source": [
    "sum(importances[:6])"
   ]
  },
  {
   "cell_type": "code",
   "execution_count": 18,
   "id": "83cf7674-fb8b-45e6-9539-b5ec191370ac",
   "metadata": {},
   "outputs": [
    {
     "data": {
      "text/plain": [
       "0.23226256626889066"
      ]
     },
     "execution_count": 18,
     "metadata": {},
     "output_type": "execute_result"
    }
   ],
   "source": [
    "sum(importances[6:35])"
   ]
  },
  {
   "cell_type": "code",
   "execution_count": null,
   "id": "b243e4d6-2ca1-4892-a3b8-1e191288fa11",
   "metadata": {},
   "outputs": [],
   "source": []
  }
 ],
 "metadata": {
  "kernelspec": {
   "display_name": "Python 3 (ipykernel)",
   "language": "python",
   "name": "python3"
  },
  "language_info": {
   "codemirror_mode": {
    "name": "ipython",
    "version": 3
   },
   "file_extension": ".py",
   "mimetype": "text/x-python",
   "name": "python",
   "nbconvert_exporter": "python",
   "pygments_lexer": "ipython3",
   "version": "3.10.0"
  }
 },
 "nbformat": 4,
 "nbformat_minor": 5
}
