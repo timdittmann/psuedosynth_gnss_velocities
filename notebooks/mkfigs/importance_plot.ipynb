{
 "cells": [
  {
   "cell_type": "code",
   "execution_count": 17,
   "id": "0a9f5501-6296-45aa-89da-2f6f8026196c",
   "metadata": {},
   "outputs": [],
   "source": [
    "import pandas as pd\n",
    "import matplotlib.pyplot as plt\n",
    "\n",
    "#!/usr/bin/env python3\n",
    "\n",
    "from itertools import product\n",
    "from collections import deque\n",
    "\n",
    "import os\n",
    "import pandas as pd\n",
    "import glob\n",
    "import numpy as np\n",
    "\n",
    "import datetime\n",
    "from scipy import signal\n",
    "import pywt\n",
    "\n",
    "import pyarrow as pa\n",
    "import pyarrow.parquet as pq\n",
    "import json\n",
    "\n",
    "import joblib\n",
    "\n",
    "from sklearn.ensemble import RandomForestClassifier\n",
    "from sklearn.metrics import precision_recall_fscore_support, f1_score\n",
    "from sklearn.metrics import precision_recall_curve\n",
    "from sklearn.metrics import accuracy_score\n",
    "\n",
    "import matplotlib.pyplot as plt\n",
    "import sys\n",
    "\n",
    "import sys\n",
    " \n",
    "# adding Folder_2 to the system path\n",
    "sys.path.insert(0, '../../bin/models/')\n",
    "from nested_xval_utils import *\n",
    "#from rfpimp import *"
   ]
  },
  {
   "cell_type": "code",
   "execution_count": null,
   "id": "d95b0dae-631b-46af-9f17-bdc7ac566461",
   "metadata": {},
   "outputs": [],
   "source": []
  },
  {
   "cell_type": "code",
   "execution_count": 18,
   "id": "986ffaf5-9070-4a4d-a458-5444b8412133",
   "metadata": {},
   "outputs": [],
   "source": [
    "fsize = 15\n",
    "tsize = 18\n",
    "tdir = 'in'\n",
    "major = 5.0\n",
    "minor = 3.0\n",
    "lwidth = 0.8\n",
    "lhandle = 2.0\n",
    "plt.style.use('default')\n",
    "\n",
    "plt.rcParams['text.usetex'] = True\n",
    "plt.rcParams['font.size'] = fsize\n",
    "plt.rcParams['legend.fontsize'] = fsize-5\n",
    "plt.rcParams['xtick.direction'] = tdir\n",
    "plt.rcParams['ytick.direction'] = tdir\n",
    "plt.rcParams['xtick.major.size'] = major\n",
    "plt.rcParams['xtick.minor.size'] = minor\n",
    "plt.rcParams['ytick.major.size'] = 5.0\n",
    "plt.rcParams['ytick.minor.size'] = 3.0\n",
    "plt.rcParams['axes.linewidth'] = lwidth\n",
    "plt.rcParams['legend.handlelength'] = lhandle"
   ]
  },
  {
   "cell_type": "code",
   "execution_count": 37,
   "id": "41631098-dfb5-4383-860d-bc188fff4166",
   "metadata": {},
   "outputs": [],
   "source": [
    "fs={'feature':['psd_t'], 'stacking':['horizontal'], 'dims':[['H0','H1','UP']], 'augment':[True]}\n",
    "feature_sets=[dict(zip(fs, v)) for v in product(*fs.values())]\n",
    "\n",
    "#d = {'n_folds':[5],'max_depth': [50], 'n_estimators': [120], 'class_wt':[None],'wl_thresh':[0, 0.001,.005],}\n",
    "d = {'n_folds':[5],'max_depth': [100], 'n_estimators': [120], 'class_wt':[None, \"balanced_subsample\"],'wl_thresh':[0]}\n",
    "#d = {'n_folds':[5],'max_depth': [100], 'n_estimators': [500], 'class_wt':[None, \"balanced_subsample\"]}\n",
    "hyperp=[dict(zip(d, v)) for v in product(*d.values())]\n",
    "\n",
    "params=[i | feature_sets[0] for i in hyperp]"
   ]
  },
  {
   "cell_type": "code",
   "execution_count": 38,
   "id": "0d50e4d2-9280-41ea-ab22-6340ec6c0f97",
   "metadata": {},
   "outputs": [
    {
     "data": {
      "text/plain": [
       "[{'n_folds': 5,\n",
       "  'max_depth': 100,\n",
       "  'n_estimators': 120,\n",
       "  'class_wt': None,\n",
       "  'wl_thresh': 0,\n",
       "  'feature': 'psd_t',\n",
       "  'stacking': 'horizontal',\n",
       "  'dims': ['H0', 'H1', 'UP'],\n",
       "  'augment': True},\n",
       " {'n_folds': 5,\n",
       "  'max_depth': 100,\n",
       "  'n_estimators': 120,\n",
       "  'class_wt': 'balanced_subsample',\n",
       "  'wl_thresh': 0,\n",
       "  'feature': 'psd_t',\n",
       "  'stacking': 'horizontal',\n",
       "  'dims': ['H0', 'H1', 'UP'],\n",
       "  'augment': True}]"
      ]
     },
     "execution_count": 38,
     "metadata": {},
     "output_type": "execute_result"
    }
   ],
   "source": [
    "params"
   ]
  },
  {
   "cell_type": "code",
   "execution_count": 15,
   "id": "3a83763a-145c-4810-978a-db7a7463172a",
   "metadata": {},
   "outputs": [],
   "source": [
    "pq_list=[os.path.join('../../data/feature_sets/',f) for f in os.listdir(os.path.join( '../../data/feature_sets/'))]\n",
    "#pd_list=[pd.read_parquet(pq) for pq in pq_list if \".pq\" in pq]\n",
    "meta_list=[read_meta(pq_fs) for pq_fs in pq_list if \".pq\" in pq_fs]\n",
    "meta_df=pd.DataFrame.from_records(meta_list)\n",
    "\n",
    "\n",
    "######################\n",
    "ambient_list= list(meta_df[meta_df.magnitude.isnull()].eq_name.unique())\n",
    "event_list=meta_df[~meta_df.magnitude.isnull()].sort_values(['magnitude'], ascending=False).groupby(\"eq_name\").count().sort_values(['station'], ascending=False).index.tolist()\n",
    "full_list=ambient_list+event_list\n",
    "\n",
    "#convert to rsn\n",
    "full_list=meta_df[meta_df.eq_name.isin(full_list)].record_number.unique()"
   ]
  },
  {
   "cell_type": "code",
   "execution_count": 39,
   "id": "1c13cc89-83a4-40a5-bff5-9c404f6b023f",
   "metadata": {},
   "outputs": [],
   "source": [
    "X_train, y_train, name_list, times, snr_metric=list_to_featurearrays(full_list[:5], params[0], test=False)"
   ]
  },
  {
   "cell_type": "code",
   "execution_count": 35,
   "id": "11d8aab6-8956-4baf-8270-ace6315461b3",
   "metadata": {},
   "outputs": [
    {
     "data": {
      "text/plain": [
       "array([212, 4134, 585, 4131, 513], dtype=object)"
      ]
     },
     "execution_count": 35,
     "metadata": {},
     "output_type": "execute_result"
    }
   ],
   "source": [
    "full_list[:5]"
   ]
  },
  {
   "cell_type": "code",
   "execution_count": 47,
   "id": "7bffc749-a33e-419a-9475-5298b483ff31",
   "metadata": {},
   "outputs": [
    {
     "data": {
      "text/plain": [
       "29"
      ]
     },
     "execution_count": 47,
     "metadata": {},
     "output_type": "execute_result"
    }
   ],
   "source": [
    "35-6"
   ]
  },
  {
   "cell_type": "code",
   "execution_count": 46,
   "id": "7e8f7967-4de4-4eb1-af0e-bf0f8b91efc6",
   "metadata": {},
   "outputs": [
    {
     "data": {
      "text/plain": [
       "array(['max1', 'max2', 'max3', 'max4', 'med', 'mad', 'H0_P0', 'H0_P1',\n",
       "       'H0_P2', 'H0_P3', 'H0_P4', 'H0_P5', 'H0_P6', 'H0_P7', 'H0_P8',\n",
       "       'H0_P9', 'H0_P10', 'H0_P11', 'H0_P12', 'H0_P13', 'H0_P14',\n",
       "       'H0_P15', 'H0_P16', 'H0_P17', 'H0_P18', 'H0_P19', 'H0_P20',\n",
       "       'H0_P21', 'H0_P22', 'H0_P23', 'H0_P24', 'H0_P25', 'H0_P26',\n",
       "       'H0_P27', 'H0_P28', 'max1', 'max2', 'max3', 'max4', 'med', 'mad',\n",
       "       'H1_P0', 'H1_P1', 'H1_P2', 'H1_P3', 'H1_P4', 'H1_P5', 'H1_P6',\n",
       "       'H1_P7', 'H1_P8', 'H1_P9', 'H1_P10', 'H1_P11', 'H1_P12', 'H1_P13',\n",
       "       'H1_P14', 'H1_P15', 'H1_P16', 'H1_P17', 'H1_P18', 'H1_P19',\n",
       "       'H1_P20', 'H1_P21', 'H1_P22', 'H1_P23', 'H1_P24', 'H1_P25',\n",
       "       'H1_P26', 'H1_P27', 'H1_P28', 'max1', 'max2', 'max3', 'max4',\n",
       "       'med', 'mad', 'UP_P0', 'UP_P1', 'UP_P2', 'UP_P3', 'UP_P4', 'UP_P5',\n",
       "       'UP_P6', 'UP_P7', 'UP_P8', 'UP_P9', 'UP_P10', 'UP_P11', 'UP_P12',\n",
       "       'UP_P13', 'UP_P14', 'UP_P15', 'UP_P16', 'UP_P17', 'UP_P18',\n",
       "       'UP_P19', 'UP_P20', 'UP_P21', 'UP_P22', 'UP_P23', 'UP_P24',\n",
       "       'UP_P25', 'UP_P26', 'UP_P27', 'UP_P28'], dtype='<U6')"
      ]
     },
     "execution_count": 46,
     "metadata": {},
     "output_type": "execute_result"
    }
   ],
   "source": [
    "name_list\n"
   ]
  },
  {
   "cell_type": "code",
   "execution_count": 45,
   "id": "4c3ab474-2acb-409a-9817-6464d6edaf08",
   "metadata": {},
   "outputs": [
    {
     "data": {
      "text/plain": [
       "91.0"
      ]
     },
     "execution_count": 45,
     "metadata": {},
     "output_type": "execute_result"
    }
   ],
   "source": [
    "182/2"
   ]
  },
  {
   "cell_type": "code",
   "execution_count": 53,
   "id": "b0d45afc-e0da-4e20-b964-06e16229cac4",
   "metadata": {},
   "outputs": [
    {
     "data": {
      "image/png": "[encoded data removed]",
      "text/plain": [
       "<Figure size 800x600 with 2 Axes>"
      ]
     },
     "metadata": {},
     "output_type": "display_data"
    }
   ],
   "source": [
    "fig,ax=plt.subplots(2, 1,figsize=(8,6))\n",
    "\n",
    "from matplotlib.patches import FancyBboxPatch\n",
    "import matplotlib.transforms as mtransforms\n",
    "\n",
    "#clf = joblib.load(os.path.join(os.path.dirname(os.getcwd()), 'data/model_all_40.pkl'))\n",
    "clf = joblib.load('../../models/synth_model_all_40.pkl')\n",
    "importances = list(clf.feature_importances_)\n",
    "important_len=int(len(importances)/3)\n",
    "val=35\n",
    "# Import matplotlib for plotting and use magic command for Jupyter Notebooks\n",
    "#import matplotlib.pyplot as plt\n",
    "#%matplotlib inline\n",
    "# Set the style\n",
    "#plt.style.use('fivethirtyeight')\n",
    "# list of x locations for plotting\n",
    "x_values = list(range(len(importances)))\n",
    "# Make a bar chart\n",
    "my_colors=['#1b9e77','#d95f02','#7570b3','#e7298a','#66a61e','#e6ab02']\n",
    "my_colors=['#1b9e77','#d95f02','#7570b3','#e7298a','#66a61e','#e6ab02']\n",
    "direcs=['East','North','Up']\n",
    "for i,color,direc in zip(np.arange(3),my_colors,direcs):\n",
    "    ax[0].axvspan(i*(important_len), i*(important_len)+6, alpha=0.25, color=my_colors[3])\n",
    "    ax[0].axvspan(i*(important_len)+6+29, i*(important_len)+6+29, alpha=0.25, color='grey')\n",
    "    ax[0].bar(x_values[i*important_len:i*important_len+important_len], importances[i*important_len:i*important_len+important_len],  color=color, label=direc)\n",
    "    \n",
    "    \n",
    "#ax[0].set_xlim([-1,248])\n",
    "ax[0].legend()\n",
    "\n",
    "#ax[0].fill_between(x, 0, 1, where=y > threshold,\n",
    "#                color='green', alpha=0.5, transform=ax.get_xaxis_transform())\n",
    "\n",
    "\n",
    "\n",
    "# Tick labels for x axis\n",
    "ax[0].set_xticks([])\n",
    "ax[0].set_ylabel('Importance')\n",
    "trans = mtransforms.ScaledTranslation(10/72, -5/72, fig.dpi_scale_trans)\n",
    "ax[0].text(0, 1.0, '(a)', transform=ax[0].transAxes + trans,\n",
    "            fontsize='medium', verticalalignment='top')\n",
    "\n",
    "i=1\n",
    "ax[1].axvspan(i*(important_len), i*(important_len)+6, alpha=0.25, color=my_colors[3])\n",
    "ax[1].axvspan(i*(important_len)+6+29, i*(important_len)+6+29, alpha=0.25, color='grey')\n",
    "ax[1].bar(x_values[i*important_len:i*important_len+val], importances[i*important_len:i*important_len+val], orientation = 'vertical', color=my_colors[i])\n",
    "ax[1].set_ylabel('Importance')\n",
    "\n",
    "ax[1].text(0, 1.0, '(b)', transform=ax[1].transAxes + trans,\n",
    "            fontsize='medium', verticalalignment='top')\n",
    "#ax[1].bar(x_values[80:105], importances[80:105], orientation = 'vertical')\n",
    "# Tick labels for x axis\n",
    "name_list2=['4th Max','3rd Max','2nd Max','** Max','Median','Mad', 'SNR','* 30s','* 15s','* 10s','* 7.5s','* 6s','* 5s','4.3s','3.8s','3.3s','3s','2.7s','2.5s', '2.3s']\n",
    "#ax[1].set_xticks(x_values[i*82:i*82+18], name_list[i*82:i*82+30], rotation='vertical')\n",
    "ax[1].set_xticks(x_values[i*important_len:i*important_len+val][::10], name_list[i*important_len:(i+1)*important_len][::10], rotation='vertical')\n",
    "'''\n",
    "#ax[1].text(x_values[i*important_len]+20,0.015, '<<increasing frequency<<')\n",
    "t = ax[1].text(\n",
    "    x_values[i*important_len]+50,0.015, \"increasing frequency\", ha=\"center\", va=\"center\", rotation=0, size=12,\n",
    "    bbox=dict(boxstyle=\"rarrow,pad=0.3\", fc=\"white\", ec=\"b\", lw=2))\n",
    "\n",
    "t = ax[1].text(\n",
    "    x_values[i*important_len]+50+80,0.015, \"increasing scale\", ha=\"center\", va=\"center\", rotation=0, size=12,\n",
    "    bbox=dict(boxstyle=\"larrow,pad=0.3\", fc=\"white\", ec=\"b\", lw=2))\n",
    "\n",
    "'''\n",
    "\n",
    "from matplotlib.transforms import (\n",
    "    Bbox, TransformedBbox, blended_transform_factory)\n",
    "from mpl_toolkits.axes_grid1.inset_locator import (\n",
    "    BboxPatch, BboxConnector, BboxConnectorPatch)\n",
    "\n",
    "\n",
    "def connect_bbox(bbox1, bbox2,\n",
    "                 loc1a, loc2a, loc1b, loc2b,\n",
    "                 prop_lines, prop_patches=None):\n",
    "    if prop_patches is None:\n",
    "        prop_patches = {\n",
    "            **prop_lines,\n",
    "            \"alpha\": prop_lines.get(\"alpha\", 1) * 0.2,\n",
    "        }\n",
    "\n",
    "    c1 = BboxConnector(bbox1, bbox2, loc1=loc1a, loc2=loc2a, **prop_lines)\n",
    "    c1.set_clip_on(False)\n",
    "    c2 = BboxConnector(bbox1, bbox2, loc1=loc1b, loc2=loc2b, **prop_lines)\n",
    "    c2.set_clip_on(False)\n",
    "\n",
    "    bbox_patch1 = BboxPatch(bbox1, **prop_patches)\n",
    "    bbox_patch2 = BboxPatch(bbox2, **prop_patches)\n",
    "\n",
    "    p = BboxConnectorPatch(bbox1, bbox2,\n",
    "                           # loc1a=3, loc2a=2, loc1b=4, loc2b=1,\n",
    "                           loc1a=loc1a, loc2a=loc2a, loc1b=loc1b, loc2b=loc2b,\n",
    "                           **prop_patches)\n",
    "    p.set_clip_on(False)\n",
    "\n",
    "    return c1, c2, bbox_patch1, bbox_patch2, p\n",
    "\n",
    "\n",
    "def zoom_effect01(ax1, ax2, xmin, xmax, **kwargs):\n",
    "    \"\"\"\n",
    "    Connect *ax1* and *ax2*. The *xmin*-to-*xmax* range in both axes will\n",
    "    be marked.\n",
    "\n",
    "    Parameters\n",
    "    ----------\n",
    "    ax1\n",
    "        The main axes.\n",
    "    ax2\n",
    "        The zoomed axes.\n",
    "    xmin, xmax\n",
    "        The limits of the colored area in both plot axes.\n",
    "    **kwargs\n",
    "        Arguments passed to the patch constructor.\n",
    "    \"\"\"\n",
    "\n",
    "    trans1 = blended_transform_factory(ax1.transData, ax1.transAxes)\n",
    "    trans2 = blended_transform_factory(ax2.transData, ax2.transAxes)\n",
    "\n",
    "    bbox = Bbox.from_extents(xmin, 0, xmax, 1)\n",
    "\n",
    "    mybbox1 = TransformedBbox(bbox, trans1)\n",
    "    mybbox2 = TransformedBbox(bbox, trans2)\n",
    "\n",
    "    prop_patches = {**kwargs, \"color\":'#a6cee3',\"ec\": \"none\", \"alpha\": 0.1}\n",
    "\n",
    "    c1, c2, bbox_patch1, bbox_patch2, p = connect_bbox(\n",
    "        mybbox1, mybbox2,\n",
    "        loc1a=3, loc2a=2, loc1b=4, loc2b=1,\n",
    "        prop_lines=kwargs, prop_patches=prop_patches)\n",
    "\n",
    "    ax1.add_patch(bbox_patch1)\n",
    "    ax2.add_patch(bbox_patch2)\n",
    "    ax2.add_patch(c1)\n",
    "    ax2.add_patch(c2)\n",
    "    ax2.add_patch(p)\n",
    "\n",
    "    return c1, c2, bbox_patch1, bbox_patch2, p\n",
    "\n",
    "\n",
    "zoom_effect01(ax[0], ax[1], 35, 35+6+29)\n",
    "\n",
    "##################\n",
    "fig.tight_layout()\n",
    "plt.savefig('figs/importances.png',dpi=300)\n",
    "plt.show()"
   ]
  },
  {
   "cell_type": "code",
   "execution_count": null,
   "id": "b8af132d-6fbd-46a2-ac3b-542970c52e98",
   "metadata": {},
   "outputs": [],
   "source": [
    "x_test=pd.DataFrame(X_train, columns=name_list)\n",
    "y_test=pd.DataFrame(y_train)"
   ]
  },
  {
   "cell_type": "code",
   "execution_count": null,
   "id": "7f9e6aa6-f2bc-4afc-9e68-29f1a50de826",
   "metadata": {},
   "outputs": [],
   "source": [
    "#df.groupby('year').case_status.value_counts().unstack(0).plot.barh()\n",
    "df.groupby('feature')[['precision','recall','f1']].mean().plot.bar()\n",
    "plt.ylim([0.6,1])\n",
    "plt.tight_layout()\n",
    "plt.savefig('figs/feature_bar.png',dpi=300)"
   ]
  },
  {
   "cell_type": "markdown",
   "id": "de1bfdad-590f-4a62-809d-e04043c7dbe5",
   "metadata": {},
   "source": [
    "# Importances"
   ]
  },
  {
   "cell_type": "code",
   "execution_count": 27,
   "id": "7074de15-1d32-45ee-8f49-89c967d8ed2e",
   "metadata": {},
   "outputs": [],
   "source": [
    "###############  Generate list of samples by event\n",
    "#pq_list=[os.path.join(os.path.dirname(os.getcwd()), 'data/feature_set/',f) \\\n",
    "#         for f in  os.listdir(os.path.join(os.path.dirname(os.getcwd()), 'data/feature_set/'))]\n",
    "\n",
    "pq_list=[os.path.join('../../../snivel/data/feature_set/',f) for f in os.listdir('../../../snivel/data/feature_set/')]\n",
    "meta_list=[read_meta(pq_fs) for pq_fs in pq_list if \".pq\" in pq_fs]\n",
    "meta_df=pd.DataFrame.from_records(meta_list)"
   ]
  },
  {
   "cell_type": "code",
   "execution_count": 28,
   "id": "b8403dd9-16d4-4f69-a6c3-39c1f70719b1",
   "metadata": {},
   "outputs": [],
   "source": [
    "fs={'feature':['all'], 'stacking':['horizontal'], 'dims':[['H0','H1','UP']], 'augment':[True]}\n",
    "feature_sets=[dict(zip(fs, v)) for v in product(*fs.values())]\n",
    "\n",
    "d = {'n_folds':[5],'max_depth': [100], 'n_estimators': [120], 'class_wt':[None],'wl_thresh':[0]}\n",
    "hyperp=[dict(zip(d, v)) for v in product(*d.values())]\n",
    "\n",
    "for features in feature_sets:\n",
    "    params=[i | features for i in hyperp]"
   ]
  },
  {
   "cell_type": "code",
   "execution_count": 30,
   "id": "095676f3-d0d4-4397-b602-e8bbd6ece868",
   "metadata": {},
   "outputs": [],
   "source": [
    "jgr_test=meta_df[(meta_df.radius_from_event<100) | (meta_df.radius_from_event==np.nan)]\n",
    "\n",
    "threshold=.4\n",
    "\n",
    "clf = joblib.load('../../models/synth_model_all_%s.pkl' %int(threshold*100))\n",
    "#clf = joblib.load('results/aug/model_run_1.pkl')\n",
    "\n",
    "X_test, y_test, name_list, times, snr_metric=list_to_featurearrays_JGR(jgr_test, params[0], test=True)"
   ]
  },
  {
   "cell_type": "code",
   "execution_count": 8,
   "id": "398d50eb-92d6-403c-a527-2e4bbec0e08c",
   "metadata": {},
   "outputs": [
    {
     "data": {
      "text/plain": [
       "35"
      ]
     },
     "execution_count": 8,
     "metadata": {},
     "output_type": "execute_result"
    }
   ],
   "source": [
    "important_len"
   ]
  },
  {
   "cell_type": "code",
   "execution_count": 34,
   "id": "beba4fe3-a6d7-48cd-968f-fba210e4834f",
   "metadata": {},
   "outputs": [
    {
     "data": {
      "text/plain": [
       "[0,\n",
       " 1,\n",
       " 2,\n",
       " 3,\n",
       " 4,\n",
       " 5,\n",
       " 6,\n",
       " 7,\n",
       " 8,\n",
       " 9,\n",
       " 10,\n",
       " 11,\n",
       " 12,\n",
       " 13,\n",
       " 14,\n",
       " 15,\n",
       " 16,\n",
       " 17,\n",
       " 18,\n",
       " 19,\n",
       " 20,\n",
       " 21,\n",
       " 22,\n",
       " 23,\n",
       " 24,\n",
       " 25,\n",
       " 26,\n",
       " 27,\n",
       " 28,\n",
       " 29,\n",
       " 30,\n",
       " 31,\n",
       " 32,\n",
       " 33,\n",
       " 34,\n",
       " 35,\n",
       " 36,\n",
       " 37,\n",
       " 38,\n",
       " 39,\n",
       " 40,\n",
       " 41,\n",
       " 42,\n",
       " 43,\n",
       " 44,\n",
       " 45,\n",
       " 46,\n",
       " 47,\n",
       " 48,\n",
       " 49,\n",
       " 50,\n",
       " 51,\n",
       " 52,\n",
       " 53,\n",
       " 54,\n",
       " 55,\n",
       " 56,\n",
       " 57,\n",
       " 58,\n",
       " 59,\n",
       " 60,\n",
       " 61,\n",
       " 62,\n",
       " 63,\n",
       " 64,\n",
       " 65,\n",
       " 66,\n",
       " 67,\n",
       " 68,\n",
       " 69,\n",
       " 70,\n",
       " 71,\n",
       " 72,\n",
       " 73,\n",
       " 74,\n",
       " 75,\n",
       " 76,\n",
       " 77,\n",
       " 78,\n",
       " 79,\n",
       " 80,\n",
       " 81,\n",
       " 82,\n",
       " 83,\n",
       " 84,\n",
       " 85,\n",
       " 86,\n",
       " 87,\n",
       " 88,\n",
       " 89,\n",
       " 90,\n",
       " 91,\n",
       " 92,\n",
       " 93,\n",
       " 94,\n",
       " 95,\n",
       " 96,\n",
       " 97,\n",
       " 98,\n",
       " 99,\n",
       " 100,\n",
       " 101,\n",
       " 102,\n",
       " 103,\n",
       " 104,\n",
       " 105,\n",
       " 106,\n",
       " 107,\n",
       " 108,\n",
       " 109,\n",
       " 110,\n",
       " 111,\n",
       " 112,\n",
       " 113,\n",
       " 114,\n",
       " 115,\n",
       " 116,\n",
       " 117,\n",
       " 118,\n",
       " 119,\n",
       " 120,\n",
       " 121,\n",
       " 122,\n",
       " 123,\n",
       " 124,\n",
       " 125,\n",
       " 126,\n",
       " 127,\n",
       " 128,\n",
       " 129,\n",
       " 130,\n",
       " 131,\n",
       " 132,\n",
       " 133,\n",
       " 134,\n",
       " 135,\n",
       " 136,\n",
       " 137,\n",
       " 138,\n",
       " 139,\n",
       " 140,\n",
       " 141,\n",
       " 142,\n",
       " 143,\n",
       " 144,\n",
       " 145,\n",
       " 146,\n",
       " 147,\n",
       " 148,\n",
       " 149,\n",
       " 150,\n",
       " 151,\n",
       " 152,\n",
       " 153,\n",
       " 154,\n",
       " 155,\n",
       " 156,\n",
       " 157,\n",
       " 158,\n",
       " 159,\n",
       " 160,\n",
       " 161,\n",
       " 162,\n",
       " 163,\n",
       " 164,\n",
       " 165,\n",
       " 166,\n",
       " 167,\n",
       " 168,\n",
       " 169,\n",
       " 170,\n",
       " 171,\n",
       " 172,\n",
       " 173,\n",
       " 174,\n",
       " 175,\n",
       " 176,\n",
       " 177,\n",
       " 178,\n",
       " 179,\n",
       " 180,\n",
       " 181]"
      ]
     },
     "execution_count": 34,
     "metadata": {},
     "output_type": "execute_result"
    }
   ],
   "source": [
    "x_values[i*important_len:i*important_len+important_len]"
   ]
  },
  {
   "cell_type": "code",
   "execution_count": null,
   "id": "fff59d07-e9e3-40b3-a8d4-c789b5d64c58",
   "metadata": {},
   "outputs": [],
   "source": []
  }
 ],
 "metadata": {
  "kernelspec": {
   "display_name": "Python 3 (ipykernel)",
   "language": "python",
   "name": "python3"
  },
  "language_info": {
   "codemirror_mode": {
    "name": "ipython",
    "version": 3
   },
   "file_extension": ".py",
   "mimetype": "text/x-python",
   "name": "python",
   "nbconvert_exporter": "python",
   "pygments_lexer": "ipython3",
   "version": "3.10.9"
  }
 },
 "nbformat": 4,
 "nbformat_minor": 5
}
